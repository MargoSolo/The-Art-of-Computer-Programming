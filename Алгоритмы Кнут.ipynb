{
 "cells": [
  {
   "cell_type": "markdown",
   "id": "1548dc05",
   "metadata": {},
   "source": [
    "Прошу вас, ради всего святого, сначала научитесь простому\n",
    "и только потом переходите к сложному.\n",
    "— ЭПИКТЕТ (EPICTETUS), Беседы IV.i"
   ]
  },
  {
   "cell_type": "markdown",
   "id": "746c3db6",
   "metadata": {},
   "source": [
    "В тексте показано, как взаимно заменить значения переменных m и n с помощью\n",
    "символа замены, а именно— полагая t ← m, m ← n, n ← t. Покажите, как в результате\n",
    "ряда замен можно преобразовать четверку переменных (a, b, c, d) в (b, c, d, a). Другими\n",
    "словами, новое значение переменной a должно стать равным первоначальному значению b\n",
    "и т. д. Постарайтесь выполнить преобразование с помощью минимального числа замен."
   ]
  },
  {
   "cell_type": "code",
   "execution_count": 2,
   "id": "618d09a8",
   "metadata": {},
   "outputs": [
    {
     "name": "stdout",
     "output_type": "stream",
     "text": [
      "b c d a\n"
     ]
    }
   ],
   "source": [
    "a, b, c, d = 'a', 'b', 'c', 'd'\n",
    "\n",
    "t = a\n",
    "a = b\n",
    "b = c\n",
    "c = d\n",
    "d = t\n",
    "\n",
    "print(a, b, c, d)  # Вывод: b c d a"
   ]
  },
  {
   "cell_type": "markdown",
   "id": "6015a4a1",
   "metadata": {},
   "source": [
    "Чему равен наибольший общий делитель чисел 2 166 и 6 099?"
   ]
  },
  {
   "cell_type": "code",
   "execution_count": 3,
   "id": "4b5808b8",
   "metadata": {},
   "outputs": [
    {
     "name": "stdout",
     "output_type": "stream",
     "text": [
      "Наибольший общий делитель: 57\n"
     ]
    }
   ],
   "source": [
    "def gcd(a, b):\n",
    "    while b:\n",
    "        a, b = b, a % b\n",
    "    return a\n",
    "\n",
    "num1 = 2166\n",
    "num2 = 6099\n",
    "\n",
    "result = gcd(num1, num2)\n",
    "print(\"Наибольший общий делитель:\", result)\n"
   ]
  },
  {
   "cell_type": "markdown",
   "id": "8543bc2c",
   "metadata": {},
   "source": [
    "Предположим, что C1 = (Q1, I1, Ω1, f1) и C2 = (Q2, I2, Ω2, f2) —методы вычис\u0002лений. Например, C1 может обозначать алгоритм E (см. формулу (2)) приусловии, что m\n",
    "и n ограничены по величине, а C2 —компьютерную программу, реализующую алгоритм E.\n",
    "(Тогда можно считать, что Q2 — это набор всех состояний машины, т. е. всех возможных\n",
    "конфигураций ее памяти и регистров, f2 определяет элементарную машинную операцию, а\n",
    "I2 — начальное состояние, которое включает программу определения наибольшего общего\n",
    "делителя, а также значения m и n.)"
   ]
  },
  {
   "cell_type": "code",
   "execution_count": 4,
   "id": "9f56ba76",
   "metadata": {},
   "outputs": [
    {
     "name": "stdout",
     "output_type": "stream",
     "text": [
      "C1: ['state1', 'state2', 'state3'] initial_state memory_configurations elementary_operation\n",
      "C2: ['stateA', 'stateB', 'stateC'] start_state machine_configurations machine_operation\n"
     ]
    }
   ],
   "source": [
    "# Определение C1 и C2\n",
    "class C1:\n",
    "    def __init__(self, Q1, I1, Ω1, f1):\n",
    "        self.Q1 = Q1\n",
    "        self.I1 = I1\n",
    "        self.Ω1 = Ω1\n",
    "        self.f1 = f1\n",
    "\n",
    "class C2:\n",
    "    def __init__(self, Q2, I2, Ω2, f2):\n",
    "        self.Q2 = Q2\n",
    "        self.I2 = I2\n",
    "        self.Ω2 = Ω2\n",
    "        self.f2 = f2\n",
    "\n",
    "# Пример использования C1 и C2\n",
    "Q1 = ['state1', 'state2', 'state3']\n",
    "I1 = 'initial_state'\n",
    "Ω1 = 'memory_configurations'\n",
    "f1 = 'elementary_operation'\n",
    "\n",
    "Q2 = ['stateA', 'stateB', 'stateC']\n",
    "I2 = 'start_state'\n",
    "Ω2 = 'machine_configurations'\n",
    "f2 = 'machine_operation'\n",
    "\n",
    "c1_instance = C1(Q1, I1, Ω1, f1)\n",
    "c2_instance = C2(Q2, I2, Ω2, f2)\n",
    "\n",
    "print(\"C1:\", c1_instance.Q1, c1_instance.I1, c1_instance.Ω1, c1_instance.f1)\n",
    "print(\"C2:\", c2_instance.Q2, c2_instance.I2, c2_instance.Ω2, c2_instance.f2)\n"
   ]
  },
  {
   "cell_type": "markdown",
   "id": "6571638c",
   "metadata": {},
   "source": [
    "1.2. МАТЕМАТИЧЕСКОЕ ВВЕДЕНИЕ"
   ]
  },
  {
   "cell_type": "markdown",
   "id": "b1e9d9bc",
   "metadata": {},
   "source": [
    "В этом разделе мы рассмотрим математические обозначения, используемые в кни\u0002ге Искусство программирования, и выведем основные формулы, которые будут часто\n",
    "применяться. Даже читатель, которого не интересуют сложные математические\n",
    "выкладки, должен понять смысл формул, чтобы иметь возможность пользоваться\n",
    "готовыми результатами. "
   ]
  },
  {
   "cell_type": "code",
   "execution_count": null,
   "id": "1093fd9b",
   "metadata": {},
   "outputs": [],
   "source": []
  },
  {
   "cell_type": "code",
   "execution_count": null,
   "id": "4af72cc4",
   "metadata": {},
   "outputs": [],
   "source": []
  },
  {
   "cell_type": "code",
   "execution_count": null,
   "id": "68133af5",
   "metadata": {},
   "outputs": [],
   "source": []
  },
  {
   "cell_type": "code",
   "execution_count": null,
   "id": "93a5f1a0",
   "metadata": {},
   "outputs": [],
   "source": []
  },
  {
   "cell_type": "code",
   "execution_count": null,
   "id": "61b18fd5",
   "metadata": {},
   "outputs": [],
   "source": []
  },
  {
   "cell_type": "code",
   "execution_count": null,
   "id": "c0c3cc7c",
   "metadata": {},
   "outputs": [],
   "source": []
  },
  {
   "cell_type": "code",
   "execution_count": null,
   "id": "852f642b",
   "metadata": {},
   "outputs": [],
   "source": []
  },
  {
   "cell_type": "code",
   "execution_count": null,
   "id": "2645e2c4",
   "metadata": {},
   "outputs": [],
   "source": []
  },
  {
   "cell_type": "code",
   "execution_count": null,
   "id": "b4f1f93c",
   "metadata": {},
   "outputs": [],
   "source": []
  },
  {
   "cell_type": "code",
   "execution_count": null,
   "id": "74bd3abc",
   "metadata": {},
   "outputs": [],
   "source": []
  },
  {
   "cell_type": "code",
   "execution_count": null,
   "id": "87d21bc8",
   "metadata": {},
   "outputs": [],
   "source": []
  },
  {
   "cell_type": "code",
   "execution_count": null,
   "id": "70e5a009",
   "metadata": {},
   "outputs": [],
   "source": []
  },
  {
   "cell_type": "code",
   "execution_count": null,
   "id": "156c4873",
   "metadata": {},
   "outputs": [],
   "source": []
  },
  {
   "cell_type": "code",
   "execution_count": null,
   "id": "2e3d48e9",
   "metadata": {},
   "outputs": [],
   "source": []
  },
  {
   "cell_type": "code",
   "execution_count": null,
   "id": "a9f85fe5",
   "metadata": {},
   "outputs": [],
   "source": []
  },
  {
   "cell_type": "code",
   "execution_count": null,
   "id": "e0603ac3",
   "metadata": {},
   "outputs": [],
   "source": []
  },
  {
   "cell_type": "code",
   "execution_count": null,
   "id": "164fa794",
   "metadata": {},
   "outputs": [],
   "source": []
  },
  {
   "cell_type": "code",
   "execution_count": null,
   "id": "95a416d7",
   "metadata": {},
   "outputs": [],
   "source": []
  },
  {
   "cell_type": "code",
   "execution_count": null,
   "id": "73329b4d",
   "metadata": {},
   "outputs": [],
   "source": []
  },
  {
   "cell_type": "code",
   "execution_count": null,
   "id": "a5f90694",
   "metadata": {},
   "outputs": [],
   "source": []
  }
 ],
 "metadata": {
  "kernelspec": {
   "display_name": "Python 3 (ipykernel)",
   "language": "python",
   "name": "python3"
  },
  "language_info": {
   "codemirror_mode": {
    "name": "ipython",
    "version": 3
   },
   "file_extension": ".py",
   "mimetype": "text/x-python",
   "name": "python",
   "nbconvert_exporter": "python",
   "pygments_lexer": "ipython3",
   "version": "3.9.7"
  }
 },
 "nbformat": 4,
 "nbformat_minor": 5
}
