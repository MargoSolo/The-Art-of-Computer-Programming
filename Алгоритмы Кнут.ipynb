{
 "cells": [
  {
   "cell_type": "markdown",
   "id": "0790131f",
   "metadata": {},
   "source": [
    "Прошу вас, ради всего святого, сначала научитесь простому\n",
    "и только потом переходите к сложному.\n",
    "— ЭПИКТЕТ (EPICTETUS), Беседы IV.i"
   ]
  },
  {
   "cell_type": "markdown",
   "id": "9bcec36a",
   "metadata": {},
   "source": [
    "В тексте показано, как взаимно заменить значения переменных m и n с помощью\n",
    "символа замены, а именно— полагая t ← m, m ← n, n ← t. Покажите, как в результате\n",
    "ряда замен можно преобразовать четверку переменных (a, b, c, d) в (b, c, d, a). Другими\n",
    "словами, новое значение переменной a должно стать равным первоначальному значению b\n",
    "и т. д. Постарайтесь выполнить преобразование с помощью минимального числа замен."
   ]
  },
  {
   "cell_type": "code",
   "execution_count": 2,
   "id": "96fd91a8",
   "metadata": {},
   "outputs": [
    {
     "name": "stdout",
     "output_type": "stream",
     "text": [
      "b c d a\n"
     ]
    }
   ],
   "source": [
    "a, b, c, d = 'a', 'b', 'c', 'd'\n",
    "\n",
    "t = a\n",
    "a = b\n",
    "b = c\n",
    "c = d\n",
    "d = t\n",
    "\n",
    "print(a, b, c, d)  # Вывод: b c d a"
   ]
  },
  {
   "cell_type": "code",
   "execution_count": null,
   "id": "ad90bc82",
   "metadata": {},
   "outputs": [],
   "source": []
  },
  {
   "cell_type": "code",
   "execution_count": null,
   "id": "32c62129",
   "metadata": {},
   "outputs": [],
   "source": []
  },
  {
   "cell_type": "code",
   "execution_count": 6,
   "id": "cae1c747",
   "metadata": {},
   "outputs": [
    {
     "data": {
      "image/png": "[encoded data removed]",
      "text/plain": [
       "<Figure size 432x288 with 1 Axes>"
      ]
     },
     "metadata": {
      "needs_background": "light"
     },
     "output_type": "display_data"
    }
   ],
   "source": [
    "import matplotlib.pyplot as plt\n",
    "import numpy as np\n",
    "\n",
    "# Генерируем данные для графика с коэффициентом корреляции -1\n",
    "x = np.arange(1, 11)  # Первая переменная\n",
    "y = 11 - x  # Вторая переменная с обратной зависимостью\n",
    "\n",
    "# Создаем график рассеяния\n",
    "plt.scatter(x, y)\n",
    "\n",
    "# Добавляем подписи к осям\n",
    "plt.xlabel('Переменная X')\n",
    "plt.ylabel('Переменная Y')\n",
    "\n",
    "# Отображаем график\n",
    "plt.show()\n"
   ]
  },
  {
   "cell_type": "code",
   "execution_count": 7,
   "id": "ec18f8fb",
   "metadata": {},
   "outputs": [
    {
     "data": {
      "image/png": "[encoded data removed]",
      "text/plain": [
       "<Figure size 432x288 with 1 Axes>"
      ]
     },
     "metadata": {
      "needs_background": "light"
     },
     "output_type": "display_data"
    }
   ],
   "source": [
    "import matplotlib.pyplot as plt\n",
    "import numpy as np\n",
    "\n",
    "# Генерируем данные для графика с коэффициентом корреляции -0.5\n",
    "np.random.seed(0)\n",
    "x = np.random.rand(50)  # Первая переменная\n",
    "y = -0.5 * x + np.random.rand(50)  # Вторая переменная с отрицательной линейной зависимостью\n",
    "\n",
    "# Создаем график рассеяния\n",
    "plt.scatter(x, y)\n",
    "\n",
    "# Добавляем подписи к осям\n",
    "plt.xlabel('Переменная X')\n",
    "plt.ylabel('Переменная Y')\n",
    "\n",
    "# Отображаем график\n",
    "plt.show()\n"
   ]
  },
  {
   "cell_type": "markdown",
   "id": "66eef459",
   "metadata": {},
   "source": [
    "Чему равен наибольший общий делитель чисел 2 166 и 6 099?"
   ]
  },
  {
   "cell_type": "code",
   "execution_count": null,
   "id": "0a05c2c2",
   "metadata": {},
   "outputs": [],
   "source": []
  },
  {
   "cell_type": "code",
   "execution_count": 3,
   "id": "4f93f506",
   "metadata": {},
   "outputs": [
    {
     "name": "stdout",
     "output_type": "stream",
     "text": [
      "Наибольший общий делитель: 57\n"
     ]
    }
   ],
   "source": [
    "def gcd(a, b):\n",
    "    while b:\n",
    "        a, b = b, a % b\n",
    "    return a\n",
    "\n",
    "num1 = 2166\n",
    "num2 = 6099\n",
    "\n",
    "result = gcd(num1, num2)\n",
    "print(\"Наибольший общий делитель:\", result)\n"
   ]
  },
  {
   "cell_type": "markdown",
   "id": "d49920ca",
   "metadata": {},
   "source": [
    "Предположим, что C1 = (Q1, I1, Ω1, f1) и C2 = (Q2, I2, Ω2, f2) —методы вычис\u0002лений. Например, C1 может обозначать алгоритм E (см. формулу (2)) приусловии, что m\n",
    "и n ограничены по величине, а C2 —компьютерную программу, реализующую алгоритм E.\n",
    "(Тогда можно считать, что Q2 — это набор всех состояний машины, т. е. всех возможных\n",
    "конфигураций ее памяти и регистров, f2 определяет элементарную машинную операцию, а\n",
    "I2 — начальное состояние, которое включает программу определения наибольшего общего\n",
    "делителя, а также значения m и n.)"
   ]
  },
  {
   "cell_type": "code",
   "execution_count": 4,
   "id": "326f9b89",
   "metadata": {},
   "outputs": [
    {
     "name": "stdout",
     "output_type": "stream",
     "text": [
      "C1: ['state1', 'state2', 'state3'] initial_state memory_configurations elementary_operation\n",
      "C2: ['stateA', 'stateB', 'stateC'] start_state machine_configurations machine_operation\n"
     ]
    }
   ],
   "source": [
    "# Определение C1 и C2\n",
    "class C1:\n",
    "    def __init__(self, Q1, I1, Ω1, f1):\n",
    "        self.Q1 = Q1\n",
    "        self.I1 = I1\n",
    "        self.Ω1 = Ω1\n",
    "        self.f1 = f1\n",
    "\n",
    "class C2:\n",
    "    def __init__(self, Q2, I2, Ω2, f2):\n",
    "        self.Q2 = Q2\n",
    "        self.I2 = I2\n",
    "        self.Ω2 = Ω2\n",
    "        self.f2 = f2\n",
    "\n",
    "# Пример использования C1 и C2\n",
    "Q1 = ['state1', 'state2', 'state3']\n",
    "I1 = 'initial_state'\n",
    "Ω1 = 'memory_configurations'\n",
    "f1 = 'elementary_operation'\n",
    "\n",
    "Q2 = ['stateA', 'stateB', 'stateC']\n",
    "I2 = 'start_state'\n",
    "Ω2 = 'machine_configurations'\n",
    "f2 = 'machine_operation'\n",
    "\n",
    "c1_instance = C1(Q1, I1, Ω1, f1)\n",
    "c2_instance = C2(Q2, I2, Ω2, f2)\n",
    "\n",
    "print(\"C1:\", c1_instance.Q1, c1_instance.I1, c1_instance.Ω1, c1_instance.f1)\n",
    "print(\"C2:\", c2_instance.Q2, c2_instance.I2, c2_instance.Ω2, c2_instance.f2)\n"
   ]
  },
  {
   "cell_type": "markdown",
   "id": "f3e65a7d",
   "metadata": {},
   "source": [
    "1.2. МАТЕМАТИЧЕСКОЕ ВВЕДЕНИЕ"
   ]
  },
  {
   "cell_type": "markdown",
   "id": "06fd3775",
   "metadata": {},
   "source": [
    "В этом разделе мы рассмотрим математические обозначения, используемые в кни\u0002ге Искусство программирования, и выведем основные формулы, которые будут часто\n",
    "применяться. Даже читатель, которого не интересуют сложные математические\n",
    "выкладки, должен понять смысл формул, чтобы иметь возможность пользоваться\n",
    "готовыми результатами. "
   ]
  },
  {
   "cell_type": "markdown",
   "id": "d3d570a8",
   "metadata": {},
   "source": [
    "Алгоритм I (Построить доказательство). Для заданного целого положительного\n",
    "числа n этот алгоритм (рис. 2) выдаст доказательство того, что утверждение P(n)\n",
    "верно"
   ]
  },
  {
   "cell_type": "code",
   "execution_count": 1,
   "id": "23dee465",
   "metadata": {},
   "outputs": [
    {
     "name": "stdout",
     "output_type": "stream",
     "text": [
      "Доказываем утверждение P(1)...\n",
      "Мы уже доказали, что если утверждения P(1),...,P(1) верны, то верно и P(2)...\n",
      "Мы уже доказали, что если утверждения P(1),...,P(2) верны, то верно и P(3)...\n",
      "Мы уже доказали, что если утверждения P(1),...,P(3) верны, то верно и P(4)...\n",
      "Мы уже доказали, что если утверждения P(1),...,P(4) верны, то верно и P(5)...\n",
      "Доказательство завершено для всех значений от 1 до 5\n"
     ]
    }
   ],
   "source": [
    "def proof_algorithm(n):\n",
    "    # Доказательство базового случая P(1)\n",
    "    k = 1\n",
    "    print(f\"Доказываем утверждение P({k})...\")  # Здесь будет ваш код для доказательства P(1)\n",
    "\n",
    "    while k <= n:\n",
    "        if k == n:\n",
    "            print(\"Доказательство завершено для всех значений от 1 до\", n)\n",
    "            break\n",
    "\n",
    "        # Доказательство индукционного перехода P(k) => P(k + 1)\n",
    "        print(f\"Мы уже доказали, что если утверждения P(1),...,P({k}) верны, то верно и P({k+1})...\")\n",
    "        k += 1\n",
    "\n",
    "# Пример использования для n = 5\n",
    "proof_algorithm(5)\n"
   ]
  },
  {
   "cell_type": "markdown",
   "id": "bec6594d",
   "metadata": {},
   "source": [
    "Алгоритм E (Обобщенный алгоритм Евклида). Даны два целых положительных\n",
    "числа m и n. Требуется найти их наибольший общий делитель* d и два целых числа\n",
    "a и b, таких, что am + bn = d."
   ]
  },
  {
   "cell_type": "code",
   "execution_count": 3,
   "id": "e648aeda",
   "metadata": {},
   "outputs": [
    {
     "name": "stdout",
     "output_type": "stream",
     "text": [
      "Введите первое число (m): 33\n",
      "Введите второе число (n): 5\n",
      "Наибольший общий делитель (33, 5) = 1\n",
      "Коэффициенты a и b для уравнения am + bn = d: a = 2, b = -13\n"
     ]
    }
   ],
   "source": [
    "def extended_gcd(m, n):\n",
    "    if n == 0:\n",
    "        return m, 1, 0\n",
    "\n",
    "    gcd, a_prev, b_prev = extended_gcd(n, m % n)\n",
    "    a = b_prev\n",
    "    b = a_prev - (m // n) * b_prev\n",
    "\n",
    "    return gcd, a, b\n",
    "\n",
    "def main():\n",
    "    m = int(input(\"Введите первое число (m): \"))\n",
    "    n = int(input(\"Введите второе число (n): \"))\n",
    "\n",
    "    gcd, a, b = extended_gcd(m, n)\n",
    "\n",
    "    print(f\"Наибольший общий делитель ({m}, {n}) = {gcd}\")\n",
    "    print(f\"Коэффициенты a и b для уравнения am + bn = d: a = {a}, b = {b}\")\n",
    "\n",
    "if __name__ == \"__main__\":\n",
    "    main()\n"
   ]
  },
  {
   "cell_type": "markdown",
   "id": "6c37f936",
   "metadata": {},
   "source": [
    "*В понимании теории программ\n",
    "большую помощь могут оказать один-два оператора,\n",
    "описывающих состояние машины в тщательно выбранные\n",
    "моменты времени ...\n",
    "Высшая форма теоретического метода — это\n",
    "предоставление для утверждений неопровержимых математических доказательств.\n",
    "А высшая форма экспериментального метода — это\n",
    "тестирование программы на машине для различных начальных условий\n",
    "и объявление ее годной, если утверждения выполняются в каждом случае.\n",
    "Каждый изметодов имеет свои недостатки.\n",
    "— А. М. ТЬЮРИНГ (A. M. TURING),\n",
    "Ferranti Mark I Programming Manual (1950)*"
   ]
  },
  {
   "cell_type": "markdown",
   "id": "b2c8f7ed",
   "metadata": {},
   "source": [
    "1. [05] Объясните, как можно модифицировать и дею доказательства методом математической индукции в случае, еслинекоторое утверждение P(n) нужно доказать для всех\n",
    "неотрицательных целых чисел, т. е. для n = 0, 1, 2, ... , а не для n = 1, 2, 3, ... ."
   ]
  },
  {
   "cell_type": "markdown",
   "id": "3ce7f52b",
   "metadata": {},
   "source": [
    "Когда требуется доказать утверждение для всех неотрицательных целых чисел (n = 0, 1, 2, ...), а не только для натуральных чисел (n = 1, 2, 3, ...), метод математической индукции все равно может быть использован, но необходимо немного модифицировать базовый случай и индукционный шаг. Вот как это можно сделать:\n",
    "\n",
    "Предположим, у нас есть утверждение P(n), которое мы хотим доказать для всех неотрицательных целых чисел n.\n",
    "\n",
    "Базовый случай: Докажем утверждение P(0), что является базовым случаем для неотрицательных целых чисел.\n",
    "\n",
    "Доказательство P(0) в соответствии с пунктом (a) из вашего описания.\n",
    "Индукционный переход: Для индукционного перехода нам нужно доказать, что если утверждение P(k) верно для некоторого неотрицательного целого числа k, то оно верно и для k + 1.\n",
    "\n",
    "Для пункта (b) из вашего описания нужно модифицировать его следующим образом: \"Согласно п. (b) выдать доказательство того, что 'Если утверждения P(0),...,P(k) справедливы, то P(k + 1) также справедливо'. Вывести фразу 'Мы уже доказали, что если утверждения P(0),...,P(k) верны, то верно и P(k + 1)'.\"\n",
    "Увеличение n: Продолжаем увеличивать n на 1 на каждом шаге индукции и доказываем, что утверждение P(n) верно для всех неотрицательных целых чисел.\n",
    "\n",
    "Итак, основное изменение заключается в том, что мы начинаем с базового случая P(0) и затем продолжаем индукцию по всем неотрицательным целым числам. Это позволяет нам охватить все значения n = 0, 1, 2, ... и доказать утверждение для всех неотрицательных целых чисел."
   ]
  },
  {
   "cell_type": "markdown",
   "id": "7ca68e6e",
   "metadata": {},
   "source": [
    "Найдите ошибку в следующем доказательстве. “Теорема. Пусть a— любое\n",
    "положительное число. Для всех целых положительных чисел n имеем an−1 = 1. Доказа\u0002тельство. Если n = 1, an−1 = a1−1 = a0 = 1. По индукции, предполагая, что теорема\n",
    "верна для 1, 2, ... , n, имеем\n",
    "a(n+1)−1 = an = an−1 × an−1\n",
    "a(n−1)−1 = 1 × 1\n",
    "1 = 1;\n",
    "следовательно, теорема верна также для n + 1.”"
   ]
  },
  {
   "cell_type": "markdown",
   "id": "7321e02a",
   "metadata": {},
   "source": [
    "Доказательство содержит ошибку. Проблема заключается в некорректном индукционном переходе. Позвольте мне объяснить, где именно возникает ошибка:\n",
    "\n",
    "В базовом случае (n = 1):\n",
    "Вы указали, что a^1 - 1 = a^0 = 1, что верно.\n",
    "\n",
    "Предположение индукции:\n",
    "Вы предполагаете, что теорема верна для всех целых положительных чисел от 1 до n.\n",
    "\n",
    "Индукционный шаг:\n",
    "Здесь возникает ошибка. Вы утверждаете:\n",
    "a^(n+1) - 1 = a^n = a^(n-1) * a^(n-1) = 1 * 1 = 1.\n",
    "\n",
    "Проблема заключается в том, что вы неверно применяете индукционное предположение. Вы не можете просто заменить a^n на a^(n-1) * a^(n-1), так как это противоречит предположению индукции. Ваше предположение было о том, что для всех k от 1 до n выполняется a^(k-1) = 1, а не a^k.\n",
    "\n",
    "Для доказательства данной теоремы вам потребуется другой подход или другая стратегия, так как индукция в данном случае не будет работать."
   ]
  },
  {
   "cell_type": "code",
   "execution_count": 4,
   "id": "954e6629",
   "metadata": {},
   "outputs": [
    {
     "name": "stdout",
     "output_type": "stream",
     "text": [
      "F(2) = 1 >= φ^0 = 1.0  ✓\n",
      "F(3) = 2 >= φ^1 = 1.618033988749895  ✓\n",
      "F(4) = 3 >= φ^2 = 2.618033988749895  ✓\n",
      "F(5) = 5 >= φ^3 = 4.23606797749979  ✓\n",
      "F(6) = 8 >= φ^4 = 6.854101966249686  ✓\n",
      "F(7) = 13 >= φ^5 = 11.090169943749476  ✓\n",
      "F(8) = 21 >= φ^6 = 17.944271909999163  ✓\n",
      "F(9) = 34 >= φ^7 = 29.03444185374864  ✓\n",
      "F(10) = 55 >= φ^8 = 46.978713763747805  ✓\n",
      "F(11) = 89 >= φ^9 = 76.01315561749645  ✓\n",
      "F(12) = 144 >= φ^10 = 122.99186938124426  ✓\n",
      "F(13) = 233 >= φ^11 = 199.0050249987407  ✓\n",
      "F(14) = 377 >= φ^12 = 321.996894379985  ✓\n",
      "F(15) = 610 >= φ^13 = 521.0019193787257  ✓\n",
      "F(16) = 987 >= φ^14 = 842.9988137587108  ✓\n",
      "F(17) = 1597 >= φ^15 = 1364.0007331374366  ✓\n",
      "F(18) = 2584 >= φ^16 = 2206.9995468961474  ✓\n",
      "F(19) = 4181 >= φ^17 = 3571.000280033584  ✓\n",
      "F(20) = 6765 >= φ^18 = 5777.999826929732  ✓\n"
     ]
    }
   ],
   "source": [
    "def fibonacci(n):\n",
    "    if n == 0:\n",
    "        return 0\n",
    "    elif n == 1:\n",
    "        return 1\n",
    "    else:\n",
    "        fib = [0, 1]\n",
    "        for i in range(2, n + 1):\n",
    "            fib.append(fib[i - 1] + fib[i - 2])\n",
    "        return fib[n]\n",
    "\n",
    "def phi_power(n):\n",
    "    phi = (1 + 5 ** 0.5) / 2\n",
    "    return phi ** (n - 2)\n",
    "\n",
    "def prove_fibonacci_inequality():\n",
    "    for n in range(2, 21):  # Проверим для n = 2 до 20\n",
    "        fib_n = fibonacci(n)\n",
    "        phi_n_minus_2 = phi_power(n)\n",
    "        if fib_n >= phi_n_minus_2:\n",
    "            print(f\"F({n}) = {fib_n} >= φ^{n-2} = {phi_n_minus_2}  ✓\")\n",
    "        else:\n",
    "            print(f\"F({n}) = {fib_n} < φ^{n-2} = {phi_n_minus_2}  ✗\")\n",
    "\n",
    "prove_fibonacci_inequality()\n"
   ]
  },
  {
   "cell_type": "markdown",
   "id": "505f6af6",
   "metadata": {},
   "source": [
    "Простое число — это целое чи сло, большее единицы, которое делится только\n",
    "на 1 и на само себя. Используя данное определение и метод математической индукции,\n",
    "докажите, что любое целое число, большее единицы, можно записать как произведение\n",
    "одного или нескольких простых чисел. (Для удобства будем считать, что простое число—\n",
    "это “произведение” одного простого числа, т. е. его самого.)"
   ]
  },
  {
   "cell_type": "code",
   "execution_count": 5,
   "id": "4720720e",
   "metadata": {},
   "outputs": [
    {
     "name": "stdout",
     "output_type": "stream",
     "text": [
      "2 is prime. Prime factorization: 2\n",
      "3 is prime. Prime factorization: 3\n",
      "4 = 2 * 2\n",
      "5 is prime. Prime factorization: 5\n",
      "6 = 2 * 3\n",
      "7 is prime. Prime factorization: 7\n",
      "8 = 2 * 2 * 2\n",
      "9 = 3 * 3\n",
      "10 = 2 * 5\n",
      "11 is prime. Prime factorization: 11\n",
      "12 = 2 * 2 * 3\n",
      "13 is prime. Prime factorization: 13\n",
      "14 = 2 * 7\n",
      "15 = 3 * 5\n",
      "16 = 2 * 2 * 2 * 2\n",
      "17 is prime. Prime factorization: 17\n",
      "18 = 2 * 3 * 3\n",
      "19 is prime. Prime factorization: 19\n",
      "20 = 2 * 2 * 5\n"
     ]
    }
   ],
   "source": [
    "def is_prime(n):\n",
    "    if n <= 1:\n",
    "        return False\n",
    "    if n <= 3:\n",
    "        return True\n",
    "    if n % 2 == 0 or n % 3 == 0:\n",
    "        return False\n",
    "    i = 5\n",
    "    while i * i <= n:\n",
    "        if n % i == 0 or n % (i + 2) == 0:\n",
    "            return False\n",
    "        i += 6\n",
    "    return True\n",
    "\n",
    "def prime_factorization(n):\n",
    "    factors = []\n",
    "    if n == 1:\n",
    "        return factors\n",
    "\n",
    "    divisor = 2\n",
    "    while n > 1:\n",
    "        while n % divisor == 0:\n",
    "            factors.append(divisor)\n",
    "            n //= divisor\n",
    "        divisor += 1\n",
    "\n",
    "    return factors\n",
    "\n",
    "def prove_prime_factorization():\n",
    "    for n in range(2, 21):\n",
    "        if is_prime(n):\n",
    "            print(f\"{n} is prime. Prime factorization: {n}\")\n",
    "        else:\n",
    "            factors = prime_factorization(n)\n",
    "            factors_str = \" * \".join(map(str, factors))\n",
    "            print(f\"{n} = {factors_str}\")\n",
    "\n",
    "prove_prime_factorization()\n"
   ]
  },
  {
   "cell_type": "code",
   "execution_count": null,
   "id": "b89f1823",
   "metadata": {},
   "outputs": [],
   "source": []
  },
  {
   "cell_type": "code",
   "execution_count": 6,
   "id": "b82bfc20",
   "metadata": {},
   "outputs": [
    {
     "name": "stdout",
     "output_type": "stream",
     "text": [
      "Соотношения (6) верны перед выполнением шага E4: ['Соотношение 1', 'Соотношение 2', 'Соотношение 3']\n",
      "Соотношения (6) перестали быть верными после выполнения шага E4.\n"
     ]
    }
   ],
   "source": [
    "def prove_relationships(before_E4, after_E4):\n",
    "    # Предположим, что соотношения (6) верны перед выполнением шага E4\n",
    "    print(\"Соотношения (6) верны перед выполнением шага E4:\", before_E4)\n",
    "\n",
    "    # Докажем, что они остаются верны после выполнения шага E4\n",
    "    after_E4_proof = True\n",
    "    for relation in after_E4:\n",
    "        if relation not in before_E4:\n",
    "            after_E4_proof = False\n",
    "            break\n",
    "\n",
    "    if after_E4_proof:\n",
    "        print(\"Соотношения (6) верны и после выполнения шага E4.\")\n",
    "    else:\n",
    "        print(\"Соотношения (6) перестали быть верными после выполнения шага E4.\")\n",
    "\n",
    "# Задайте соотношения (6) перед и после шага E4\n",
    "before_E4_relationships = [\"Соотношение 1\", \"Соотношение 2\", \"Соотношение 3\"]\n",
    "after_E4_relationships = [\"Соотношение 1\", \"Соотношение 2\", \"Соотношение 3\", \"Соотношение 4\"]\n",
    "\n",
    "prove_relationships(before_E4_relationships, after_E4_relationships)\n"
   ]
  },
  {
   "cell_type": "markdown",
   "id": "825a49c7",
   "metadata": {},
   "source": [
    "Докажите по индукции следующую теорему Никомаха (Nicomachus) (ок. 100 г.\n",
    "н. э.): 13 = 1, 23 = 3+5, 33 = 7+9+11, 43 = 13+15+17+19 и т. д.* (b) Воспользуйтесь этим\n",
    "результатом для доказательства замечательной формулы 13+23+···+n3 = (1+2+···+n)\n",
    "2.\n",
    "[Замечание. Интересная геометрическаяинтерпретация этой формулы, предложенная ав\u0002тору Р. В. Флойдом, показана на рис. 5. Идея этого построения связана с теоремой Ни\u0002комаха ирис. 3. Другие “наглядные” доказательства можно найтив книгах Мартина\n",
    "Гарднера (Martin Gardner), Knotted Doughnuts (New York: Freeman, 1986), Chapter 16,\n",
    "а также J. H. Conway, R. K. Guy, The Book of Numbers (New York: Copernicus, 1996),\n",
    "Chapter 2.]"
   ]
  },
  {
   "cell_type": "code",
   "execution_count": 7,
   "id": "2100ce03",
   "metadata": {},
   "outputs": [
    {
     "name": "stdout",
     "output_type": "stream",
     "text": [
      "Введите n: 44\n",
      "Теорема Никомаха верна для n = 44.\n"
     ]
    }
   ],
   "source": [
    "def sum_of_cubes(n):\n",
    "    return sum([i ** 3 for i in range(1, n + 1)])\n",
    "\n",
    "def sum_of_numbers(n):\n",
    "    return sum(range(1, n + 1))\n",
    "\n",
    "def prove_nicomachus_theorem(n):\n",
    "    lhs = sum_of_cubes(n)\n",
    "    rhs = sum_of_numbers(n) ** 2\n",
    "\n",
    "    if lhs == rhs:\n",
    "        return True\n",
    "    else:\n",
    "        return False\n",
    "\n",
    "n = int(input(\"Введите n: \"))\n",
    "result = prove_nicomachus_theorem(n)\n",
    "\n",
    "if result:\n",
    "    print(f\"Теорема Никомаха верна для n = {n}.\")\n",
    "else:\n",
    "    print(f\"Теорема Никомаха не верна для n = {n}.\")\n"
   ]
  },
  {
   "cell_type": "markdown",
   "id": "64d76c13",
   "metadata": {},
   "source": [
    "Докажите по индукции, что если 0 <a< 1, то (1 − a)\n",
    "n ≥ 1 − na."
   ]
  },
  {
   "cell_type": "code",
   "execution_count": 9,
   "id": "328ddfda",
   "metadata": {},
   "outputs": [
    {
     "name": "stdout",
     "output_type": "stream",
     "text": [
      "Enter a (0 < a < 1): 0.5\n",
      "Enter n: 55\n",
      "For k = 1, (1 - a)^1 >= 1 - 1a ✓\n",
      "For k = 2, (1 - a)^2 >= 1 - 2a ✓\n",
      "For k = 3, (1 - a)^3 >= 1 - 3a ✓\n",
      "For k = 4, (1 - a)^4 >= 1 - 4a ✓\n",
      "For k = 5, (1 - a)^5 >= 1 - 5a ✓\n",
      "For k = 6, (1 - a)^6 >= 1 - 6a ✓\n",
      "For k = 7, (1 - a)^7 >= 1 - 7a ✓\n",
      "For k = 8, (1 - a)^8 >= 1 - 8a ✓\n",
      "For k = 9, (1 - a)^9 >= 1 - 9a ✓\n",
      "For k = 10, (1 - a)^10 >= 1 - 10a ✓\n",
      "For k = 11, (1 - a)^11 >= 1 - 11a ✓\n",
      "For k = 12, (1 - a)^12 >= 1 - 12a ✓\n",
      "For k = 13, (1 - a)^13 >= 1 - 13a ✓\n",
      "For k = 14, (1 - a)^14 >= 1 - 14a ✓\n",
      "For k = 15, (1 - a)^15 >= 1 - 15a ✓\n",
      "For k = 16, (1 - a)^16 >= 1 - 16a ✓\n",
      "For k = 17, (1 - a)^17 >= 1 - 17a ✓\n",
      "For k = 18, (1 - a)^18 >= 1 - 18a ✓\n",
      "For k = 19, (1 - a)^19 >= 1 - 19a ✓\n",
      "For k = 20, (1 - a)^20 >= 1 - 20a ✓\n",
      "For k = 21, (1 - a)^21 >= 1 - 21a ✓\n",
      "For k = 22, (1 - a)^22 >= 1 - 22a ✓\n",
      "For k = 23, (1 - a)^23 >= 1 - 23a ✓\n",
      "For k = 24, (1 - a)^24 >= 1 - 24a ✓\n",
      "For k = 25, (1 - a)^25 >= 1 - 25a ✓\n",
      "For k = 26, (1 - a)^26 >= 1 - 26a ✓\n",
      "For k = 27, (1 - a)^27 >= 1 - 27a ✓\n",
      "For k = 28, (1 - a)^28 >= 1 - 28a ✓\n",
      "For k = 29, (1 - a)^29 >= 1 - 29a ✓\n",
      "For k = 30, (1 - a)^30 >= 1 - 30a ✓\n",
      "For k = 31, (1 - a)^31 >= 1 - 31a ✓\n",
      "For k = 32, (1 - a)^32 >= 1 - 32a ✓\n",
      "For k = 33, (1 - a)^33 >= 1 - 33a ✓\n",
      "For k = 34, (1 - a)^34 >= 1 - 34a ✓\n",
      "For k = 35, (1 - a)^35 >= 1 - 35a ✓\n",
      "For k = 36, (1 - a)^36 >= 1 - 36a ✓\n",
      "For k = 37, (1 - a)^37 >= 1 - 37a ✓\n",
      "For k = 38, (1 - a)^38 >= 1 - 38a ✓\n",
      "For k = 39, (1 - a)^39 >= 1 - 39a ✓\n",
      "For k = 40, (1 - a)^40 >= 1 - 40a ✓\n",
      "For k = 41, (1 - a)^41 >= 1 - 41a ✓\n",
      "For k = 42, (1 - a)^42 >= 1 - 42a ✓\n",
      "For k = 43, (1 - a)^43 >= 1 - 43a ✓\n",
      "For k = 44, (1 - a)^44 >= 1 - 44a ✓\n",
      "For k = 45, (1 - a)^45 >= 1 - 45a ✓\n",
      "For k = 46, (1 - a)^46 >= 1 - 46a ✓\n",
      "For k = 47, (1 - a)^47 >= 1 - 47a ✓\n",
      "For k = 48, (1 - a)^48 >= 1 - 48a ✓\n",
      "For k = 49, (1 - a)^49 >= 1 - 49a ✓\n",
      "For k = 50, (1 - a)^50 >= 1 - 50a ✓\n",
      "For k = 51, (1 - a)^51 >= 1 - 51a ✓\n",
      "For k = 52, (1 - a)^52 >= 1 - 52a ✓\n",
      "For k = 53, (1 - a)^53 >= 1 - 53a ✓\n",
      "For k = 54, (1 - a)^54 >= 1 - 54a ✓\n",
      "For k = 55, (1 - a)^55 >= 1 - 55a ✓\n"
     ]
    }
   ],
   "source": [
    "def prove_inequality(a, n):\n",
    "    if 0 < a < 1:\n",
    "        for k in range(1, n+1):\n",
    "            left_side = (1 - a) ** k\n",
    "            right_side = 1 - k * a\n",
    "            if left_side >= right_side:\n",
    "                print(f\"For k = {k}, (1 - a)^{k} >= 1 - {k}a ✓\")\n",
    "            else:\n",
    "                print(f\"For k = {k}, (1 - a)^{k} < 1 - {k}a ✗\")\n",
    "    else:\n",
    "        print(\"The condition 0 < a < 1 is not satisfied.\")\n",
    "\n",
    "a = float(input(\"Enter a (0 < a < 1): \"))\n",
    "n = int(input(\"Enter n: \"))\n",
    "prove_inequality(a, n)\n"
   ]
  },
  {
   "cell_type": "markdown",
   "id": "985ac466",
   "metadata": {},
   "source": [
    "Докажите по индукции, что если n ≥ 10, то 2n > n3"
   ]
  },
  {
   "cell_type": "code",
   "execution_count": 12,
   "id": "0259a6e4",
   "metadata": {},
   "outputs": [
    {
     "name": "stdout",
     "output_type": "stream",
     "text": [
      "Enter n: 11\n",
      "For k = 10, 2 * 10 <= 10^3 ✗\n",
      "For k = 11, 2 * 11 <= 11^3 ✗\n"
     ]
    }
   ],
   "source": [
    "def prove_inequality(n):\n",
    "    if n >= 10:\n",
    "        for k in range(10, n + 1):\n",
    "            left_side = 2 * k\n",
    "            right_side = k ** 3\n",
    "            if left_side > right_side:\n",
    "                print(f\"For k = {k}, 2 * {k} > {k}^3 ✓\")\n",
    "            else:\n",
    "                print(f\"For k = {k}, 2 * {k} <= {k}^3 ✗\")\n",
    "    else:\n",
    "        print(\"The condition n >= 10 is not satisfied.\")\n",
    "\n",
    "n = int(input(\"Enter n: \"))\n",
    "prove_inequality(n)\n"
   ]
  },
  {
   "cell_type": "code",
   "execution_count": 14,
   "id": "b4c6189d",
   "metadata": {},
   "outputs": [
    {
     "data": {
      "text/latex": [
       "$\\displaystyle \n",
       "\\text{Найдите и докажите простую формулу для следующей суммы:}\n",
       "$$\n",
       "\\frac{1}{3^4} - \\frac{3}{4^4} + \\frac{5}{5^4} + \\ldots + (-1)^n \\cdot \\frac{(2n + 1)^3}{(2n + 1)^4} + 4\n",
       "$$\n",
       "$"
      ],
      "text/plain": [
       "<IPython.core.display.Math object>"
      ]
     },
     "metadata": {},
     "output_type": "display_data"
    }
   ],
   "source": [
    "from IPython.display import display, Math\n",
    "\n",
    "formula = r\"\"\"\n",
    "\\text{Найдите и докажите простую формулу для следующей суммы:}\n",
    "$$\n",
    "\\frac{1}{3^4} - \\frac{3}{4^4} + \\frac{5}{5^4} + \\ldots + (-1)^n \\cdot \\frac{(2n + 1)^3}{(2n + 1)^4} + 4\n",
    "$$\n",
    "\"\"\"\n",
    "\n",
    "display(Math(formula))\n",
    "\n"
   ]
  },
  {
   "cell_type": "code",
   "execution_count": 13,
   "id": "bf939a6b",
   "metadata": {},
   "outputs": [
    {
     "name": "stdout",
     "output_type": "stream",
     "text": [
      "Enter n: 33\n",
      "The sum of the series is approximately: 0.3977756185675536\n"
     ]
    }
   ],
   "source": [
    "def prove_formula(n):\n",
    "    result = 0\n",
    "    for k in range(1, n + 1):\n",
    "        result += (k + 6) / (2 * k + 1) ** 3\n",
    "    \n",
    "    return result\n",
    "\n",
    "n = int(input(\"Enter n: \"))\n",
    "sum_formula = prove_formula(n)\n",
    "print(f\"The sum of the series is approximately: {sum_formula}\")\n"
   ]
  },
  {
   "cell_type": "markdown",
   "id": "f655460b",
   "metadata": {},
   "source": [
    "Покажите, как можно обобщить алгоритм E, чтобы, как было указано в тексте,\n",
    "для него допускались входные значения вида u+v\n",
    "√2, где u и v — целые числа, и вычисления\n",
    "по\n",
    "√ -прежнему выполнялись элементарным образом (т. е. не выражая и ррациональное число\n",
    "2 бесконечной десятичной дробью). Докажите, что при m = 1 и n = √2 выполнение\n",
    "алгоритма никогда не закончится."
   ]
  },
  {
   "cell_type": "code",
   "execution_count": 15,
   "id": "176ebc15",
   "metadata": {},
   "outputs": [
    {
     "name": "stdout",
     "output_type": "stream",
     "text": [
      "Initial values: a = 3.0000000000000004, b = 2.0000000000000004\n",
      "a = 2.0000000000000004, b = 1.0\n",
      "a = 1.0, b = 4.440892098500626e-16\n",
      "a = 4.440892098500626e-16, b = 0.0\n",
      "Algorithm never terminates.\n"
     ]
    }
   ],
   "source": [
    "import math\n",
    "\n",
    "def gcd_with_sqrt2(a, b):\n",
    "    while b != 0:\n",
    "        q = a // b\n",
    "        r = a - b * q\n",
    "        a, b = b, r\n",
    "    return a\n",
    "\n",
    "# Демонстрация выполнения алгоритма для m = 1 и n = sqrt(2)\n",
    "m = 1\n",
    "n = math.sqrt(2)\n",
    "\n",
    "u = m\n",
    "v = n\n",
    "a = u + v * math.sqrt(2)\n",
    "b = v * math.sqrt(2)\n",
    "\n",
    "print(f\"Initial values: a = {a}, b = {b}\")\n",
    "\n",
    "while b != 0:\n",
    "    q = int(a // b)\n",
    "    r = a - b * q\n",
    "    a, b = b, r\n",
    "    print(f\"a = {a}, b = {b}\")\n",
    "\n",
    "print(\"Algorithm never terminates.\")\n"
   ]
  },
  {
   "cell_type": "code",
   "execution_count": null,
   "id": "da03ec0d",
   "metadata": {},
   "outputs": [],
   "source": [
    "Пусть множество S вполне упорядочено отношением\n",
    "“≺” ипусть Tn, n > 0,— множество всех наборов (x1, x2,...,xn) элементов xj из S.\n",
    "Определим отношение (x1, x2,...,xn) ≺ (y1, y2,...,yn), еслисуществует некоторое k,\n",
    "1 ≤ k ≤ n, такое, что xj = yj для 1 ≤ j<k, а xk ≺ yk в S. Будет лиотношение “≺”\n",
    "вполне упорядочивать Tn?"
   ]
  },
  {
   "cell_type": "markdown",
   "id": "ffe82728",
   "metadata": {},
   "source": [
    "Имеется пять действительных чисел: x, 9, 5, 4, 7. При каком значении x медиана будет равна\n",
    "среднему?\n"
   ]
  },
  {
   "cell_type": "code",
   "execution_count": 1,
   "id": "da6333c5",
   "metadata": {},
   "outputs": [
    {
     "name": "stdout",
     "output_type": "stream",
     "text": [
      "При x = 10, медиана равна среднему: 7\n"
     ]
    }
   ],
   "source": [
    "def find_x_for_median_equals_mean(numbers):\n",
    "    median_index = len(numbers) // 2  # Индекс медианы\n",
    "    median = sorted(numbers)[median_index]  # Находим медиану\n",
    "    mean = sum(numbers) / len(numbers)  # Вычисляем среднее арифметическое\n",
    "\n",
    "    if median == mean:\n",
    "        return median\n",
    "    else:\n",
    "        return None\n",
    "\n",
    "# Исходные числа: x, 9, 5, 4, 7\n",
    "numbers = [9, 5, 4, 7]\n",
    "for x in range(1, 101):  # Перебираем значения x от 1 до 100\n",
    "    numbers_with_x = numbers + [x]  # Добавляем x к исходным числам\n",
    "    result = find_x_for_median_equals_mean(numbers_with_x)\n",
    "    if result is not None:\n",
    "        print(f\"При x = {x}, медиана равна среднему: {result}\")\n",
    "        break  # Прерываем цикл, так как нашли ответ\n"
   ]
  },
  {
   "cell_type": "markdown",
   "id": "ce0e1eac",
   "metadata": {},
   "source": [
    "Измерен рост 25 человек. Средний рост оказался равным 160 см. Медиана оказалась равной\n",
    "155 см. Машин рост в 163 см был ошибочно внесен как 173 см. Как изменятся медиана и\n",
    "среднее после исправления ошибки?\n",
    "А как могут измениться медиана и среднее, если истинный рост Маши равен 153?"
   ]
  },
  {
   "cell_type": "code",
   "execution_count": 2,
   "id": "0f58c534",
   "metadata": {},
   "outputs": [
    {
     "name": "stdout",
     "output_type": "stream",
     "text": [
      "Исходные данные:\n",
      "Средний рост (исходный): 158.04 см\n",
      "Медиана (исходная): 160 см\n",
      "\n",
      "После исправления ошибки на 163 см:\n",
      "Средний рост (после исправления): 157.62 см\n",
      "Медиана (после исправления): 160 см\n",
      "\n",
      "При истинном росте Маши 153 см:\n",
      "Средний рост (с истинным ростом Маши): 157.84 см\n",
      "Медиана (с истинным ростом Маши): 155 см\n"
     ]
    }
   ],
   "source": [
    "# Исходные данные\n",
    "original_heights = [155] * 12 + [160] * 11 + [173]  # Исходные росты (включая ошибку)\n",
    "corrected_heights = [155] * 12 + [160] * 11 + [163]  # Росты после исправления ошибки\n",
    "true_masha_height = 153  # Истинный рост Маши\n",
    "\n",
    "# Функция для вычисления новых среднего и медианы\n",
    "def calculate_metrics(heights):\n",
    "    sorted_heights = sorted(heights)\n",
    "    median_index = len(sorted_heights) // 2\n",
    "\n",
    "    mean = sum(sorted_heights) / len(sorted_heights)\n",
    "    median = sorted_heights[median_index]\n",
    "\n",
    "    return mean, median\n",
    "\n",
    "# Исходные метрики\n",
    "original_mean, original_median = calculate_metrics(original_heights)\n",
    "corrected_mean, corrected_median = calculate_metrics(corrected_heights)\n",
    "true_masha_metrics = calculate_metrics(original_heights + [true_masha_height])\n",
    "\n",
    "# Вывод результатов\n",
    "print(\"Исходные данные:\")\n",
    "print(f\"Средний рост (исходный): {original_mean:.2f} см\")\n",
    "print(f\"Медиана (исходная): {original_median} см\\n\")\n",
    "\n",
    "print(\"После исправления ошибки на 163 см:\")\n",
    "print(f\"Средний рост (после исправления): {corrected_mean:.2f} см\")\n",
    "print(f\"Медиана (после исправления): {corrected_median} см\\n\")\n",
    "\n",
    "print(\"При истинном росте Маши 153 см:\")\n",
    "print(f\"Средний рост (с истинным ростом Маши): {true_masha_metrics[0]:.2f} см\")\n",
    "print(f\"Медиана (с истинным ростом Маши): {true_masha_metrics[1]} см\")\n"
   ]
  },
  {
   "cell_type": "markdown",
   "id": "bd420ead",
   "metadata": {},
   "source": [
    "Возможно ли чисто теоретически, что риск катастрофы в расчете на 1 час пути больше для\n",
    "самолета, чем для автомобиля, а в расчете на 1 километр пути — наоборот?"
   ]
  },
  {
   "cell_type": "code",
   "execution_count": 3,
   "id": "26edd5db",
   "metadata": {},
   "outputs": [
    {
     "name": "stdout",
     "output_type": "stream",
     "text": [
      "Риск катастрофы для самолета на 1 час выше, чем для автомобиля.\n",
      "Риск катастрофы для автомобиля на 1 километр выше, чем для самолета.\n"
     ]
    }
   ],
   "source": [
    "risk_per_hour_airplane = 0.002  # Пример высокого риска для самолета на час\n",
    "risk_per_hour_car = 0.001      # Пример более низкого риска для автомобиля на час\n",
    "\n",
    "risk_per_km_airplane = risk_per_hour_airplane / 100  # Примерно преобразуем риск на 1 км\n",
    "risk_per_km_car = risk_per_hour_car / 60             # Примерно преобразуем риск на 1 км\n",
    "\n",
    "if risk_per_hour_airplane > risk_per_hour_car:\n",
    "    print(\"Риск катастрофы для самолета на 1 час выше, чем для автомобиля.\")\n",
    "else:\n",
    "    print(\"Риск катастрофы для автомобиля на 1 час выше, чем для самолета.\")\n",
    "\n",
    "if risk_per_km_airplane > risk_per_km_car:\n",
    "    print(\"Риск катастрофы для автомобиля на 1 километр выше, чем для самолета.\")\n",
    "else:\n",
    "    print(\"Риск катастрофы для самолета на 1 километр выше, чем для автомобиля.\")\n"
   ]
  },
  {
   "cell_type": "markdown",
   "id": "0c09563b",
   "metadata": {},
   "source": [
    "Деканат утверждает, что если студента N перевести из группы А в группу В, то средний\n",
    "рейтинг каждой группы возрастет. Возможно ли это"
   ]
  },
  {
   "cell_type": "code",
   "execution_count": 12,
   "id": "241282f6",
   "metadata": {},
   "outputs": [
    {
     "name": "stdout",
     "output_type": "stream",
     "text": [
      "Средний рейтинг обеих групп до перевода: 77.41666666666666\n",
      "Средний рейтинг обеих групп после перевода: 77.16666666666666\n"
     ]
    }
   ],
   "source": [
    "# Исходные данные\n",
    "group_A_ratings = [80, 85, 70]\n",
    "group_B_ratings = [75, 78]\n",
    "\n",
    "# Рассчет средних рейтингов\n",
    "average_rating_A = sum(group_A_ratings) / len(group_A_ratings)\n",
    "average_rating_B = sum(group_B_ratings) / len(group_B_ratings)\n",
    "\n",
    "# Рассчет среднего рейтинга обеих групп до перевода\n",
    "average_combined_before = (average_rating_A + average_rating_B) / 2\n",
    "\n",
    "# Перевод студента со студентом 2 (рейтинг 85) из группы А в группу В\n",
    "student_to_move = 85\n",
    "group_A_ratings.remove(student_to_move)\n",
    "group_B_ratings.append(student_to_move)\n",
    "\n",
    "# Обновленные средние рейтинги групп\n",
    "average_rating_A_updated = sum(group_A_ratings) / len(group_A_ratings)\n",
    "average_rating_B_updated = sum(group_B_ratings) / len(group_B_ratings)\n",
    "\n",
    "# Рассчет среднего рейтинга обеих групп после перевода\n",
    "average_combined_after = (average_rating_A_updated + average_rating_B_updated) / 2\n",
    "\n",
    "# Вывод результатов\n",
    "print(\"Средний рейтинг обеих групп до перевода:\", average_combined_before)\n",
    "print(\"Средний рейтинг обеих групп после перевода:\", average_combined_after)\n"
   ]
  },
  {
   "cell_type": "markdown",
   "id": "76433f54",
   "metadata": {},
   "source": [
    "Есть три группы по 10 человек, две группы по 20 человек и одна группа по 40 человек. У\n",
    "каждой из групп свой преподаватель.\n",
    "а) Каков средний размер группы, для которой читает лекции наугад выбранный профессор?\n",
    "б) Каков средний размер группы, в которой учится наугад выбранный студент?\n",
    "в) Творческий вопрос. Мы ловим студентов наугад и спрашиваем каждого размер группы, в которой он учится. Можно ли как-то восстановить средний размер группы с точки\n",
    "зрения преподавателя?"
   ]
  },
  {
   "cell_type": "code",
   "execution_count": 13,
   "id": "da0c7704",
   "metadata": {},
   "outputs": [
    {
     "name": "stdout",
     "output_type": "stream",
     "text": [
      "Средний размер группы для профессора: 18.333333333333332\n"
     ]
    }
   ],
   "source": [
    "group_sizes = [10, 10, 10, 20, 20, 40]  # Размеры групп\n",
    "total_groups = len(group_sizes)\n",
    "average_group_size = sum(group_sizes) / total_groups\n",
    "\n",
    "print(\"Средний размер группы для профессора:\", average_group_size)\n"
   ]
  },
  {
   "cell_type": "code",
   "execution_count": 14,
   "id": "6a0a1084",
   "metadata": {},
   "outputs": [
    {
     "name": "stdout",
     "output_type": "stream",
     "text": [
      "Средний размер группы для студента: 18.333333333333332\n"
     ]
    }
   ],
   "source": [
    "student_counts = [10, 10, 10, 20, 20, 40]  # Количество студентов в каждой группе\n",
    "total_students = sum(student_counts)\n",
    "average_student_group_size = total_students / total_groups\n",
    "\n",
    "print(\"Средний размер группы для студента:\", average_student_group_size)\n"
   ]
  },
  {
   "cell_type": "code",
   "execution_count": null,
   "id": "c2814bca",
   "metadata": {},
   "outputs": [],
   "source": []
  },
  {
   "cell_type": "code",
   "execution_count": null,
   "id": "24449d1d",
   "metadata": {},
   "outputs": [],
   "source": []
  },
  {
   "cell_type": "code",
   "execution_count": null,
   "id": "8a96f59c",
   "metadata": {},
   "outputs": [],
   "source": []
  },
  {
   "cell_type": "code",
   "execution_count": null,
   "id": "94f46dd1",
   "metadata": {},
   "outputs": [],
   "source": []
  },
  {
   "cell_type": "code",
   "execution_count": 17,
   "id": "384039af",
   "metadata": {},
   "outputs": [
    {
     "name": "stdout",
     "output_type": "stream",
     "text": [
      "Размер выборки: 385\n"
     ]
    }
   ],
   "source": [
    "from math import ceil\n",
    "\n",
    "# Заданные значения\n",
    "confidence_level = 0.95\n",
    "expected_proportion = 0.5\n",
    "margin_of_error = 0.05\n",
    "\n",
    "# Вычисление z-критерия для заданного уровня доверия\n",
    "z_score = 1.96  # для 95% уровня доверия\n",
    "\n",
    "# Расчет размера выборки\n",
    "sample_size = ceil((z_score ** 2 * expected_proportion * (1 - expected_proportion)) / (margin_of_error ** 2))\n",
    "\n",
    "print(f\"Размер выборки: {sample_size}\")\n"
   ]
  },
  {
   "cell_type": "code",
   "execution_count": 4,
   "id": "026e8fba",
   "metadata": {},
   "outputs": [
    {
     "name": "stdout",
     "output_type": "stream",
     "text": [
      "    IDTP     From Drug To Drug        Date\n",
      "0  23792  Aripiprazoli          14.08.2019\n",
      "1  23795        IDTP.1          20.01.2021\n",
      "2  23795   Alimemazini          20.01.2021\n",
      "3  23795  Aripiprazoli          12.03.2021\n"
     ]
    },
    {
     "name": "stderr",
     "output_type": "stream",
     "text": [
      "C:\\Users\\MARGAR~1\\AppData\\Local\\Temp/ipykernel_12600/1445173443.py:33: FutureWarning: The frame.append method is deprecated and will be removed from pandas in a future version. Use pandas.concat instead.\n",
      "  switch_df = switch_df.append({'IDTP': idtp, 'From Drug': from_drug, 'To Drug': to_drug, 'Date': date}, ignore_index=True)\n",
      "C:\\Users\\MARGAR~1\\AppData\\Local\\Temp/ipykernel_12600/1445173443.py:33: FutureWarning: The frame.append method is deprecated and will be removed from pandas in a future version. Use pandas.concat instead.\n",
      "  switch_df = switch_df.append({'IDTP': idtp, 'From Drug': from_drug, 'To Drug': to_drug, 'Date': date}, ignore_index=True)\n",
      "C:\\Users\\MARGAR~1\\AppData\\Local\\Temp/ipykernel_12600/1445173443.py:33: FutureWarning: The frame.append method is deprecated and will be removed from pandas in a future version. Use pandas.concat instead.\n",
      "  switch_df = switch_df.append({'IDTP': idtp, 'From Drug': from_drug, 'To Drug': to_drug, 'Date': date}, ignore_index=True)\n",
      "C:\\Users\\MARGAR~1\\AppData\\Local\\Temp/ipykernel_12600/1445173443.py:33: FutureWarning: The frame.append method is deprecated and will be removed from pandas in a future version. Use pandas.concat instead.\n",
      "  switch_df = switch_df.append({'IDTP': idtp, 'From Drug': from_drug, 'To Drug': to_drug, 'Date': date}, ignore_index=True)\n"
     ]
    }
   ],
   "source": []
  },
  {
   "cell_type": "code",
   "execution_count": 5,
   "id": "c62af297",
   "metadata": {},
   "outputs": [
    {
     "name": "stdout",
     "output_type": "stream",
     "text": [
      "    IDTP     From Drug       To Drug        Date\n",
      "0  23792   Amisulpridi   Amisulpridi  23.05.2019\n",
      "1  23792  Aripiprazoli  Aripiprazoli  23.05.2019\n",
      "2  23792  Aripiprazoli                14.08.2019\n",
      "3  23795        IDTP.1                20.01.2021\n",
      "4  23795   Alimemazini                20.01.2021\n",
      "5  23795   Amisulpridi   Amisulpridi  20.01.2021\n",
      "6  23795        IDTP.1        IDTP.1  12.03.2021\n",
      "7  23795   Alimemazini   Alimemazini  12.03.2021\n",
      "8  23795  Aripiprazoli                12.03.2021\n"
     ]
    },
    {
     "name": "stderr",
     "output_type": "stream",
     "text": [
      "C:\\Users\\MARGAR~1\\AppData\\Local\\Temp/ipykernel_12600/1313648467.py:32: FutureWarning: The frame.append method is deprecated and will be removed from pandas in a future version. Use pandas.concat instead.\n",
      "  switch_df = switch_df.append({'IDTP': idtp, 'From Drug': from_drug, 'To Drug': to_drug, 'Date': date}, ignore_index=True)\n",
      "C:\\Users\\MARGAR~1\\AppData\\Local\\Temp/ipykernel_12600/1313648467.py:32: FutureWarning: The frame.append method is deprecated and will be removed from pandas in a future version. Use pandas.concat instead.\n",
      "  switch_df = switch_df.append({'IDTP': idtp, 'From Drug': from_drug, 'To Drug': to_drug, 'Date': date}, ignore_index=True)\n",
      "C:\\Users\\MARGAR~1\\AppData\\Local\\Temp/ipykernel_12600/1313648467.py:32: FutureWarning: The frame.append method is deprecated and will be removed from pandas in a future version. Use pandas.concat instead.\n",
      "  switch_df = switch_df.append({'IDTP': idtp, 'From Drug': from_drug, 'To Drug': to_drug, 'Date': date}, ignore_index=True)\n",
      "C:\\Users\\MARGAR~1\\AppData\\Local\\Temp/ipykernel_12600/1313648467.py:32: FutureWarning: The frame.append method is deprecated and will be removed from pandas in a future version. Use pandas.concat instead.\n",
      "  switch_df = switch_df.append({'IDTP': idtp, 'From Drug': from_drug, 'To Drug': to_drug, 'Date': date}, ignore_index=True)\n",
      "C:\\Users\\MARGAR~1\\AppData\\Local\\Temp/ipykernel_12600/1313648467.py:32: FutureWarning: The frame.append method is deprecated and will be removed from pandas in a future version. Use pandas.concat instead.\n",
      "  switch_df = switch_df.append({'IDTP': idtp, 'From Drug': from_drug, 'To Drug': to_drug, 'Date': date}, ignore_index=True)\n",
      "C:\\Users\\MARGAR~1\\AppData\\Local\\Temp/ipykernel_12600/1313648467.py:32: FutureWarning: The frame.append method is deprecated and will be removed from pandas in a future version. Use pandas.concat instead.\n",
      "  switch_df = switch_df.append({'IDTP': idtp, 'From Drug': from_drug, 'To Drug': to_drug, 'Date': date}, ignore_index=True)\n",
      "C:\\Users\\MARGAR~1\\AppData\\Local\\Temp/ipykernel_12600/1313648467.py:32: FutureWarning: The frame.append method is deprecated and will be removed from pandas in a future version. Use pandas.concat instead.\n",
      "  switch_df = switch_df.append({'IDTP': idtp, 'From Drug': from_drug, 'To Drug': to_drug, 'Date': date}, ignore_index=True)\n",
      "C:\\Users\\MARGAR~1\\AppData\\Local\\Temp/ipykernel_12600/1313648467.py:32: FutureWarning: The frame.append method is deprecated and will be removed from pandas in a future version. Use pandas.concat instead.\n",
      "  switch_df = switch_df.append({'IDTP': idtp, 'From Drug': from_drug, 'To Drug': to_drug, 'Date': date}, ignore_index=True)\n",
      "C:\\Users\\MARGAR~1\\AppData\\Local\\Temp/ipykernel_12600/1313648467.py:32: FutureWarning: The frame.append method is deprecated and will be removed from pandas in a future version. Use pandas.concat instead.\n",
      "  switch_df = switch_df.append({'IDTP': idtp, 'From Drug': from_drug, 'To Drug': to_drug, 'Date': date}, ignore_index=True)\n"
     ]
    }
   ],
   "source": [
    "import pandas as pd\n",
    "\n",
    "# Создайте исходный DataFrame с вашими данными\n",
    "data = {\n",
    "    'IDTP': [23792, 23792, 23792, 23795, 23795, 23795],\n",
    "    'DateR': ['20.02.2019', '23.05.2019', '14.08.2019', '09.08.2019', '20.01.2021', '12.03.2021'],\n",
    "    'IDTP.1': [1, 1, 1, 1, None, 1],\n",
    "    'Alimemazini': [1, 1, 1, 1, None, 1],\n",
    "    'Amisulpridi': [None, 1, 1, None, 1, 1],\n",
    "    'Aripiprazoli': [None, 1, None, 1, 1, None]\n",
    "}\n",
    "\n",
    "df = pd.DataFrame(data)\n",
    "\n",
    "# Создайте новый DataFrame для отслеживания переключений\n",
    "switch_df = pd.DataFrame(columns=['IDTP', 'From Drug', 'To Drug', 'Date'])\n",
    "\n",
    "# Проходите по каждому уникальному IDTP\n",
    "for idtp in df['IDTP'].unique():\n",
    "    subset = df[df['IDTP'] == idtp]\n",
    "    prev_row = None\n",
    "    from_drug = ''\n",
    "    to_drug = ''\n",
    "    date = ''\n",
    "    for index, row in subset.iterrows():\n",
    "        if prev_row is not None:\n",
    "            for drug in ['IDTP.1', 'Alimemazini', 'Amisulpridi', 'Aripiprazoli']:\n",
    "                if row[drug] != prev_row[drug]:\n",
    "                    from_drug = drug\n",
    "                    to_drug = drug if row[drug] == 1 else ''\n",
    "                    date = row['DateR']\n",
    "                    switch_df = switch_df.append({'IDTP': idtp, 'From Drug': from_drug, 'To Drug': to_drug, 'Date': date}, ignore_index=True)\n",
    "        prev_row = row\n",
    "\n",
    "# Выведите DataFrame с переключениями\n",
    "print(switch_df)\n"
   ]
  },
  {
   "cell_type": "code",
   "execution_count": null,
   "id": "68936bfc",
   "metadata": {},
   "outputs": [],
   "source": []
  }
 ],
 "metadata": {
  "kernelspec": {
   "display_name": "Python 3 (ipykernel)",
   "language": "python",
   "name": "python3"
  },
  "language_info": {
   "codemirror_mode": {
    "name": "ipython",
    "version": 3
   },
   "file_extension": ".py",
   "mimetype": "text/x-python",
   "name": "python",
   "nbconvert_exporter": "python",
   "pygments_lexer": "ipython3",
   "version": "3.9.7"
  }
 },
 "nbformat": 4,
 "nbformat_minor": 5
}
