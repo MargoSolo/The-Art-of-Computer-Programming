{
 "cells": [
  {
   "cell_type": "markdown",
   "id": "2531a762",
   "metadata": {},
   "source": [
    "Прошу вас, ради всего святого, сначала научитесь простому\n",
    "и только потом переходите к сложному.\n",
    "— ЭПИКТЕТ (EPICTETUS), Беседы IV.i"
   ]
  },
  {
   "cell_type": "markdown",
   "id": "dc0cc975",
   "metadata": {},
   "source": [
    "В тексте показано, как взаимно заменить значения переменных m и n с помощью\n",
    "символа замены, а именно— полагая t ← m, m ← n, n ← t. Покажите, как в результате\n",
    "ряда замен можно преобразовать четверку переменных (a, b, c, d) в (b, c, d, a). Другими\n",
    "словами, новое значение переменной a должно стать равным первоначальному значению b\n",
    "и т. д. Постарайтесь выполнить преобразование с помощью минимального числа замен."
   ]
  },
  {
   "cell_type": "code",
   "execution_count": 2,
   "id": "e6e396c1",
   "metadata": {},
   "outputs": [
    {
     "name": "stdout",
     "output_type": "stream",
     "text": [
      "b c d a\n"
     ]
    }
   ],
   "source": [
    "a, b, c, d = 'a', 'b', 'c', 'd'\n",
    "\n",
    "t = a\n",
    "a = b\n",
    "b = c\n",
    "c = d\n",
    "d = t\n",
    "\n",
    "print(a, b, c, d)  # Вывод: b c d a"
   ]
  },
  {
   "cell_type": "markdown",
   "id": "650ce990",
   "metadata": {},
   "source": [
    "Чему равен наибольший общий делитель чисел 2 166 и 6 099?"
   ]
  },
  {
   "cell_type": "code",
   "execution_count": 3,
   "id": "f5d4636a",
   "metadata": {},
   "outputs": [
    {
     "name": "stdout",
     "output_type": "stream",
     "text": [
      "Наибольший общий делитель: 57\n"
     ]
    }
   ],
   "source": [
    "def gcd(a, b):\n",
    "    while b:\n",
    "        a, b = b, a % b\n",
    "    return a\n",
    "\n",
    "num1 = 2166\n",
    "num2 = 6099\n",
    "\n",
    "result = gcd(num1, num2)\n",
    "print(\"Наибольший общий делитель:\", result)\n"
   ]
  },
  {
   "cell_type": "code",
   "execution_count": null,
   "id": "b98e8126",
   "metadata": {},
   "outputs": [],
   "source": []
  },
  {
   "cell_type": "code",
   "execution_count": null,
   "id": "85202d35",
   "metadata": {},
   "outputs": [],
   "source": []
  },
  {
   "cell_type": "code",
   "execution_count": null,
   "id": "dff14cf8",
   "metadata": {},
   "outputs": [],
   "source": []
  },
  {
   "cell_type": "code",
   "execution_count": null,
   "id": "e94cb0af",
   "metadata": {},
   "outputs": [],
   "source": []
  }
 ],
 "metadata": {
  "kernelspec": {
   "display_name": "Python 3 (ipykernel)",
   "language": "python",
   "name": "python3"
  },
  "language_info": {
   "codemirror_mode": {
    "name": "ipython",
    "version": 3
   },
   "file_extension": ".py",
   "mimetype": "text/x-python",
   "name": "python",
   "nbconvert_exporter": "python",
   "pygments_lexer": "ipython3",
   "version": "3.9.7"
  }
 },
 "nbformat": 4,
 "nbformat_minor": 5
}
