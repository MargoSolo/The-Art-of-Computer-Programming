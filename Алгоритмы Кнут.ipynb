{
 "cells": [
  {
   "cell_type": "markdown",
   "id": "0790131f",
   "metadata": {},
   "source": [
    "Прошу вас, ради всего святого, сначала научитесь простому\n",
    "и только потом переходите к сложному.\n",
    "— ЭПИКТЕТ (EPICTETUS), Беседы IV.i"
   ]
  },
  {
   "cell_type": "markdown",
   "id": "9bcec36a",
   "metadata": {},
   "source": [
    "В тексте показано, как взаимно заменить значения переменных m и n с помощью\n",
    "символа замены, а именно— полагая t ← m, m ← n, n ← t. Покажите, как в результате\n",
    "ряда замен можно преобразовать четверку переменных (a, b, c, d) в (b, c, d, a). Другими\n",
    "словами, новое значение переменной a должно стать равным первоначальному значению b\n",
    "и т. д. Постарайтесь выполнить преобразование с помощью минимального числа замен."
   ]
  },
  {
   "cell_type": "code",
   "execution_count": 2,
   "id": "96fd91a8",
   "metadata": {},
   "outputs": [
    {
     "name": "stdout",
     "output_type": "stream",
     "text": [
      "b c d a\n"
     ]
    }
   ],
   "source": [
    "a, b, c, d = 'a', 'b', 'c', 'd'\n",
    "\n",
    "t = a\n",
    "a = b\n",
    "b = c\n",
    "c = d\n",
    "d = t\n",
    "\n",
    "print(a, b, c, d)  # Вывод: b c d a"
   ]
  },
  {
   "cell_type": "markdown",
   "id": "66eef459",
   "metadata": {},
   "source": [
    "Чему равен наибольший общий делитель чисел 2 166 и 6 099?"
   ]
  },
  {
   "cell_type": "code",
   "execution_count": 3,
   "id": "4f93f506",
   "metadata": {},
   "outputs": [
    {
     "name": "stdout",
     "output_type": "stream",
     "text": [
      "Наибольший общий делитель: 57\n"
     ]
    }
   ],
   "source": [
    "def gcd(a, b):\n",
    "    while b:\n",
    "        a, b = b, a % b\n",
    "    return a\n",
    "\n",
    "num1 = 2166\n",
    "num2 = 6099\n",
    "\n",
    "result = gcd(num1, num2)\n",
    "print(\"Наибольший общий делитель:\", result)\n"
   ]
  },
  {
   "cell_type": "markdown",
   "id": "d49920ca",
   "metadata": {},
   "source": [
    "Предположим, что C1 = (Q1, I1, Ω1, f1) и C2 = (Q2, I2, Ω2, f2) —методы вычис\u0002лений. Например, C1 может обозначать алгоритм E (см. формулу (2)) приусловии, что m\n",
    "и n ограничены по величине, а C2 —компьютерную программу, реализующую алгоритм E.\n",
    "(Тогда можно считать, что Q2 — это набор всех состояний машины, т. е. всех возможных\n",
    "конфигураций ее памяти и регистров, f2 определяет элементарную машинную операцию, а\n",
    "I2 — начальное состояние, которое включает программу определения наибольшего общего\n",
    "делителя, а также значения m и n.)"
   ]
  },
  {
   "cell_type": "code",
   "execution_count": 4,
   "id": "326f9b89",
   "metadata": {},
   "outputs": [
    {
     "name": "stdout",
     "output_type": "stream",
     "text": [
      "C1: ['state1', 'state2', 'state3'] initial_state memory_configurations elementary_operation\n",
      "C2: ['stateA', 'stateB', 'stateC'] start_state machine_configurations machine_operation\n"
     ]
    }
   ],
   "source": [
    "# Определение C1 и C2\n",
    "class C1:\n",
    "    def __init__(self, Q1, I1, Ω1, f1):\n",
    "        self.Q1 = Q1\n",
    "        self.I1 = I1\n",
    "        self.Ω1 = Ω1\n",
    "        self.f1 = f1\n",
    "\n",
    "class C2:\n",
    "    def __init__(self, Q2, I2, Ω2, f2):\n",
    "        self.Q2 = Q2\n",
    "        self.I2 = I2\n",
    "        self.Ω2 = Ω2\n",
    "        self.f2 = f2\n",
    "\n",
    "# Пример использования C1 и C2\n",
    "Q1 = ['state1', 'state2', 'state3']\n",
    "I1 = 'initial_state'\n",
    "Ω1 = 'memory_configurations'\n",
    "f1 = 'elementary_operation'\n",
    "\n",
    "Q2 = ['stateA', 'stateB', 'stateC']\n",
    "I2 = 'start_state'\n",
    "Ω2 = 'machine_configurations'\n",
    "f2 = 'machine_operation'\n",
    "\n",
    "c1_instance = C1(Q1, I1, Ω1, f1)\n",
    "c2_instance = C2(Q2, I2, Ω2, f2)\n",
    "\n",
    "print(\"C1:\", c1_instance.Q1, c1_instance.I1, c1_instance.Ω1, c1_instance.f1)\n",
    "print(\"C2:\", c2_instance.Q2, c2_instance.I2, c2_instance.Ω2, c2_instance.f2)\n"
   ]
  },
  {
   "cell_type": "markdown",
   "id": "f3e65a7d",
   "metadata": {},
   "source": [
    "1.2. МАТЕМАТИЧЕСКОЕ ВВЕДЕНИЕ"
   ]
  },
  {
   "cell_type": "markdown",
   "id": "06fd3775",
   "metadata": {},
   "source": [
    "В этом разделе мы рассмотрим математические обозначения, используемые в кни\u0002ге Искусство программирования, и выведем основные формулы, которые будут часто\n",
    "применяться. Даже читатель, которого не интересуют сложные математические\n",
    "выкладки, должен понять смысл формул, чтобы иметь возможность пользоваться\n",
    "готовыми результатами. "
   ]
  },
  {
   "cell_type": "code",
   "execution_count": null,
   "id": "23dee465",
   "metadata": {},
   "outputs": [],
   "source": []
  },
  {
   "cell_type": "code",
   "execution_count": null,
   "id": "e93711cc",
   "metadata": {},
   "outputs": [],
   "source": []
  },
  {
   "cell_type": "code",
   "execution_count": null,
   "id": "e648aeda",
   "metadata": {},
   "outputs": [],
   "source": []
  },
  {
   "cell_type": "code",
   "execution_count": null,
   "id": "83291a59",
   "metadata": {},
   "outputs": [],
   "source": []
  },
  {
   "cell_type": "code",
   "execution_count": null,
   "id": "4f97ee2d",
   "metadata": {},
   "outputs": [],
   "source": []
  },
  {
   "cell_type": "code",
   "execution_count": null,
   "id": "7999680b",
   "metadata": {},
   "outputs": [],
   "source": []
  },
  {
   "cell_type": "code",
   "execution_count": null,
   "id": "a1cf943d",
   "metadata": {},
   "outputs": [],
   "source": []
  },
  {
   "cell_type": "code",
   "execution_count": null,
   "id": "649c5564",
   "metadata": {},
   "outputs": [],
   "source": []
  },
  {
   "cell_type": "code",
   "execution_count": null,
   "id": "954e6629",
   "metadata": {},
   "outputs": [],
   "source": []
  },
  {
   "cell_type": "code",
   "execution_count": null,
   "id": "200c3f35",
   "metadata": {},
   "outputs": [],
   "source": []
  },
  {
   "cell_type": "code",
   "execution_count": null,
   "id": "4720720e",
   "metadata": {},
   "outputs": [],
   "source": []
  },
  {
   "cell_type": "code",
   "execution_count": null,
   "id": "b89f1823",
   "metadata": {},
   "outputs": [],
   "source": []
  },
  {
   "cell_type": "code",
   "execution_count": null,
   "id": "b82bfc20",
   "metadata": {},
   "outputs": [],
   "source": []
  },
  {
   "cell_type": "code",
   "execution_count": null,
   "id": "90949c07",
   "metadata": {},
   "outputs": [],
   "source": []
  },
  {
   "cell_type": "code",
   "execution_count": null,
   "id": "2100ce03",
   "metadata": {},
   "outputs": [],
   "source": []
  },
  {
   "cell_type": "code",
   "execution_count": null,
   "id": "a2b4e079",
   "metadata": {},
   "outputs": [],
   "source": []
  },
  {
   "cell_type": "code",
   "execution_count": null,
   "id": "328ddfda",
   "metadata": {},
   "outputs": [],
   "source": []
  },
  {
   "cell_type": "code",
   "execution_count": null,
   "id": "f1d550ae",
   "metadata": {},
   "outputs": [],
   "source": []
  },
  {
   "cell_type": "code",
   "execution_count": null,
   "id": "0259a6e4",
   "metadata": {},
   "outputs": [],
   "source": []
  },
  {
   "cell_type": "code",
   "execution_count": null,
   "id": "6e100b01",
   "metadata": {},
   "outputs": [],
   "source": []
  }
 ],
 "metadata": {
  "kernelspec": {
   "display_name": "Python 3 (ipykernel)",
   "language": "python",
   "name": "python3"
  },
  "language_info": {
   "codemirror_mode": {
    "name": "ipython",
    "version": 3
   },
   "file_extension": ".py",
   "mimetype": "text/x-python",
   "name": "python",
   "nbconvert_exporter": "python",
   "pygments_lexer": "ipython3",
   "version": "3.9.7"
  }
 },
 "nbformat": 4,
 "nbformat_minor": 5
}
