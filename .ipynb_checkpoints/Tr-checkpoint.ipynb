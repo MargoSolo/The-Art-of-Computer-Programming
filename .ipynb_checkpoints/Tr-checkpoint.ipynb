{
 "cells": [
  {
   "cell_type": "code",
   "execution_count": 150,
   "id": "783e5cdb",
   "metadata": {},
   "outputs": [
    {
     "ename": "ModuleNotFoundError",
     "evalue": "No module named 'zipline'",
     "output_type": "error",
     "traceback": [
      "\u001b[1;31m---------------------------------------------------------------------------\u001b[0m",
      "\u001b[1;31mModuleNotFoundError\u001b[0m                       Traceback (most recent call last)",
      "\u001b[1;32mC:\\Users\\MARGAR~1\\AppData\\Local\\Temp/ipykernel_16036/4091560469.py\u001b[0m in \u001b[0;36m<module>\u001b[1;34m\u001b[0m\n\u001b[1;32m----> 1\u001b[1;33m \u001b[1;32mfrom\u001b[0m \u001b[0mzipline\u001b[0m\u001b[1;33m.\u001b[0m\u001b[0mdata\u001b[0m\u001b[1;33m.\u001b[0m\u001b[0mdata_portal\u001b[0m \u001b[1;32mimport\u001b[0m \u001b[0mDataPortal\u001b[0m\u001b[1;33m\u001b[0m\u001b[1;33m\u001b[0m\u001b[0m\n\u001b[0m\u001b[0;32m      2\u001b[0m \u001b[1;32mfrom\u001b[0m \u001b[0mzipline\u001b[0m\u001b[1;33m.\u001b[0m\u001b[0mdata\u001b[0m \u001b[1;32mimport\u001b[0m \u001b[0mbundles\u001b[0m\u001b[1;33m\u001b[0m\u001b[1;33m\u001b[0m\u001b[0m\n\u001b[0;32m      3\u001b[0m \u001b[1;32mfrom\u001b[0m \u001b[0mzipline\u001b[0m\u001b[1;33m.\u001b[0m\u001b[0mutils\u001b[0m\u001b[1;33m.\u001b[0m\u001b[0mcalendars\u001b[0m \u001b[1;32mimport\u001b[0m \u001b[0mget_calendar\u001b[0m\u001b[1;33m\u001b[0m\u001b[1;33m\u001b[0m\u001b[0m\n",
      "\u001b[1;31mModuleNotFoundError\u001b[0m: No module named 'zipline'"
     ]
    }
   ],
   "source": [
    "from zipline.data.data_portal import DataPortal\n",
    "from zipline.data import bundles\n",
    "from zipline.utils.calendars import get_calendar"
   ]
  },
  {
   "cell_type": "code",
   "execution_count": 151,
   "id": "a38ce0c5",
   "metadata": {},
   "outputs": [
    {
     "name": "stdout",
     "output_type": "stream",
     "text": [
      "Collecting TA-Lib\n",
      "  Using cached TA-Lib-0.4.28.tar.gz (357 kB)\n",
      "  Installing build dependencies: started\n",
      "  Installing build dependencies: finished with status 'done'\n",
      "  Getting requirements to build wheel: started\n",
      "  Getting requirements to build wheel: finished with status 'done'\n",
      "  Installing backend dependencies: started\n",
      "  Installing backend dependencies: finished with status 'done'\n"
     ]
    },
    {
     "name": "stderr",
     "output_type": "stream",
     "text": [
      "  error: subprocess-exited-with-error\n",
      "  \n",
      "  Building wheel for TA-Lib (pyproject.toml) did not run successfully.\n",
      "  exit code: 1\n",
      "  \n",
      "  [14 lines of output]\n",
      "  <string>:77: UserWarning: Cannot find ta-lib library, installation may fail.\n",
      "  running bdist_wheel\n",
      "  running build\n",
      "  running build_py\n",
      "  creating build\n",
      "  creating build\\lib.win-amd64-cpython-39\n",
      "  creating build\\lib.win-amd64-cpython-39\\talib\n",
      "  copying talib\\abstract.py -> build\\lib.win-amd64-cpython-39\\talib\n",
      "  copying talib\\deprecated.py -> build\\lib.win-amd64-cpython-39\\talib\n",
      "  copying talib\\stream.py -> build\\lib.win-amd64-cpython-39\\talib\n",
      "  copying talib\\__init__.py -> build\\lib.win-amd64-cpython-39\\talib\n",
      "  running build_ext\n",
      "  building 'talib._ta_lib' extension"
     ]
    },
    {
     "name": "stdout",
     "output_type": "stream",
     "text": [
      "  Preparing metadata (pyproject.toml): started\n",
      "  Preparing metadata (pyproject.toml): finished with status 'done'\n",
      "Requirement already satisfied: numpy in c:\\users\\margarita\\anaconda3\\lib\\site-packages (from TA-Lib) (1.20.0)\n",
      "Building wheels for collected packages: TA-Lib\n",
      "  Building wheel for TA-Lib (pyproject.toml): started\n",
      "  Building wheel for TA-Lib (pyproject.toml): finished with status 'error'\n",
      "Failed to build TA-Lib\n"
     ]
    },
    {
     "name": "stderr",
     "output_type": "stream",
     "text": [
      "\n",
      "  error: Microsoft Visual C++ 14.0 or greater is required. Get it with \"Microsoft C++ Build Tools\": https://visualstudio.microsoft.com/visual-cpp-build-tools/\n",
      "  [end of output]\n",
      "  \n",
      "  note: This error originates from a subprocess, and is likely not a problem with pip.\n",
      "  ERROR: Failed building wheel for TA-Lib\n",
      "ERROR: Could not build wheels for TA-Lib, which is required to install pyproject.toml-based projects\n"
     ]
    }
   ],
   "source": [
    "!pip install TA-Lib"
   ]
  },
  {
   "cell_type": "code",
   "execution_count": 152,
   "id": "53d18d79",
   "metadata": {},
   "outputs": [
    {
     "name": "stdout",
     "output_type": "stream",
     "text": [
      "Collecting zipline-reloaded\n",
      "  Obtaining dependency information for zipline-reloaded from https://files.pythonhosted.org/packages/4b/59/d3a8476e586280ef4a80965a70e2e45d99d9842f647395f95083f3fb8dfa/zipline_reloaded-3.0.3-cp39-cp39-win_amd64.whl.metadata\n",
      "  Using cached zipline_reloaded-3.0.3-cp39-cp39-win_amd64.whl.metadata (24 kB)\n",
      "Requirement already satisfied: alembic>=0.7.7 in c:\\users\\margarita\\anaconda3\\lib\\site-packages (from zipline-reloaded) (1.8.0)\n"
     ]
    },
    {
     "name": "stderr",
     "output_type": "stream",
     "text": [
      "  error: subprocess-exited-with-error\n",
      "  \n",
      "  Building wheel for ta-lib (pyproject.toml) did not run successfully.\n",
      "  exit code: 1\n",
      "  \n",
      "  [14 lines of output]\n",
      "  <string>:77: UserWarning: Cannot find ta-lib library, installation may fail.\n",
      "  running bdist_wheel\n",
      "  running build\n",
      "  running build_py\n",
      "  creating build\n",
      "  creating build\\lib.win-amd64-cpython-39\n",
      "  creating build\\lib.win-amd64-cpython-39\\talib\n",
      "  copying talib\\abstract.py -> build\\lib.win-amd64-cpython-39\\talib\n",
      "  copying talib\\deprecated.py -> build\\lib.win-amd64-cpython-39\\talib\n",
      "  copying talib\\stream.py -> build\\lib.win-amd64-cpython-39\\talib\n",
      "  copying talib\\__init__.py -> build\\lib.win-amd64-cpython-39\\talib\n",
      "  running build_ext\n",
      "  building 'talib._ta_lib' extension\n",
      "  error: Microsoft Visual C++ 14.0 or greater is required. Get it with \"Microsoft C++ Build Tools\": https://visualstudio.microsoft.com/visual-cpp-build-tools/\n",
      "  [end of output]\n",
      "  \n",
      "  note: This error originates from a subprocess, and is likely not a problem with pip.\n",
      "  ERROR: Failed building wheel for ta-lib\n",
      "ERROR: Could not build wheels for ta-lib, which is required to install pyproject.toml-based projects\n"
     ]
    },
    {
     "name": "stdout",
     "output_type": "stream",
     "text": [
      "Collecting bcolz-zipline>=1.2.6 (from zipline-reloaded)\n",
      "  Using cached bcolz_zipline-1.2.6-cp39-cp39-win_amd64.whl (708 kB)\n",
      "Requirement already satisfied: bottleneck>=1.0.0 in c:\\users\\margarita\\anaconda3\\lib\\site-packages (from zipline-reloaded) (1.3.2)\n",
      "Requirement already satisfied: click>=4.0.0 in c:\\users\\margarita\\anaconda3\\lib\\site-packages (from zipline-reloaded) (8.1.7)\n",
      "Collecting empyrical-reloaded>=0.5.7 (from zipline-reloaded)\n",
      "  Using cached empyrical_reloaded-0.5.9-py3-none-any.whl (32 kB)\n",
      "Requirement already satisfied: h5py>=2.7.1 in c:\\users\\margarita\\anaconda3\\lib\\site-packages (from zipline-reloaded) (3.2.1)\n",
      "Requirement already satisfied: intervaltree>=2.1.0 in c:\\users\\margarita\\anaconda3\\lib\\site-packages (from zipline-reloaded) (3.1.0)\n",
      "Collecting iso3166>=2.1.1 (from zipline-reloaded)\n",
      "  Using cached iso3166-2.1.1-py3-none-any.whl (9.8 kB)\n",
      "Collecting iso4217>=1.6.20180829 (from zipline-reloaded)\n",
      "  Using cached iso4217-1.11.20220401-py2.py3-none-any.whl (10 kB)\n",
      "Collecting lru-dict>=1.1.4 (from zipline-reloaded)\n",
      "  Obtaining dependency information for lru-dict>=1.1.4 from https://files.pythonhosted.org/packages/6b/40/c405c502e6ece3da4911c29dd94e63129e49c32ef02fc2148ab32ccba05f/lru_dict-1.2.0-cp39-cp39-win_amd64.whl.metadata\n",
      "  Using cached lru_dict-1.2.0-cp39-cp39-win_amd64.whl.metadata (4.6 kB)\n",
      "Requirement already satisfied: multipledispatch>=0.6.0 in c:\\users\\margarita\\anaconda3\\lib\\site-packages (from zipline-reloaded) (0.6.0)\n",
      "Requirement already satisfied: networkx>=2.0 in c:\\users\\margarita\\anaconda3\\lib\\site-packages (from zipline-reloaded) (2.6.3)\n",
      "Requirement already satisfied: numexpr>=2.6.1 in c:\\users\\margarita\\anaconda3\\lib\\site-packages (from zipline-reloaded) (2.7.3)\n",
      "Requirement already satisfied: numpy>=1.14.5 in c:\\users\\margarita\\anaconda3\\lib\\site-packages (from zipline-reloaded) (1.20.0)\n",
      "Collecting pandas>=2.0 (from zipline-reloaded)\n",
      "  Obtaining dependency information for pandas>=2.0 from https://files.pythonhosted.org/packages/f2/8c/35364a11b3e25f8e29a35420b0d18f65ec4f9d6d38e86a62d16ef998923c/pandas-2.1.1-cp39-cp39-win_amd64.whl.metadata\n",
      "  Using cached pandas-2.1.1-cp39-cp39-win_amd64.whl.metadata (18 kB)\n",
      "Requirement already satisfied: patsy>=0.4.0 in c:\\users\\margarita\\appdata\\roaming\\python\\python39\\site-packages (from zipline-reloaded) (0.5.3)\n",
      "Requirement already satisfied: python-dateutil>=2.4.2 in c:\\users\\margarita\\appdata\\roaming\\python\\python39\\site-packages (from zipline-reloaded) (2.8.2)\n",
      "Collecting python-interface>=1.5.3 (from zipline-reloaded)\n",
      "  Using cached python_interface-1.6.1-py3-none-any.whl\n",
      "Requirement already satisfied: pytz>=2018.5 in c:\\users\\margarita\\anaconda3\\lib\\site-packages (from zipline-reloaded) (2023.3.post1)\n",
      "Requirement already satisfied: requests>=2.9.1 in c:\\users\\margarita\\anaconda3\\lib\\site-packages (from zipline-reloaded) (2.27.1)\n",
      "Requirement already satisfied: scipy>=0.17.1 in c:\\users\\margarita\\anaconda3\\lib\\site-packages (from zipline-reloaded) (1.7.3)\n",
      "Requirement already satisfied: six>=1.10.0 in c:\\users\\margarita\\appdata\\roaming\\python\\python39\\site-packages (from zipline-reloaded) (1.16.0)\n",
      "Collecting sqlalchemy>=2 (from zipline-reloaded)\n",
      "  Obtaining dependency information for sqlalchemy>=2 from https://files.pythonhosted.org/packages/8f/dc/7e75411ae80aa76573d945aabbcb0e442e1e0a2152d663a2484defb1cf27/SQLAlchemy-2.0.21-cp39-cp39-win_amd64.whl.metadata\n",
      "  Using cached SQLAlchemy-2.0.21-cp39-cp39-win_amd64.whl.metadata (9.7 kB)\n",
      "Requirement already satisfied: statsmodels>=0.6.1 in c:\\users\\margarita\\appdata\\roaming\\python\\python39\\site-packages (from zipline-reloaded) (0.13.5)\n",
      "Collecting ta-lib>=0.4.09 (from zipline-reloaded)\n",
      "  Using cached TA-Lib-0.4.28.tar.gz (357 kB)\n",
      "  Installing build dependencies: started\n",
      "  Installing build dependencies: finished with status 'done'\n",
      "  Getting requirements to build wheel: started\n",
      "  Getting requirements to build wheel: finished with status 'done'\n",
      "  Installing backend dependencies: started\n",
      "  Installing backend dependencies: finished with status 'done'\n",
      "  Preparing metadata (pyproject.toml): started\n",
      "  Preparing metadata (pyproject.toml): finished with status 'done'\n",
      "Requirement already satisfied: tables>=3.4.3 in c:\\users\\margarita\\anaconda3\\lib\\site-packages (from zipline-reloaded) (3.6.1)\n",
      "Requirement already satisfied: toolz>=0.8.2 in c:\\users\\margarita\\anaconda3\\lib\\site-packages (from zipline-reloaded) (0.11.1)\n",
      "Collecting exchange-calendars>=4.2.4 (from zipline-reloaded)\n",
      "  Obtaining dependency information for exchange-calendars>=4.2.4 from https://files.pythonhosted.org/packages/79/a8/d7e75932a97e253dd300bb94533af230788f71443353c48c85032f256870/exchange_calendars-4.5-py3-none-any.whl.metadata\n",
      "  Using cached exchange_calendars-4.5-py3-none-any.whl.metadata (37 kB)\n",
      "Requirement already satisfied: Mako in c:\\users\\margarita\\anaconda3\\lib\\site-packages (from alembic>=0.7.7->zipline-reloaded) (1.2.0)\n",
      "Requirement already satisfied: colorama in c:\\users\\margarita\\anaconda3\\lib\\site-packages (from click>=4.0.0->zipline-reloaded) (0.4.4)\n",
      "Collecting pandas-datareader>=0.4 (from empyrical-reloaded>=0.5.7->zipline-reloaded)\n",
      "  Using cached pandas_datareader-0.10.0-py3-none-any.whl (109 kB)\n",
      "Requirement already satisfied: yfinance>=0.1.63 in c:\\users\\margarita\\anaconda3\\lib\\site-packages (from empyrical-reloaded>=0.5.7->zipline-reloaded) (0.2.31)\n",
      "Collecting pyluach (from exchange-calendars>=4.2.4->zipline-reloaded)\n",
      "  Using cached pyluach-2.2.0-py3-none-any.whl (25 kB)\n",
      "Requirement already satisfied: tzdata in c:\\users\\margarita\\anaconda3\\lib\\site-packages (from exchange-calendars>=4.2.4->zipline-reloaded) (2022.1)\n",
      "Collecting korean-lunar-calendar (from exchange-calendars>=4.2.4->zipline-reloaded)\n",
      "  Using cached korean_lunar_calendar-0.3.1-py3-none-any.whl (9.0 kB)\n",
      "Requirement already satisfied: sortedcontainers<3.0,>=2.0 in c:\\users\\margarita\\anaconda3\\lib\\site-packages (from intervaltree>=2.1.0->zipline-reloaded) (2.4.0)\n",
      "Collecting numpy>=1.14.5 (from zipline-reloaded)\n",
      "  Obtaining dependency information for numpy>=1.14.5 from https://files.pythonhosted.org/packages/97/43/4cd9dc8c051537ed0613fcfc4229dfb9eb39fe058c8d42632977465bfdb5/numpy-1.26.0-cp39-cp39-win_amd64.whl.metadata\n",
      "  Using cached numpy-1.26.0-cp39-cp39-win_amd64.whl.metadata (61 kB)\n",
      "Requirement already satisfied: urllib3<1.27,>=1.21.1 in c:\\users\\margarita\\anaconda3\\lib\\site-packages (from requests>=2.9.1->zipline-reloaded) (1.26.16)\n",
      "Requirement already satisfied: certifi>=2017.4.17 in c:\\users\\margarita\\anaconda3\\lib\\site-packages (from requests>=2.9.1->zipline-reloaded) (2022.9.24)\n",
      "Requirement already satisfied: charset-normalizer~=2.0.0 in c:\\users\\margarita\\anaconda3\\lib\\site-packages (from requests>=2.9.1->zipline-reloaded) (2.0.4)\n",
      "Requirement already satisfied: idna<4,>=2.5 in c:\\users\\margarita\\anaconda3\\lib\\site-packages (from requests>=2.9.1->zipline-reloaded) (3.2)\n",
      "  Using cached numpy-1.22.4-cp39-cp39-win_amd64.whl (14.7 MB)\n",
      "Requirement already satisfied: typing-extensions>=4.2.0 in c:\\users\\margarita\\anaconda3\\lib\\site-packages (from sqlalchemy>=2->zipline-reloaded) (4.4.0)\n",
      "Requirement already satisfied: greenlet!=0.4.17 in c:\\users\\margarita\\anaconda3\\lib\\site-packages (from sqlalchemy>=2->zipline-reloaded) (1.1.1)\n",
      "Requirement already satisfied: packaging>=21.3 in c:\\users\\margarita\\appdata\\roaming\\python\\python39\\site-packages (from statsmodels>=0.6.1->zipline-reloaded) (21.3)\n",
      "Requirement already satisfied: pyparsing!=3.0.5,>=2.0.2 in c:\\users\\margarita\\appdata\\roaming\\python\\python39\\site-packages (from packaging>=21.3->statsmodels>=0.6.1->zipline-reloaded) (3.0.9)\n",
      "Requirement already satisfied: lxml in c:\\users\\margarita\\anaconda3\\lib\\site-packages (from pandas-datareader>=0.4->empyrical-reloaded>=0.5.7->zipline-reloaded) (4.9.3)\n",
      "Collecting requests>=2.9.1 (from zipline-reloaded)\n",
      "  Obtaining dependency information for requests>=2.9.1 from https://files.pythonhosted.org/packages/70/8e/0e2d847013cb52cd35b38c009bb167a1a26b2ce6cd6965bf26b47bc0bf44/requests-2.31.0-py3-none-any.whl.metadata\n",
      "  Using cached requests-2.31.0-py3-none-any.whl.metadata (4.6 kB)\n",
      "Requirement already satisfied: multitasking>=0.0.7 in c:\\users\\margarita\\anaconda3\\lib\\site-packages (from yfinance>=0.1.63->empyrical-reloaded>=0.5.7->zipline-reloaded) (0.0.11)\n",
      "Requirement already satisfied: appdirs>=1.4.4 in c:\\users\\margarita\\anaconda3\\lib\\site-packages (from yfinance>=0.1.63->empyrical-reloaded>=0.5.7->zipline-reloaded) (1.4.4)\n",
      "Requirement already satisfied: frozendict>=2.3.4 in c:\\users\\margarita\\anaconda3\\lib\\site-packages (from yfinance>=0.1.63->empyrical-reloaded>=0.5.7->zipline-reloaded) (2.3.8)\n",
      "Requirement already satisfied: peewee>=3.16.2 in c:\\users\\margarita\\anaconda3\\lib\\site-packages (from yfinance>=0.1.63->empyrical-reloaded>=0.5.7->zipline-reloaded) (3.16.3)\n",
      "Collecting beautifulsoup4>=4.11.1 (from yfinance>=0.1.63->empyrical-reloaded>=0.5.7->zipline-reloaded)\n",
      "  Using cached beautifulsoup4-4.12.2-py3-none-any.whl (142 kB)\n",
      "Requirement already satisfied: html5lib>=1.1 in c:\\users\\margarita\\anaconda3\\lib\\site-packages (from yfinance>=0.1.63->empyrical-reloaded>=0.5.7->zipline-reloaded) (1.1)\n",
      "Requirement already satisfied: MarkupSafe>=0.9.2 in c:\\users\\margarita\\anaconda3\\lib\\site-packages (from Mako->alembic>=0.7.7->zipline-reloaded) (2.1.1)\n",
      "Requirement already satisfied: soupsieve>1.2 in c:\\users\\margarita\\anaconda3\\lib\\site-packages (from beautifulsoup4>=4.11.1->yfinance>=0.1.63->empyrical-reloaded>=0.5.7->zipline-reloaded) (2.2.1)\n",
      "Requirement already satisfied: webencodings in c:\\users\\margarita\\anaconda3\\lib\\site-packages (from html5lib>=1.1->yfinance>=0.1.63->empyrical-reloaded>=0.5.7->zipline-reloaded) (0.5.1)\n",
      "Using cached zipline_reloaded-3.0.3-cp39-cp39-win_amd64.whl (4.1 MB)\n",
      "Using cached exchange_calendars-4.5-py3-none-any.whl (191 kB)\n",
      "Using cached lru_dict-1.2.0-cp39-cp39-win_amd64.whl (12 kB)\n",
      "Using cached pandas-2.1.1-cp39-cp39-win_amd64.whl (10.8 MB)\n",
      "Using cached SQLAlchemy-2.0.21-cp39-cp39-win_amd64.whl (2.0 MB)\n",
      "Using cached requests-2.31.0-py3-none-any.whl (62 kB)\n",
      "Building wheels for collected packages: ta-lib\n",
      "  Building wheel for ta-lib (pyproject.toml): started\n",
      "  Building wheel for ta-lib (pyproject.toml): finished with status 'error'\n",
      "Failed to build ta-lib\n"
     ]
    }
   ],
   "source": [
    "!pip install zipline-reloaded\n"
   ]
  },
  {
   "cell_type": "code",
   "execution_count": null,
   "id": "90dd8f65",
   "metadata": {},
   "outputs": [],
   "source": []
  },
  {
   "cell_type": "code",
   "execution_count": null,
   "id": "44d281eb",
   "metadata": {},
   "outputs": [],
   "source": []
  },
  {
   "cell_type": "code",
   "execution_count": null,
   "id": "ba06b9ae",
   "metadata": {},
   "outputs": [],
   "source": []
  },
  {
   "cell_type": "code",
   "execution_count": null,
   "id": "6d2957e4",
   "metadata": {},
   "outputs": [],
   "source": []
  },
  {
   "cell_type": "code",
   "execution_count": null,
   "id": "62433863",
   "metadata": {},
   "outputs": [],
   "source": []
  },
  {
   "cell_type": "code",
   "execution_count": null,
   "id": "37e12a95",
   "metadata": {},
   "outputs": [],
   "source": []
  },
  {
   "cell_type": "code",
   "execution_count": null,
   "id": "84e2d1de",
   "metadata": {},
   "outputs": [],
   "source": []
  },
  {
   "cell_type": "code",
   "execution_count": null,
   "id": "b14e3dbe",
   "metadata": {},
   "outputs": [],
   "source": []
  },
  {
   "cell_type": "code",
   "execution_count": null,
   "id": "312e11a8",
   "metadata": {},
   "outputs": [],
   "source": []
  },
  {
   "cell_type": "code",
   "execution_count": null,
   "id": "c8a214ee",
   "metadata": {},
   "outputs": [],
   "source": []
  },
  {
   "cell_type": "code",
   "execution_count": null,
   "id": "eb02b527",
   "metadata": {},
   "outputs": [],
   "source": []
  },
  {
   "cell_type": "code",
   "execution_count": null,
   "id": "dd362b85",
   "metadata": {},
   "outputs": [],
   "source": []
  },
  {
   "cell_type": "code",
   "execution_count": null,
   "id": "53744f18",
   "metadata": {},
   "outputs": [],
   "source": []
  },
  {
   "cell_type": "code",
   "execution_count": null,
   "id": "3eb1f6a6",
   "metadata": {},
   "outputs": [],
   "source": []
  },
  {
   "cell_type": "code",
   "execution_count": null,
   "id": "be30485e",
   "metadata": {},
   "outputs": [],
   "source": []
  },
  {
   "cell_type": "code",
   "execution_count": null,
   "id": "71ce1ea6",
   "metadata": {},
   "outputs": [],
   "source": []
  },
  {
   "cell_type": "code",
   "execution_count": null,
   "id": "23e80ad3",
   "metadata": {},
   "outputs": [],
   "source": []
  },
  {
   "cell_type": "code",
   "execution_count": null,
   "id": "537ee07a",
   "metadata": {},
   "outputs": [],
   "source": []
  },
  {
   "cell_type": "code",
   "execution_count": null,
   "id": "ee516235",
   "metadata": {},
   "outputs": [],
   "source": []
  },
  {
   "cell_type": "code",
   "execution_count": null,
   "id": "22eb1617",
   "metadata": {},
   "outputs": [],
   "source": []
  },
  {
   "cell_type": "code",
   "execution_count": null,
   "id": "31992220",
   "metadata": {},
   "outputs": [],
   "source": []
  },
  {
   "cell_type": "code",
   "execution_count": null,
   "id": "68d08c49",
   "metadata": {},
   "outputs": [],
   "source": []
  },
  {
   "cell_type": "code",
   "execution_count": null,
   "id": "51e1b879",
   "metadata": {},
   "outputs": [],
   "source": []
  },
  {
   "cell_type": "code",
   "execution_count": null,
   "id": "bba74154",
   "metadata": {},
   "outputs": [],
   "source": []
  },
  {
   "cell_type": "code",
   "execution_count": null,
   "id": "1db729d8",
   "metadata": {},
   "outputs": [],
   "source": []
  },
  {
   "cell_type": "code",
   "execution_count": null,
   "id": "83eed5a8",
   "metadata": {},
   "outputs": [],
   "source": []
  },
  {
   "cell_type": "code",
   "execution_count": null,
   "id": "888e87e4",
   "metadata": {},
   "outputs": [],
   "source": []
  },
  {
   "cell_type": "code",
   "execution_count": null,
   "id": "c3d420b2",
   "metadata": {},
   "outputs": [],
   "source": []
  },
  {
   "cell_type": "code",
   "execution_count": null,
   "id": "fab3a981",
   "metadata": {},
   "outputs": [],
   "source": []
  },
  {
   "cell_type": "code",
   "execution_count": null,
   "id": "8d5af622",
   "metadata": {},
   "outputs": [],
   "source": []
  },
  {
   "cell_type": "code",
   "execution_count": null,
   "id": "7397d2b0",
   "metadata": {},
   "outputs": [],
   "source": []
  },
  {
   "cell_type": "code",
   "execution_count": null,
   "id": "cd4bc346",
   "metadata": {},
   "outputs": [],
   "source": []
  },
  {
   "cell_type": "code",
   "execution_count": null,
   "id": "788302bc",
   "metadata": {},
   "outputs": [],
   "source": []
  },
  {
   "cell_type": "code",
   "execution_count": null,
   "id": "fd700742",
   "metadata": {},
   "outputs": [],
   "source": []
  },
  {
   "cell_type": "code",
   "execution_count": null,
   "id": "bf63d4e0",
   "metadata": {},
   "outputs": [],
   "source": []
  },
  {
   "cell_type": "code",
   "execution_count": null,
   "id": "d9b05355",
   "metadata": {},
   "outputs": [],
   "source": []
  },
  {
   "cell_type": "code",
   "execution_count": null,
   "id": "baacec98",
   "metadata": {},
   "outputs": [],
   "source": []
  },
  {
   "cell_type": "code",
   "execution_count": null,
   "id": "1a17da23",
   "metadata": {},
   "outputs": [],
   "source": []
  },
  {
   "cell_type": "code",
   "execution_count": null,
   "id": "7df6386f",
   "metadata": {},
   "outputs": [],
   "source": []
  },
  {
   "cell_type": "code",
   "execution_count": null,
   "id": "6f5c9579",
   "metadata": {},
   "outputs": [],
   "source": []
  },
  {
   "cell_type": "code",
   "execution_count": null,
   "id": "f9a1d305",
   "metadata": {},
   "outputs": [],
   "source": []
  },
  {
   "cell_type": "code",
   "execution_count": null,
   "id": "ae3ed92f",
   "metadata": {},
   "outputs": [],
   "source": []
  },
  {
   "cell_type": "code",
   "execution_count": null,
   "id": "9101c2e4",
   "metadata": {},
   "outputs": [],
   "source": []
  },
  {
   "cell_type": "code",
   "execution_count": null,
   "id": "79816e8e",
   "metadata": {},
   "outputs": [],
   "source": []
  },
  {
   "cell_type": "code",
   "execution_count": null,
   "id": "f4aaa5d8",
   "metadata": {},
   "outputs": [],
   "source": []
  },
  {
   "cell_type": "code",
   "execution_count": 3,
   "id": "5550e186",
   "metadata": {},
   "outputs": [
    {
     "name": "stdout",
     "output_type": "stream",
     "text": [
      "Минимальный размер выборки: 153659.0\n"
     ]
    }
   ],
   "source": [
    "import numpy as np\n",
    "import scipy.stats as stats\n",
    "\n",
    "# Задайте допустимую ошибку (margin of error) и уровень доверия (confidence level)\n",
    "margin_of_error = 0.05  # Например, 5%\n",
    "confidence_level = 0.95  # Например, 95%\n",
    "\n",
    "# Задайте стандартное отклонение исходных данных \n",
    "population_std_dev = 10 \n",
    "# Рассчитайте необходимый размер выборки\n",
    "z_score = stats.norm.ppf((1 + confidence_level) / 2)\n",
    "required_sample_size = ((z_score**2) * (population_std_dev**2)) / (margin_of_error**2)\n",
    "\n",
    "# Округлите размер выборки до ближайшего целого числа, так как он должен быть целым\n",
    "required_sample_size = np.ceil(required_sample_size)\n",
    "\n",
    "print(f\"Минимальный размер выборки: {required_sample_size}\")\n"
   ]
  },
  {
   "cell_type": "code",
   "execution_count": 8,
   "id": "8e318956",
   "metadata": {},
   "outputs": [
    {
     "name": "stdout",
     "output_type": "stream",
     "text": [
      "Минимальный объем выборки: 62\n"
     ]
    }
   ],
   "source": [
    "import math\n",
    "from scipy.stats import norm  # Добавьте этот импорт\n",
    "\n",
    "# Заданные параметры\n",
    "confidence_level = 0.95  # Уровень доверия (например, 95%)\n",
    "margin_of_error = 0.05  # Желаемая точность (например, 5%)\n",
    "standard_deviation = 0.2  # Стандартное отклонение показателей (ваше значение)\n",
    "\n",
    "# Расчет минимального объема выборки\n",
    "z_score = abs(norm.ppf((1 - confidence_level) / 2))  # Z-значение для уровня доверия\n",
    "min_sample_size = math.ceil((z_score ** 2 * standard_deviation ** 2) / margin_of_error ** 2)\n",
    "\n",
    "print(f\"Минимальный объем выборки: {min_sample_size}\")\n"
   ]
  },
  {
   "cell_type": "code",
   "execution_count": 6,
   "id": "6850ad66",
   "metadata": {},
   "outputs": [
    {
     "data": {
      "image/png": "[encoded data removed]",
      "text/plain": [
       "<Figure size 432x288 with 1 Axes>"
      ]
     },
     "metadata": {
      "needs_background": "light"
     },
     "output_type": "display_data"
    }
   ],
   "source": [
    "import numpy as np\n",
    "import matplotlib.pyplot as plt\n",
    "\n",
    "# Параметры нормального распределения\n",
    "mu = 0\n",
    "sigma = 1\n",
    "\n",
    "# Создание выборки из стандартного нормального распределения\n",
    "sample = np.random.normal(mu, sigma, 1000)\n",
    "\n",
    "# Построение гистограммы\n",
    "plt.hist(sample, bins=10, range=(-2, 2), density=True, alpha=0.6, color='b')\n",
    "\n",
    "# Отображение теоретической плотности распределения\n",
    "x = np.linspace(-2, 2, 100)\n",
    "pdf = 1/(sigma * np.sqrt(2 * np.pi)) * np.exp(-(x - mu)**2 / (2 * sigma**2))\n",
    "plt.plot(x, pdf, 'r', linewidth=2)\n",
    "\n",
    "# Настройка отображения\n",
    "plt.title('Гистограмма стандартного нормального распределения')\n",
    "plt.xlabel('Значение')\n",
    "plt.ylabel('Плотность вероятности')\n",
    "plt.grid(True)\n",
    "\n",
    "# Отображение графика\n",
    "plt.show()\n"
   ]
  },
  {
   "cell_type": "code",
   "execution_count": 10,
   "id": "59bd967b",
   "metadata": {},
   "outputs": [
    {
     "name": "stdout",
     "output_type": "stream",
     "text": [
      "Минимальный объем выборки: 62\n"
     ]
    }
   ],
   "source": [
    "import math\n",
    "from scipy.stats import norm  # Добавьте этот импорт\n",
    "\n",
    "# Заданные параметры\n",
    "confidence_level = 0.95  # Уровень доверия (например, 95%)\n",
    "margin_of_error = 0.05  # Желаемая точность (например, 5%)\n",
    "standard_deviation = 0.2  # Стандартное отклонение показателей (ваше значение)\n",
    "\n",
    "# Расчет минимального объема выборки\n",
    "z_score = abs(norm.ppf((1 - confidence_level) / 2))  # Z-значение для уровня доверия\n",
    "min_sample_size = math.ceil((z_score ** 2 * standard_deviation ** 2) / margin_of_error ** 2)\n",
    "\n",
    "print(f\"Минимальный объем выборки: {min_sample_size}\")\n"
   ]
  },
  {
   "cell_type": "code",
   "execution_count": 11,
   "id": "7525cf91",
   "metadata": {},
   "outputs": [
    {
     "name": "stdout",
     "output_type": "stream",
     "text": [
      "Минимальный размер выборки: 1537.0\n"
     ]
    }
   ],
   "source": [
    "import numpy as np\n",
    "import scipy.stats as stats\n",
    "\n",
    "# Задайте допустимую ошибку (margin of error) и уровень доверия (confidence level)\n",
    "margin_of_error = 0.05  # Например, 5%\n",
    "confidence_level = 0.95  # Например, 95%\n",
    "\n",
    "# Задайте стандартное отклонение исходных данных \n",
    "population_std_dev = sigma \n",
    "# Рассчитайте необходимый размер выборки\n",
    "z_score = stats.norm.ppf((1 + confidence_level) / 2)\n",
    "required_sample_size = ((z_score**2) * (population_std_dev**2)) / (margin_of_error**2)\n",
    "\n",
    "# Округлите размер выборки до ближайшего целого числа, так как он должен быть целым\n",
    "required_sample_size = np.ceil(required_sample_size)\n",
    "\n",
    "print(f\"Минимальный размер выборки: {required_sample_size}\")"
   ]
  },
  {
   "cell_type": "markdown",
   "id": "5e43a13b",
   "metadata": {},
   "source": [
    "# Эффективность входа в позицию"
   ]
  },
  {
   "cell_type": "markdown",
   "id": "06181d16",
   "metadata": {},
   "source": [
    "### Для длинных позиций (long positions):"
   ]
  },
  {
   "cell_type": "code",
   "execution_count": 36,
   "id": "fb60a052",
   "metadata": {},
   "outputs": [
    {
     "data": {
      "text/plain": [
       "0.6"
      ]
     },
     "execution_count": 36,
     "metadata": {},
     "output_type": "execute_result"
    }
   ],
   "source": [
    "max_price_in_trade = 105\n",
    "min_price_in_trade = 100\n",
    "enter_price = 102\n",
    "\n",
    "enter_efficiency_long = (max_price_in_trade - enter_price) / (max_price_in_trade - min_price_in_trade)\n",
    "enter_efficiency_long"
   ]
  },
  {
   "cell_type": "markdown",
   "id": "074fa75b",
   "metadata": {},
   "source": [
    "### Для коротких позиций (short positions):"
   ]
  },
  {
   "cell_type": "code",
   "execution_count": 35,
   "id": "2692938e",
   "metadata": {},
   "outputs": [
    {
     "data": {
      "text/plain": [
       "0.4"
      ]
     },
     "execution_count": 35,
     "metadata": {},
     "output_type": "execute_result"
    }
   ],
   "source": [
    "enter_efficiency = (enter_price - min_price_in_trade) / (max_price_in_trade - min_price_in_trade)\n",
    "enter_efficiency "
   ]
  },
  {
   "cell_type": "markdown",
   "id": "dd061353",
   "metadata": {},
   "source": [
    "# Эффективность выхода из позиции:"
   ]
  },
  {
   "cell_type": "markdown",
   "id": "9b769e28",
   "metadata": {},
   "source": [
    "### Для длинных позиций (long positions):"
   ]
  },
  {
   "cell_type": "code",
   "execution_count": 27,
   "id": "a338c13c",
   "metadata": {},
   "outputs": [
    {
     "data": {
      "text/plain": [
       "0.8"
      ]
     },
     "execution_count": 27,
     "metadata": {},
     "output_type": "execute_result"
    }
   ],
   "source": [
    "exit_price = 104\n",
    "\n",
    "exit_efficiency_long = (exit_price - min_price_in_trade) / (max_price_in_trade - min_price_in_trade)\n",
    "exit_efficiency_long"
   ]
  },
  {
   "cell_type": "markdown",
   "id": "1eeb6528",
   "metadata": {},
   "source": [
    "### Для коротких позиций (short positions):"
   ]
  },
  {
   "cell_type": "code",
   "execution_count": 28,
   "id": "e0857f0d",
   "metadata": {},
   "outputs": [
    {
     "data": {
      "text/plain": [
       "0.2"
      ]
     },
     "execution_count": 28,
     "metadata": {},
     "output_type": "execute_result"
    }
   ],
   "source": [
    "exit_efficiency_short = ( max_price_in_trade - exit_price ) / (max_price_in_trade - min_price_in_trade)\n",
    "exit_efficiency_short"
   ]
  },
  {
   "cell_type": "markdown",
   "id": "1e2e7a5b",
   "metadata": {},
   "source": [
    "# Эффективность сделки"
   ]
  },
  {
   "cell_type": "markdown",
   "id": "326126a9",
   "metadata": {},
   "source": [
    "### Для длинных позиций (long positions):"
   ]
  },
  {
   "cell_type": "code",
   "execution_count": 31,
   "id": "8bb7c65d",
   "metadata": {},
   "outputs": [
    {
     "data": {
      "text/plain": [
       "0.4"
      ]
     },
     "execution_count": 31,
     "metadata": {},
     "output_type": "execute_result"
    }
   ],
   "source": [
    "trade_efficiency_long = (exit_price - enter_price) / (max_price_in_trade - min_price_in_trade)\n",
    "trade_efficiency_long"
   ]
  },
  {
   "cell_type": "markdown",
   "id": "cd6f85a4",
   "metadata": {},
   "source": [
    "### Для коротких позиций (short positions):"
   ]
  },
  {
   "cell_type": "code",
   "execution_count": 32,
   "id": "1648ed6e",
   "metadata": {},
   "outputs": [],
   "source": [
    "trade_efficiency_short = (enter_price - exit_price) / (max_price_in_trade - min_price_in_trade)"
   ]
  },
  {
   "cell_type": "code",
   "execution_count": 37,
   "id": "026351c6",
   "metadata": {},
   "outputs": [
    {
     "data": {
      "text/plain": [
       "0.3999999999999999"
      ]
     },
     "execution_count": 37,
     "metadata": {},
     "output_type": "execute_result"
    }
   ],
   "source": [
    "trade_efficiency = enter_efficiency_long + exit_efficiency_long - 1\n",
    "trade_efficiency"
   ]
  },
  {
   "cell_type": "markdown",
   "id": "cccc2c03",
   "metadata": {},
   "source": [
    "Эффективность сделки может принимать значения от -1 до 1.\n",
    "Считается что у МТС средняя эффективность входов и средняя\n",
    "эффективность выходов должна быть больше 0.6, то есть средняя\n",
    "эффективность сделки должна превышать 0.2. Анализ эффективностей наглядно показывает направления усовершенствования системы, так как позволяет раздельно оценить качество сигналов на вход\n",
    "в позицию и сигналов на выход из нее"
   ]
  },
  {
   "cell_type": "code",
   "execution_count": 38,
   "id": "fc341288",
   "metadata": {},
   "outputs": [
    {
     "data": {
      "image/png": "[encoded data removed]",
      "text/plain": [
       "<Figure size 432x288 with 1 Axes>"
      ]
     },
     "metadata": {
      "needs_background": "light"
     },
     "output_type": "display_data"
    }
   ],
   "source": [
    "import matplotlib.pyplot as plt\n",
    "\n",
    "# Пример данных (даты и чистая прибыль)\n",
    "dates = ['2023-01-01', '2023-01-02', '2023-01-03', '2023-01-04', '2023-01-05']\n",
    "net_profit = [100, -50, 75, -30, 120]\n",
    "\n",
    "# Инициализация накопленной прибыли\n",
    "cumulative_profit = [net_profit[0]]\n",
    "\n",
    "# Накопление прибыли\n",
    "for i in range(1, len(net_profit)):\n",
    "    cumulative_profit.append(cumulative_profit[i - 1] + net_profit[i])\n",
    "\n",
    "# Построение кумулятивной кривой\n",
    "plt.plot(dates, cumulative_profit, marker='o', linestyle='-')\n",
    "plt.xlabel('Дата сделки')\n",
    "plt.ylabel('Накопленная прибыль')\n",
    "plt.title('Кумулятивная кривая дохода сделок')\n",
    "plt.xticks(rotation=45)\n",
    "plt.grid(True)\n",
    "plt.show()\n"
   ]
  },
  {
   "cell_type": "markdown",
   "id": "b804a137",
   "metadata": {},
   "source": [
    "!pip install --upgrade scidownl "
   ]
  },
  {
   "cell_type": "markdown",
   "id": "88713529",
   "metadata": {},
   "source": [
    "!pip install --upgrade libray "
   ]
  },
  {
   "cell_type": "markdown",
   "id": "60d5ba53",
   "metadata": {},
   "source": [
    "!pip install --upgrade nbconvert"
   ]
  },
  {
   "cell_type": "markdown",
   "id": "140f3ba1",
   "metadata": {},
   "source": [
    "!pip install --upgrade spyder"
   ]
  },
  {
   "cell_type": "code",
   "execution_count": 39,
   "id": "40aa1dbd",
   "metadata": {},
   "outputs": [],
   "source": [
    "import numpy as np #The Numpy numerical computing library\n",
    "import pandas as pd #The Pandas data science library\n",
    "import requests #The requests library for HTTP requests in Python\n",
    "import xlsxwriter #The XlsxWriter libarary for \n",
    "import math #The Python math module"
   ]
  },
  {
   "cell_type": "code",
   "execution_count": 68,
   "id": "d3436ee9",
   "metadata": {},
   "outputs": [],
   "source": [
    "import bs4 as bs\n",
    "import requests\n",
    "import yfinance as yf\n",
    "import datetime"
   ]
  },
  {
   "cell_type": "code",
   "execution_count": 69,
   "id": "81f02e7b",
   "metadata": {},
   "outputs": [],
   "source": [
    "resp = requests.get('http://en.wikipedia.org/wiki/List_of_S%26P_500_companies')\n",
    "soup = bs.BeautifulSoup(resp.text, 'lxml')\n",
    "table = soup.find('table', {'class': 'wikitable sortable'})"
   ]
  },
  {
   "cell_type": "code",
   "execution_count": 70,
   "id": "c0673f22",
   "metadata": {},
   "outputs": [],
   "source": [
    "tickers = []\n",
    "\n",
    "for row in table.findAll('tr')[1:]:\n",
    "    ticker = row.findAll('td')[0].text\n",
    "    tickers.append(ticker)"
   ]
  },
  {
   "cell_type": "code",
   "execution_count": 71,
   "id": "f3457556",
   "metadata": {},
   "outputs": [
    {
     "name": "stdout",
     "output_type": "stream",
     "text": [
      "['MMM\\n', 'AOS\\n', 'ABT\\n', 'ABBV\\n', 'ACN\\n', 'ATVI\\n', 'ADM\\n', 'ADBE\\n', 'ADP\\n', 'AES\\n', 'AFL\\n', 'A\\n', 'ABNB\\n', 'APD\\n', 'AKAM\\n', 'ALK\\n', 'ALB\\n', 'ARE\\n', 'ALGN\\n', 'ALLE\\n', 'LNT\\n', 'ALL\\n', 'GOOGL\\n', 'GOOG\\n', 'MO\\n', 'AMZN\\n', 'AMCR\\n', 'AMD\\n', 'AEE\\n', 'AAL\\n', 'AEP\\n', 'AXP\\n', 'AIG\\n', 'AMT\\n', 'AWK\\n', 'AMP\\n', 'AME\\n', 'AMGN\\n', 'APH\\n', 'ADI\\n', 'ANSS\\n', 'AON\\n', 'APA\\n', 'AAPL\\n', 'AMAT\\n', 'APTV\\n', 'ACGL\\n', 'ANET\\n', 'AJG\\n', 'AIZ\\n', 'T\\n', 'ATO\\n', 'ADSK\\n', 'AZO\\n', 'AVB\\n', 'AVY\\n', 'AXON\\n', 'BKR\\n', 'BALL\\n', 'BAC\\n', 'BBWI\\n', 'BAX\\n', 'BDX\\n', 'WRB\\n', 'BRK.B\\n', 'BBY\\n', 'BIO\\n', 'TECH\\n', 'BIIB\\n', 'BLK\\n', 'BX\\n', 'BK\\n', 'BA\\n', 'BKNG\\n', 'BWA\\n', 'BXP\\n', 'BSX\\n', 'BMY\\n', 'AVGO\\n', 'BR\\n', 'BRO\\n', 'BF.B\\n', 'BG\\n', 'CHRW\\n', 'CDNS\\n', 'CZR\\n', 'CPT\\n', 'CPB\\n', 'COF\\n', 'CAH\\n', 'KMX\\n', 'CCL\\n', 'CARR\\n', 'CTLT\\n', 'CAT\\n', 'CBOE\\n', 'CBRE\\n', 'CDW\\n', 'CE\\n', 'COR\\n', 'CNC\\n', 'CNP\\n', 'CDAY\\n', 'CF\\n', 'CRL\\n', 'SCHW\\n', 'CHTR\\n', 'CVX\\n', 'CMG\\n', 'CB\\n', 'CHD\\n', 'CI\\n', 'CINF\\n', 'CTAS\\n', 'CSCO\\n', 'C\\n', 'CFG\\n', 'CLX\\n', 'CME\\n', 'CMS\\n', 'KO\\n', 'CTSH\\n', 'CL\\n', 'CMCSA\\n', 'CMA\\n', 'CAG\\n', 'COP\\n', 'ED\\n', 'STZ\\n', 'CEG\\n', 'COO\\n', 'CPRT\\n', 'GLW\\n', 'CTVA\\n', 'CSGP\\n', 'COST\\n', 'CTRA\\n', 'CCI\\n', 'CSX\\n', 'CMI\\n', 'CVS\\n', 'DHI\\n', 'DHR\\n', 'DRI\\n', 'DVA\\n', 'DE\\n', 'DAL\\n', 'XRAY\\n', 'DVN\\n', 'DXCM\\n', 'FANG\\n', 'DLR\\n', 'DFS\\n', 'DIS\\n', 'DG\\n', 'DLTR\\n', 'D\\n', 'DPZ\\n', 'DOV\\n', 'DOW\\n', 'DTE\\n', 'DUK\\n', 'DD\\n', 'DXC\\n', 'EMN\\n', 'ETN\\n', 'EBAY\\n', 'ECL\\n', 'EIX\\n', 'EW\\n', 'EA\\n', 'ELV\\n', 'LLY\\n', 'EMR\\n', 'ENPH\\n', 'ETR\\n', 'EOG\\n', 'EPAM\\n', 'EQT\\n', 'EFX\\n', 'EQIX\\n', 'EQR\\n', 'ESS\\n', 'EL\\n', 'ETSY\\n', 'EG\\n', 'EVRG\\n', 'ES\\n', 'EXC\\n', 'EXPE\\n', 'EXPD\\n', 'EXR\\n', 'XOM\\n', 'FFIV\\n', 'FDS\\n', 'FICO\\n', 'FAST\\n', 'FRT\\n', 'FDX\\n', 'FITB\\n', 'FSLR\\n', 'FE\\n', 'FIS\\n', 'FI\\n', 'FLT\\n', 'FMC\\n', 'F\\n', 'FTNT\\n', 'FTV\\n', 'FOXA\\n', 'FOX\\n', 'BEN\\n', 'FCX\\n', 'GRMN\\n', 'IT\\n', 'GEHC\\n', 'GEN\\n', 'GNRC\\n', 'GD\\n', 'GE\\n', 'GIS\\n', 'GM\\n', 'GPC\\n', 'GILD\\n', 'GL\\n', 'GPN\\n', 'GS\\n', 'HAL\\n', 'HIG\\n', 'HAS\\n', 'HCA\\n', 'PEAK\\n', 'HSIC\\n', 'HSY\\n', 'HES\\n', 'HPE\\n', 'HLT\\n', 'HOLX\\n', 'HD\\n', 'HON\\n', 'HRL\\n', 'HST\\n', 'HWM\\n', 'HPQ\\n', 'HUM\\n', 'HBAN\\n', 'HII\\n', 'IBM\\n', 'IEX\\n', 'IDXX\\n', 'ITW\\n', 'ILMN\\n', 'INCY\\n', 'IR\\n', 'PODD\\n', 'INTC\\n', 'ICE\\n', 'IFF\\n', 'IP\\n', 'IPG\\n', 'INTU\\n', 'ISRG\\n', 'IVZ\\n', 'INVH\\n', 'IQV\\n', 'IRM\\n', 'JBHT\\n', 'JKHY\\n', 'J\\n', 'JNJ\\n', 'JCI\\n', 'JPM\\n', 'JNPR\\n', 'K\\n', 'KVUE\\n', 'KDP\\n', 'KEY\\n', 'KEYS\\n', 'KMB\\n', 'KIM\\n', 'KMI\\n', 'KLAC\\n', 'KHC\\n', 'KR\\n', 'LHX\\n', 'LH\\n', 'LRCX\\n', 'LW\\n', 'LVS\\n', 'LDOS\\n', 'LEN\\n', 'LIN\\n', 'LYV\\n', 'LKQ\\n', 'LMT\\n', 'L\\n', 'LOW\\n', 'LYB\\n', 'MTB\\n', 'MRO\\n', 'MPC\\n', 'MKTX\\n', 'MAR\\n', 'MMC\\n', 'MLM\\n', 'MAS\\n', 'MA\\n', 'MTCH\\n', 'MKC\\n', 'MCD\\n', 'MCK\\n', 'MDT\\n', 'MRK\\n', 'META\\n', 'MET\\n', 'MTD\\n', 'MGM\\n', 'MCHP\\n', 'MU\\n', 'MSFT\\n', 'MAA\\n', 'MRNA\\n', 'MHK\\n', 'MOH\\n', 'TAP\\n', 'MDLZ\\n', 'MPWR\\n', 'MNST\\n', 'MCO\\n', 'MS\\n', 'MOS\\n', 'MSI\\n', 'MSCI\\n', 'NDAQ\\n', 'NTAP\\n', 'NFLX\\n', 'NEM\\n', 'NWSA\\n', 'NWS\\n', 'NEE\\n', 'NKE\\n', 'NI\\n', 'NDSN\\n', 'NSC\\n', 'NTRS\\n', 'NOC\\n', 'NCLH\\n', 'NRG\\n', 'NUE\\n', 'NVDA\\n', 'NVR\\n', 'NXPI\\n', 'ORLY\\n', 'OXY\\n', 'ODFL\\n', 'OMC\\n', 'ON\\n', 'OKE\\n', 'ORCL\\n', 'OGN\\n', 'OTIS\\n', 'PCAR\\n', 'PKG\\n', 'PANW\\n', 'PARA\\n', 'PH\\n', 'PAYX\\n', 'PAYC\\n', 'PYPL\\n', 'PNR\\n', 'PEP\\n', 'PFE\\n', 'PCG\\n', 'PM\\n', 'PSX\\n', 'PNW\\n', 'PXD\\n', 'PNC\\n', 'POOL\\n', 'PPG\\n', 'PPL\\n', 'PFG\\n', 'PG\\n', 'PGR\\n', 'PLD\\n', 'PRU\\n', 'PEG\\n', 'PTC\\n', 'PSA\\n', 'PHM\\n', 'QRVO\\n', 'PWR\\n', 'QCOM\\n', 'DGX\\n', 'RL\\n', 'RJF\\n', 'RTX\\n', 'O\\n', 'REG\\n', 'REGN\\n', 'RF\\n', 'RSG\\n', 'RMD\\n', 'RVTY\\n', 'RHI\\n', 'ROK\\n', 'ROL\\n', 'ROP\\n', 'ROST\\n', 'RCL\\n', 'SPGI\\n', 'CRM\\n', 'SBAC\\n', 'SLB\\n', 'STX\\n', 'SEE\\n', 'SRE\\n', 'NOW\\n', 'SHW\\n', 'SPG\\n', 'SWKS\\n', 'SJM\\n', 'SNA\\n', 'SEDG\\n', 'SO\\n', 'LUV\\n', 'SWK\\n', 'SBUX\\n', 'STT\\n', 'STLD\\n', 'STE\\n', 'SYK\\n', 'SYF\\n', 'SNPS\\n', 'SYY\\n', 'TMUS\\n', 'TROW\\n', 'TTWO\\n', 'TPR\\n', 'TRGP\\n', 'TGT\\n', 'TEL\\n', 'TDY\\n', 'TFX\\n', 'TER\\n', 'TSLA\\n', 'TXN\\n', 'TXT\\n', 'TMO\\n', 'TJX\\n', 'TSCO\\n', 'TT\\n', 'TDG\\n', 'TRV\\n', 'TRMB\\n', 'TFC\\n', 'TYL\\n', 'TSN\\n', 'USB\\n', 'UDR\\n', 'ULTA\\n', 'UNP\\n', 'UAL\\n', 'UPS\\n', 'URI\\n', 'UNH\\n', 'UHS\\n', 'VLO\\n', 'VTR\\n', 'VRSN\\n', 'VRSK\\n', 'VZ\\n', 'VRTX\\n', 'VFC\\n', 'VTRS\\n', 'VICI\\n', 'V\\n', 'VMC\\n', 'WAB\\n', 'WBA\\n', 'WMT\\n', 'WBD\\n', 'WM\\n', 'WAT\\n', 'WEC\\n', 'WFC\\n', 'WELL\\n', 'WST\\n', 'WDC\\n', 'WRK\\n', 'WY\\n', 'WHR\\n', 'WMB\\n', 'WTW\\n', 'GWW\\n', 'WYNN\\n', 'XEL\\n', 'XYL\\n', 'YUM\\n', 'ZBRA\\n', 'ZBH\\n', 'ZION\\n', 'ZTS\\n']\n"
     ]
    }
   ],
   "source": [
    "print(tickers)"
   ]
  },
  {
   "cell_type": "code",
   "execution_count": 72,
   "id": "dac2ecad",
   "metadata": {},
   "outputs": [],
   "source": [
    "tickers = [s.replace('\\n', '') for s in tickers]"
   ]
  },
  {
   "cell_type": "code",
   "execution_count": 127,
   "id": "289ac5cc",
   "metadata": {},
   "outputs": [
    {
     "name": "stdout",
     "output_type": "stream",
     "text": [
      "['MMM', 'AOS', 'ABT', 'ABBV', 'ACN', 'ATVI', 'ADM', 'ADBE', 'ADP', 'AES', 'AFL', 'A', 'ABNB', 'APD', 'AKAM', 'ALK', 'ALB', 'ARE', 'ALGN', 'ALLE', 'LNT', 'ALL', 'GOOGL', 'GOOG', 'MO', 'AMZN', 'AMCR', 'AMD', 'AEE', 'AAL', 'AEP', 'AXP', 'AIG', 'AMT', 'AWK', 'AMP', 'AME', 'AMGN', 'APH', 'ADI', 'ANSS', 'AON', 'APA', 'AAPL', 'AMAT', 'APTV', 'ACGL', 'ANET', 'AJG', 'AIZ', 'T', 'ATO', 'ADSK', 'AZO', 'AVB', 'AVY', 'AXON', 'BKR', 'BALL', 'BAC', 'BBWI', 'BAX', 'BDX', 'WRB', 'BRK.B', 'BBY', 'BIO', 'TECH', 'BIIB', 'BLK', 'BX', 'BK', 'BA', 'BKNG', 'BWA', 'BXP', 'BSX', 'BMY', 'AVGO', 'BR', 'BRO', 'BF.B', 'BG', 'CHRW', 'CDNS', 'CZR', 'CPT', 'CPB', 'COF', 'CAH', 'KMX', 'CCL', 'CARR', 'CTLT', 'CAT', 'CBOE', 'CBRE', 'CDW', 'CE', 'COR', 'CNC', 'CNP', 'CDAY', 'CF', 'CRL', 'SCHW', 'CHTR', 'CVX', 'CMG', 'CB', 'CHD', 'CI', 'CINF', 'CTAS', 'CSCO', 'C', 'CFG', 'CLX', 'CME', 'CMS', 'KO', 'CTSH', 'CL', 'CMCSA', 'CMA', 'CAG', 'COP', 'ED', 'STZ', 'CEG', 'COO', 'CPRT', 'GLW', 'CTVA', 'CSGP', 'COST', 'CTRA', 'CCI', 'CSX', 'CMI', 'CVS', 'DHI', 'DHR', 'DRI', 'DVA', 'DE', 'DAL', 'XRAY', 'DVN', 'DXCM', 'FANG', 'DLR', 'DFS', 'DIS', 'DG', 'DLTR', 'D', 'DPZ', 'DOV', 'DOW', 'DTE', 'DUK', 'DD', 'DXC', 'EMN', 'ETN', 'EBAY', 'ECL', 'EIX', 'EW', 'EA', 'ELV', 'LLY', 'EMR', 'ENPH', 'ETR', 'EOG', 'EPAM', 'EQT', 'EFX', 'EQIX', 'EQR', 'ESS', 'EL', 'ETSY', 'EG', 'EVRG', 'ES', 'EXC', 'EXPE', 'EXPD', 'EXR', 'XOM', 'FFIV', 'FDS', 'FICO', 'FAST', 'FRT', 'FDX', 'FITB', 'FSLR', 'FE', 'FIS', 'FI', 'FLT', 'FMC', 'F', 'FTNT', 'FTV', 'FOXA', 'FOX', 'BEN', 'FCX', 'GRMN', 'IT', 'GEHC', 'GEN', 'GNRC', 'GD', 'GE', 'GIS', 'GM', 'GPC', 'GILD', 'GL', 'GPN', 'GS', 'HAL', 'HIG', 'HAS', 'HCA', 'PEAK', 'HSIC', 'HSY', 'HES', 'HPE', 'HLT', 'HOLX', 'HD', 'HON', 'HRL', 'HST', 'HWM', 'HPQ', 'HUM', 'HBAN', 'HII', 'IBM', 'IEX', 'IDXX', 'ITW', 'ILMN', 'INCY', 'IR', 'PODD', 'INTC', 'ICE', 'IFF', 'IP', 'IPG', 'INTU', 'ISRG', 'IVZ', 'INVH', 'IQV', 'IRM', 'JBHT', 'JKHY', 'J', 'JNJ', 'JCI', 'JPM', 'JNPR', 'K', 'KVUE', 'KDP', 'KEY', 'KEYS', 'KMB', 'KIM', 'KMI', 'KLAC', 'KHC', 'KR', 'LHX', 'LH', 'LRCX', 'LW', 'LVS', 'LDOS', 'LEN', 'LIN', 'LYV', 'LKQ', 'LMT', 'L', 'LOW', 'LYB', 'MTB', 'MRO', 'MPC', 'MKTX', 'MAR', 'MMC', 'MLM', 'MAS', 'MA', 'MTCH', 'MKC', 'MCD', 'MCK', 'MDT', 'MRK', 'META', 'MET', 'MTD', 'MGM', 'MCHP', 'MU', 'MSFT', 'MAA', 'MRNA', 'MHK', 'MOH', 'TAP', 'MDLZ', 'MPWR', 'MNST', 'MCO', 'MS', 'MOS', 'MSI', 'MSCI', 'NDAQ', 'NTAP', 'NFLX', 'NEM', 'NWSA', 'NWS', 'NEE', 'NKE', 'NI', 'NDSN', 'NSC', 'NTRS', 'NOC', 'NCLH', 'NRG', 'NUE', 'NVDA', 'NVR', 'NXPI', 'ORLY', 'OXY', 'ODFL', 'OMC', 'ON', 'OKE', 'ORCL', 'OGN', 'OTIS', 'PCAR', 'PKG', 'PANW', 'PARA', 'PH', 'PAYX', 'PAYC', 'PYPL', 'PNR', 'PEP', 'PFE', 'PCG', 'PM', 'PSX', 'PNW', 'PXD', 'PNC', 'POOL', 'PPG', 'PPL', 'PFG', 'PG', 'PGR', 'PLD', 'PRU', 'PEG', 'PTC', 'PSA', 'PHM', 'QRVO', 'PWR', 'QCOM', 'DGX', 'RL', 'RJF', 'RTX', 'O', 'REG', 'REGN', 'RF', 'RSG', 'RMD', 'RVTY', 'RHI', 'ROK', 'ROL', 'ROP', 'ROST', 'RCL', 'SPGI', 'CRM', 'SBAC', 'SLB', 'STX', 'SEE', 'SRE', 'NOW', 'SHW', 'SPG', 'SWKS', 'SJM', 'SNA', 'SEDG', 'SO', 'LUV', 'SWK', 'SBUX', 'STT', 'STLD', 'STE', 'SYK', 'SYF', 'SNPS', 'SYY', 'TMUS', 'TROW', 'TTWO', 'TPR', 'TRGP', 'TGT', 'TEL', 'TDY', 'TFX', 'TER', 'TSLA', 'TXN', 'TXT', 'TMO', 'TJX', 'TSCO', 'TT', 'TDG', 'TRV', 'TRMB', 'TFC', 'TYL', 'TSN', 'USB', 'UDR', 'ULTA', 'UNP', 'UAL', 'UPS', 'URI', 'UNH', 'UHS', 'VLO', 'VTR', 'VRSN', 'VRSK', 'VZ', 'VRTX', 'VFC', 'VTRS', 'VICI', 'V', 'VMC', 'WAB', 'WBA', 'WMT', 'WBD', 'WM', 'WAT', 'WEC', 'WFC', 'WELL', 'WST', 'WDC', 'WRK', 'WY', 'WHR', 'WMB', 'WTW', 'GWW', 'WYNN', 'XEL', 'XYL', 'YUM', 'ZBRA', 'ZBH', 'ZION', 'ZTS']\n"
     ]
    }
   ],
   "source": [
    "print(tickers)"
   ]
  },
  {
   "cell_type": "code",
   "execution_count": 74,
   "id": "30743816",
   "metadata": {},
   "outputs": [
    {
     "name": "stdout",
     "output_type": "stream",
     "text": [
      "[*********************100%%**********************]  503 of 503 completed"
     ]
    },
    {
     "name": "stderr",
     "output_type": "stream",
     "text": [
      "\n",
      "5 Failed downloads:\n",
      "['BF.B']: Exception('%ticker%: No price data found, symbol may be delisted (1d 2020-01-01 00:00:00 -> 2022-01-01 00:00:00)')\n",
      "['BRK.B']: Exception('%ticker%: No timezone found, symbol may be delisted')\n",
      "['KVUE', 'GEHC', 'CEG']: Exception(\"%ticker%: Data doesn't exist for startDate = 1577854800, endDate = 1641013200\")\n"
     ]
    },
    {
     "name": "stdout",
     "output_type": "stream",
     "text": [
      "\n"
     ]
    }
   ],
   "source": [
    "start = datetime.datetime(2020, 1, 1)\n",
    "end = datetime.datetime(2022, 1, 1)\n",
    "data = yf.download(tickers, start=start, end=end)"
   ]
  },
  {
   "cell_type": "code",
   "execution_count": 75,
   "id": "94f790eb",
   "metadata": {},
   "outputs": [],
   "source": [
    "df = data.stack().reset_index().rename(index=str, columns={\"level_1\": \"Symbol\"}).sort_values(['Symbol','Date'])\n",
    "df.set_index('Date', inplace=True)"
   ]
  },
  {
   "cell_type": "code",
   "execution_count": 76,
   "id": "fea9e194",
   "metadata": {},
   "outputs": [],
   "source": [
    "df.to_csv('sp500_stocks.csv')"
   ]
  },
  {
   "cell_type": "code",
   "execution_count": 77,
   "id": "cca386da",
   "metadata": {},
   "outputs": [],
   "source": [
    "stocks = df"
   ]
  },
  {
   "cell_type": "code",
   "execution_count": 78,
   "id": "63f2722a",
   "metadata": {},
   "outputs": [
    {
     "data": {
      "text/html": [
       "<div>\n",
       "<style scoped>\n",
       "    .dataframe tbody tr th:only-of-type {\n",
       "        vertical-align: middle;\n",
       "    }\n",
       "\n",
       "    .dataframe tbody tr th {\n",
       "        vertical-align: top;\n",
       "    }\n",
       "\n",
       "    .dataframe thead th {\n",
       "        text-align: right;\n",
       "    }\n",
       "</style>\n",
       "<table border=\"1\" class=\"dataframe\">\n",
       "  <thead>\n",
       "    <tr style=\"text-align: right;\">\n",
       "      <th></th>\n",
       "      <th>Symbol</th>\n",
       "      <th>Adj Close</th>\n",
       "      <th>Close</th>\n",
       "      <th>High</th>\n",
       "      <th>Low</th>\n",
       "      <th>Open</th>\n",
       "      <th>Volume</th>\n",
       "    </tr>\n",
       "    <tr>\n",
       "      <th>Date</th>\n",
       "      <th></th>\n",
       "      <th></th>\n",
       "      <th></th>\n",
       "      <th></th>\n",
       "      <th></th>\n",
       "      <th></th>\n",
       "      <th></th>\n",
       "    </tr>\n",
       "  </thead>\n",
       "  <tbody>\n",
       "    <tr>\n",
       "      <th>2020-01-02</th>\n",
       "      <td>A</td>\n",
       "      <td>83.779137</td>\n",
       "      <td>85.949997</td>\n",
       "      <td>86.349998</td>\n",
       "      <td>85.199997</td>\n",
       "      <td>85.900002</td>\n",
       "      <td>1410500.0</td>\n",
       "    </tr>\n",
       "    <tr>\n",
       "      <th>2020-01-03</th>\n",
       "      <td>A</td>\n",
       "      <td>82.433998</td>\n",
       "      <td>84.570000</td>\n",
       "      <td>85.330002</td>\n",
       "      <td>84.500000</td>\n",
       "      <td>84.669998</td>\n",
       "      <td>1118300.0</td>\n",
       "    </tr>\n",
       "    <tr>\n",
       "      <th>2020-01-06</th>\n",
       "      <td>A</td>\n",
       "      <td>82.677673</td>\n",
       "      <td>84.820000</td>\n",
       "      <td>84.820000</td>\n",
       "      <td>83.599998</td>\n",
       "      <td>84.000000</td>\n",
       "      <td>1993200.0</td>\n",
       "    </tr>\n",
       "    <tr>\n",
       "      <th>2020-01-07</th>\n",
       "      <td>A</td>\n",
       "      <td>82.931122</td>\n",
       "      <td>85.080002</td>\n",
       "      <td>85.260002</td>\n",
       "      <td>83.940002</td>\n",
       "      <td>83.959999</td>\n",
       "      <td>1684700.0</td>\n",
       "    </tr>\n",
       "    <tr>\n",
       "      <th>2020-01-08</th>\n",
       "      <td>A</td>\n",
       "      <td>83.749886</td>\n",
       "      <td>85.919998</td>\n",
       "      <td>86.470001</td>\n",
       "      <td>85.199997</td>\n",
       "      <td>85.959999</td>\n",
       "      <td>1847600.0</td>\n",
       "    </tr>\n",
       "    <tr>\n",
       "      <th>...</th>\n",
       "      <td>...</td>\n",
       "      <td>...</td>\n",
       "      <td>...</td>\n",
       "      <td>...</td>\n",
       "      <td>...</td>\n",
       "      <td>...</td>\n",
       "      <td>...</td>\n",
       "    </tr>\n",
       "    <tr>\n",
       "      <th>2021-12-27</th>\n",
       "      <td>ZTS</td>\n",
       "      <td>243.083099</td>\n",
       "      <td>246.509995</td>\n",
       "      <td>246.720001</td>\n",
       "      <td>243.080002</td>\n",
       "      <td>244.389999</td>\n",
       "      <td>807000.0</td>\n",
       "    </tr>\n",
       "    <tr>\n",
       "      <th>2021-12-28</th>\n",
       "      <td>ZTS</td>\n",
       "      <td>240.854523</td>\n",
       "      <td>244.250000</td>\n",
       "      <td>247.839996</td>\n",
       "      <td>243.639999</td>\n",
       "      <td>247.000000</td>\n",
       "      <td>1004400.0</td>\n",
       "    </tr>\n",
       "    <tr>\n",
       "      <th>2021-12-29</th>\n",
       "      <td>ZTS</td>\n",
       "      <td>243.595840</td>\n",
       "      <td>247.029999</td>\n",
       "      <td>247.850006</td>\n",
       "      <td>243.639999</td>\n",
       "      <td>244.020004</td>\n",
       "      <td>939900.0</td>\n",
       "    </tr>\n",
       "    <tr>\n",
       "      <th>2021-12-30</th>\n",
       "      <td>ZTS</td>\n",
       "      <td>241.751862</td>\n",
       "      <td>245.160004</td>\n",
       "      <td>249.270004</td>\n",
       "      <td>244.960007</td>\n",
       "      <td>247.050003</td>\n",
       "      <td>859100.0</td>\n",
       "    </tr>\n",
       "    <tr>\n",
       "      <th>2021-12-31</th>\n",
       "      <td>ZTS</td>\n",
       "      <td>240.637543</td>\n",
       "      <td>244.029999</td>\n",
       "      <td>246.990005</td>\n",
       "      <td>243.740005</td>\n",
       "      <td>245.160004</td>\n",
       "      <td>1073400.0</td>\n",
       "    </tr>\n",
       "  </tbody>\n",
       "</table>\n",
       "<p>250801 rows × 7 columns</p>\n",
       "</div>"
      ],
      "text/plain": [
       "           Symbol   Adj Close       Close        High         Low        Open  \\\n",
       "Date                                                                            \n",
       "2020-01-02      A   83.779137   85.949997   86.349998   85.199997   85.900002   \n",
       "2020-01-03      A   82.433998   84.570000   85.330002   84.500000   84.669998   \n",
       "2020-01-06      A   82.677673   84.820000   84.820000   83.599998   84.000000   \n",
       "2020-01-07      A   82.931122   85.080002   85.260002   83.940002   83.959999   \n",
       "2020-01-08      A   83.749886   85.919998   86.470001   85.199997   85.959999   \n",
       "...           ...         ...         ...         ...         ...         ...   \n",
       "2021-12-27    ZTS  243.083099  246.509995  246.720001  243.080002  244.389999   \n",
       "2021-12-28    ZTS  240.854523  244.250000  247.839996  243.639999  247.000000   \n",
       "2021-12-29    ZTS  243.595840  247.029999  247.850006  243.639999  244.020004   \n",
       "2021-12-30    ZTS  241.751862  245.160004  249.270004  244.960007  247.050003   \n",
       "2021-12-31    ZTS  240.637543  244.029999  246.990005  243.740005  245.160004   \n",
       "\n",
       "               Volume  \n",
       "Date                   \n",
       "2020-01-02  1410500.0  \n",
       "2020-01-03  1118300.0  \n",
       "2020-01-06  1993200.0  \n",
       "2020-01-07  1684700.0  \n",
       "2020-01-08  1847600.0  \n",
       "...               ...  \n",
       "2021-12-27   807000.0  \n",
       "2021-12-28  1004400.0  \n",
       "2021-12-29   939900.0  \n",
       "2021-12-30   859100.0  \n",
       "2021-12-31  1073400.0  \n",
       "\n",
       "[250801 rows x 7 columns]"
      ]
     },
     "execution_count": 78,
     "metadata": {},
     "output_type": "execute_result"
    }
   ],
   "source": [
    "stocks"
   ]
  },
  {
   "cell_type": "code",
   "execution_count": 98,
   "id": "93a018f0",
   "metadata": {},
   "outputs": [],
   "source": []
  },
  {
   "cell_type": "code",
   "execution_count": 101,
   "id": "57d445f9",
   "metadata": {},
   "outputs": [
    {
     "name": "stderr",
     "output_type": "stream",
     "text": [
      "C:\\Users\\MARGAR~1\\AppData\\Local\\Temp/ipykernel_16036/535566360.py:6: MatplotlibDeprecationWarning: The seaborn styles shipped by Matplotlib are deprecated since 3.6, as they no longer correspond to the styles shipped by seaborn. However, they will remain available as 'seaborn-v0_8-<style>'. Alternatively, directly use the seaborn API instead.\n",
      "  plt.style.use('seaborn-whitegrid')\n"
     ]
    }
   ],
   "source": [
    "import pandas as pd\n",
    "import requests\n",
    "from termcolor import colored as cl\n",
    "import matplotlib.pyplot as plt\n",
    "\n",
    "plt.style.use('seaborn-whitegrid')\n",
    "plt.rcParams['figure.figsize'] = (15,8)"
   ]
  },
  {
   "cell_type": "code",
   "execution_count": 103,
   "id": "edc0c1fd",
   "metadata": {},
   "outputs": [],
   "source": [
    "def get_latest_updates(*symbols):\n",
    "    for i in symbols:\n",
    "        ticker = i\n",
    "        iex_api_key = ' \n",
    "        api_url = f'https://cloud.iexapis.com/stable/stock/{ticker}/quote?token={iex_api_key}'\n",
    "        df = requests.get(api_url).json()\n",
    "        print(cl('Latest Updates of {}\\n--------------'.format(ticker), attrs = ['bold']))\n",
    "        attributes = ['symbol', \n",
    "                      'latestPrice', \n",
    "                      'marketCap', \n",
    "                      'peRatio']\n",
    "        for i in attributes:\n",
    "            print(cl('{} :'.format(i), attrs = ['bold']), '{}'.format(df[i]))    \n",
    "        print(cl('--------------\\n', attrs = ['bold']))\n",
    "            "
   ]
  },
  {
   "cell_type": "code",
   "execution_count": null,
   "id": "319d0066",
   "metadata": {},
   "outputs": [],
   "source": [
    "api_url = f'https://cloud.iexapis.com/stable/stock/{ticker}/chart/max?token={iex_api_key}'\n",
    "url = f'https://cloud.iexapis.com/stable/stock/{ticker}/intraday-prices?token={iex_api_key}'"
   ]
  },
  {
   "cell_type": "code",
   "execution_count": 115,
   "id": "44381ff2",
   "metadata": {},
   "outputs": [],
   "source": [
    "iex_api_key = 'p \n",
    "api_url = f'https://cloud.iexapis.com/stable/stock/{ticker}/quote?token={iex_api_key}'\n",
    "df = requests.get(api_url).json() "
   ]
  },
  {
   "cell_type": "code",
   "execution_count": 118,
   "id": "b09e7af2",
   "metadata": {},
   "outputs": [
    {
     "data": {
      "text/plain": [
       "173.66"
      ]
     },
     "execution_count": 118,
     "metadata": {},
     "output_type": "execute_result"
    }
   ],
   "source": [
    "df['latestPrice']\n"
   ]
  },
  {
   "cell_type": "code",
   "execution_count": 119,
   "id": "996fc649",
   "metadata": {},
   "outputs": [
    {
     "data": {
      "text/plain": [
       "2715040729120"
      ]
     },
     "execution_count": 119,
     "metadata": {},
     "output_type": "execute_result"
    }
   ],
   "source": [
    "df['marketCap']"
   ]
  },
  {
   "cell_type": "code",
   "execution_count": 106,
   "id": "1902f0ff",
   "metadata": {},
   "outputs": [
    {
     "data": {
      "image/png": "[encoded data removed]",
      "text/plain": [
       "<Figure size 1080x576 with 1 Axes>"
      ]
     },
     "metadata": {},
     "output_type": "display_data"
    },
    {
     "data": {
      "text/html": [
       "<div>\n",
       "<style scoped>\n",
       "    .dataframe tbody tr th:only-of-type {\n",
       "        vertical-align: middle;\n",
       "    }\n",
       "\n",
       "    .dataframe tbody tr th {\n",
       "        vertical-align: top;\n",
       "    }\n",
       "\n",
       "    .dataframe thead th {\n",
       "        text-align: right;\n",
       "    }\n",
       "</style>\n",
       "<table border=\"1\" class=\"dataframe\">\n",
       "  <thead>\n",
       "    <tr style=\"text-align: right;\">\n",
       "      <th></th>\n",
       "      <th>open</th>\n",
       "      <th>high</th>\n",
       "      <th>low</th>\n",
       "      <th>close</th>\n",
       "    </tr>\n",
       "    <tr>\n",
       "      <th>date</th>\n",
       "      <th></th>\n",
       "      <th></th>\n",
       "      <th></th>\n",
       "      <th></th>\n",
       "    </tr>\n",
       "  </thead>\n",
       "  <tbody>\n",
       "    <tr>\n",
       "      <th>2006-12-29</th>\n",
       "      <td>2.9984</td>\n",
       "      <td>3.0500</td>\n",
       "      <td>2.9771</td>\n",
       "      <td>3.0300</td>\n",
       "    </tr>\n",
       "    <tr>\n",
       "      <th>2007-01-03</th>\n",
       "      <td>3.0300</td>\n",
       "      <td>3.0921</td>\n",
       "      <td>2.9250</td>\n",
       "      <td>2.9929</td>\n",
       "    </tr>\n",
       "    <tr>\n",
       "      <th>2007-01-04</th>\n",
       "      <td>2.9914</td>\n",
       "      <td>3.0696</td>\n",
       "      <td>2.9936</td>\n",
       "      <td>3.0593</td>\n",
       "    </tr>\n",
       "    <tr>\n",
       "      <th>2007-01-05</th>\n",
       "      <td>3.0632</td>\n",
       "      <td>3.0786</td>\n",
       "      <td>3.0143</td>\n",
       "      <td>3.0375</td>\n",
       "    </tr>\n",
       "    <tr>\n",
       "      <th>2007-01-08</th>\n",
       "      <td>3.0700</td>\n",
       "      <td>3.0904</td>\n",
       "      <td>3.0457</td>\n",
       "      <td>3.0525</td>\n",
       "    </tr>\n",
       "    <tr>\n",
       "      <th>...</th>\n",
       "      <td>...</td>\n",
       "      <td>...</td>\n",
       "      <td>...</td>\n",
       "      <td>...</td>\n",
       "    </tr>\n",
       "    <tr>\n",
       "      <th>2023-09-28</th>\n",
       "      <td>169.3400</td>\n",
       "      <td>172.0300</td>\n",
       "      <td>167.6200</td>\n",
       "      <td>170.6900</td>\n",
       "    </tr>\n",
       "    <tr>\n",
       "      <th>2023-09-29</th>\n",
       "      <td>172.0200</td>\n",
       "      <td>173.0700</td>\n",
       "      <td>170.3410</td>\n",
       "      <td>171.2100</td>\n",
       "    </tr>\n",
       "    <tr>\n",
       "      <th>2023-10-02</th>\n",
       "      <td>171.2200</td>\n",
       "      <td>174.3000</td>\n",
       "      <td>170.9300</td>\n",
       "      <td>173.7500</td>\n",
       "    </tr>\n",
       "    <tr>\n",
       "      <th>2023-10-03</th>\n",
       "      <td>172.2550</td>\n",
       "      <td>173.6300</td>\n",
       "      <td>170.8200</td>\n",
       "      <td>172.4000</td>\n",
       "    </tr>\n",
       "    <tr>\n",
       "      <th>2023-10-04</th>\n",
       "      <td>171.0900</td>\n",
       "      <td>174.2100</td>\n",
       "      <td>170.9700</td>\n",
       "      <td>173.6600</td>\n",
       "    </tr>\n",
       "  </tbody>\n",
       "</table>\n",
       "<p>4225 rows × 4 columns</p>\n",
       "</div>"
      ],
      "text/plain": [
       "                open      high       low     close\n",
       "date                                              \n",
       "2006-12-29    2.9984    3.0500    2.9771    3.0300\n",
       "2007-01-03    3.0300    3.0921    2.9250    2.9929\n",
       "2007-01-04    2.9914    3.0696    2.9936    3.0593\n",
       "2007-01-05    3.0632    3.0786    3.0143    3.0375\n",
       "2007-01-08    3.0700    3.0904    3.0457    3.0525\n",
       "...              ...       ...       ...       ...\n",
       "2023-09-28  169.3400  172.0300  167.6200  170.6900\n",
       "2023-09-29  172.0200  173.0700  170.3410  171.2100\n",
       "2023-10-02  171.2200  174.3000  170.9300  173.7500\n",
       "2023-10-03  172.2550  173.6300  170.8200  172.4000\n",
       "2023-10-04  171.0900  174.2100  170.9700  173.6600\n",
       "\n",
       "[4225 rows x 4 columns]"
      ]
     },
     "execution_count": 106,
     "metadata": {},
     "output_type": "execute_result"
    }
   ],
   "source": [
    "def get_historic_data(symbol):\n",
    "    ticker = symbol\n",
    "    iex_api_key = 'p \n",
    "    api_url = f'https://cloud.iexapis.com/stable/stock/{ticker}/chart/max?token={iex_api_key}'\n",
    "    df = requests.get(api_url).json()\n",
    "    \n",
    "    date = []\n",
    "    open = []\n",
    "    high = []\n",
    "    low = []\n",
    "    close = []\n",
    "    \n",
    "    for i in range(len(df)):\n",
    "        date.append(df[i]['date'])\n",
    "        open.append(df[i]['open'])\n",
    "        high.append(df[i]['high'])\n",
    "        low.append(df[i]['low'])\n",
    "        close.append(df[i]['close'])\n",
    "    \n",
    "    date_df = pd.DataFrame(date).rename(columns = {0:'date'})\n",
    "    open_df = pd.DataFrame(open).rename(columns = {0:'open'})\n",
    "    high_df = pd.DataFrame(high).rename(columns = {0:'high'})\n",
    "    low_df = pd.DataFrame(low).rename(columns = {0:'low'})\n",
    "    close_df = pd.DataFrame(close).rename(columns = {0:'close'})\n",
    "    \n",
    "    frames = [date_df, open_df, high_df, low_df, close_df]\n",
    "    df = pd.concat(frames, axis = 1, join = 'inner')\n",
    "    df = df.set_index('date')\n",
    "    \n",
    "    df['open'].plot()\n",
    "    plt.title('{} Historical Prices'.format(ticker), fontsize = 18)\n",
    "    plt.xlabel('Date', fontsize = 14)\n",
    "    plt.ylabel('Stock Price', fontsize = 14)\n",
    "    plt.xticks(fontsize = 12)\n",
    "    plt.yticks(fontsize = 12)\n",
    "    plt.show()\n",
    "    \n",
    "    return df\n",
    "\n",
    "get_historic_data('AAPL')"
   ]
  },
  {
   "cell_type": "code",
   "execution_count": 120,
   "id": "4f02913e",
   "metadata": {},
   "outputs": [
    {
     "data": {
      "text/html": [
       "<div>\n",
       "<style scoped>\n",
       "    .dataframe tbody tr th:only-of-type {\n",
       "        vertical-align: middle;\n",
       "    }\n",
       "\n",
       "    .dataframe tbody tr th {\n",
       "        vertical-align: top;\n",
       "    }\n",
       "\n",
       "    .dataframe thead th {\n",
       "        text-align: right;\n",
       "    }\n",
       "</style>\n",
       "<table border=\"1\" class=\"dataframe\">\n",
       "  <thead>\n",
       "    <tr style=\"text-align: right;\">\n",
       "      <th></th>\n",
       "      <th>Ticker</th>\n",
       "      <th>Price</th>\n",
       "      <th>Market Capitalization</th>\n",
       "      <th>Number Of Shares to Buy</th>\n",
       "    </tr>\n",
       "  </thead>\n",
       "  <tbody>\n",
       "  </tbody>\n",
       "</table>\n",
       "</div>"
      ],
      "text/plain": [
       "Empty DataFrame\n",
       "Columns: [Ticker, Price, Market Capitalization, Number Of Shares to Buy]\n",
       "Index: []"
      ]
     },
     "execution_count": 120,
     "metadata": {},
     "output_type": "execute_result"
    }
   ],
   "source": [
    "my_columns = ['Ticker', 'Price','Market Capitalization', 'Number Of Shares to Buy']\n",
    "final_dataframe = pd.DataFrame(columns = my_columns)\n",
    "final_dataframe"
   ]
  },
  {
   "cell_type": "code",
   "execution_count": 121,
   "id": "fdc72771",
   "metadata": {},
   "outputs": [
    {
     "name": "stderr",
     "output_type": "stream",
     "text": [
      "C:\\Users\\MARGAR~1\\AppData\\Local\\Temp/ipykernel_16036/721353733.py:1: FutureWarning: The frame.append method is deprecated and will be removed from pandas in a future version. Use pandas.concat instead.\n",
      "  final_dataframe = final_dataframe.append(\n"
     ]
    },
    {
     "data": {
      "text/html": [
       "<div>\n",
       "<style scoped>\n",
       "    .dataframe tbody tr th:only-of-type {\n",
       "        vertical-align: middle;\n",
       "    }\n",
       "\n",
       "    .dataframe tbody tr th {\n",
       "        vertical-align: top;\n",
       "    }\n",
       "\n",
       "    .dataframe thead th {\n",
       "        text-align: right;\n",
       "    }\n",
       "</style>\n",
       "<table border=\"1\" class=\"dataframe\">\n",
       "  <thead>\n",
       "    <tr style=\"text-align: right;\">\n",
       "      <th></th>\n",
       "      <th>Ticker</th>\n",
       "      <th>Price</th>\n",
       "      <th>Market Capitalization</th>\n",
       "      <th>Number Of Shares to Buy</th>\n",
       "    </tr>\n",
       "  </thead>\n",
       "  <tbody>\n",
       "    <tr>\n",
       "      <th>0</th>\n",
       "      <td>AAPL</td>\n",
       "      <td>173.66</td>\n",
       "      <td>2715040729120</td>\n",
       "      <td>N/A</td>\n",
       "    </tr>\n",
       "  </tbody>\n",
       "</table>\n",
       "</div>"
      ],
      "text/plain": [
       "  Ticker   Price Market Capitalization Number Of Shares to Buy\n",
       "0   AAPL  173.66         2715040729120                     N/A"
      ]
     },
     "execution_count": 121,
     "metadata": {},
     "output_type": "execute_result"
    }
   ],
   "source": [
    "final_dataframe = final_dataframe.append(\n",
    "                                        pd.Series(['AAPL', \n",
    "                                                   df['latestPrice'], \n",
    "                                                   df['marketCap'], \n",
    "                                                   'N/A'], \n",
    "                                                  index = my_columns), \n",
    "                                        ignore_index = True)\n",
    "final_dataframe"
   ]
  },
  {
   "cell_type": "code",
   "execution_count": null,
   "id": "b23bb2f6",
   "metadata": {},
   "outputs": [],
   "source": [
    "iex_api_key = ' \n",
    "api_url = f'https://cloud.iexapis.com/stable/stock/{ticker}/quote?token={iex_api_key}'\n",
    "df = requests.get(api_url).json() "
   ]
  },
  {
   "cell_type": "code",
   "execution_count": 143,
   "id": "18516c18",
   "metadata": {},
   "outputs": [],
   "source": [
    "iex_api_key = ' \n",
    "final_dataframe = pd.DataFrame(columns = my_columns)\n",
    "for symbol in tickers: #stocks['Ticker']:\n",
    "    api_url = f'https://cloud.iexapis.com/stable/stock/{symbol}/quote?token={iex_api_key}'\n",
    "    data = requests.get(api_url).json() \n",
    "    new_row = pd.Series([symbol, data['latestPrice'], data['marketCap'], 'N/A'], index=my_columns)\n",
    "    final_dataframe = pd.concat([final_dataframe, new_row], ignore_index=True)\n"
   ]
  },
  {
   "cell_type": "code",
   "execution_count": 144,
   "id": "f74e16f4",
   "metadata": {},
   "outputs": [
    {
     "data": {
      "text/html": [
       "<div>\n",
       "<style scoped>\n",
       "    .dataframe tbody tr th:only-of-type {\n",
       "        vertical-align: middle;\n",
       "    }\n",
       "\n",
       "    .dataframe tbody tr th {\n",
       "        vertical-align: top;\n",
       "    }\n",
       "\n",
       "    .dataframe thead th {\n",
       "        text-align: right;\n",
       "    }\n",
       "</style>\n",
       "<table border=\"1\" class=\"dataframe\">\n",
       "  <thead>\n",
       "    <tr style=\"text-align: right;\">\n",
       "      <th></th>\n",
       "      <th>Ticker</th>\n",
       "      <th>Price</th>\n",
       "      <th>Market Capitalization</th>\n",
       "      <th>Number Of Shares to Buy</th>\n",
       "      <th>0</th>\n",
       "    </tr>\n",
       "  </thead>\n",
       "  <tbody>\n",
       "    <tr>\n",
       "      <th>0</th>\n",
       "      <td>NaN</td>\n",
       "      <td>NaN</td>\n",
       "      <td>NaN</td>\n",
       "      <td>NaN</td>\n",
       "      <td>MMM</td>\n",
       "    </tr>\n",
       "    <tr>\n",
       "      <th>1</th>\n",
       "      <td>NaN</td>\n",
       "      <td>NaN</td>\n",
       "      <td>NaN</td>\n",
       "      <td>NaN</td>\n",
       "      <td>88.02</td>\n",
       "    </tr>\n",
       "    <tr>\n",
       "      <th>2</th>\n",
       "      <td>NaN</td>\n",
       "      <td>NaN</td>\n",
       "      <td>NaN</td>\n",
       "      <td>NaN</td>\n",
       "      <td>48586373689</td>\n",
       "    </tr>\n",
       "    <tr>\n",
       "      <th>3</th>\n",
       "      <td>NaN</td>\n",
       "      <td>NaN</td>\n",
       "      <td>NaN</td>\n",
       "      <td>NaN</td>\n",
       "      <td>N/A</td>\n",
       "    </tr>\n",
       "    <tr>\n",
       "      <th>4</th>\n",
       "      <td>NaN</td>\n",
       "      <td>NaN</td>\n",
       "      <td>NaN</td>\n",
       "      <td>NaN</td>\n",
       "      <td>AOS</td>\n",
       "    </tr>\n",
       "    <tr>\n",
       "      <th>...</th>\n",
       "      <td>...</td>\n",
       "      <td>...</td>\n",
       "      <td>...</td>\n",
       "      <td>...</td>\n",
       "      <td>...</td>\n",
       "    </tr>\n",
       "    <tr>\n",
       "      <th>2007</th>\n",
       "      <td>NaN</td>\n",
       "      <td>NaN</td>\n",
       "      <td>NaN</td>\n",
       "      <td>NaN</td>\n",
       "      <td>N/A</td>\n",
       "    </tr>\n",
       "    <tr>\n",
       "      <th>2008</th>\n",
       "      <td>NaN</td>\n",
       "      <td>NaN</td>\n",
       "      <td>NaN</td>\n",
       "      <td>NaN</td>\n",
       "      <td>ZTS</td>\n",
       "    </tr>\n",
       "    <tr>\n",
       "      <th>2009</th>\n",
       "      <td>NaN</td>\n",
       "      <td>NaN</td>\n",
       "      <td>NaN</td>\n",
       "      <td>NaN</td>\n",
       "      <td>170.99</td>\n",
       "    </tr>\n",
       "    <tr>\n",
       "      <th>2010</th>\n",
       "      <td>NaN</td>\n",
       "      <td>NaN</td>\n",
       "      <td>NaN</td>\n",
       "      <td>NaN</td>\n",
       "      <td>78709587586</td>\n",
       "    </tr>\n",
       "    <tr>\n",
       "      <th>2011</th>\n",
       "      <td>NaN</td>\n",
       "      <td>NaN</td>\n",
       "      <td>NaN</td>\n",
       "      <td>NaN</td>\n",
       "      <td>N/A</td>\n",
       "    </tr>\n",
       "  </tbody>\n",
       "</table>\n",
       "<p>2012 rows × 5 columns</p>\n",
       "</div>"
      ],
      "text/plain": [
       "     Ticker Price Market Capitalization Number Of Shares to Buy            0\n",
       "0       NaN   NaN                   NaN                     NaN          MMM\n",
       "1       NaN   NaN                   NaN                     NaN        88.02\n",
       "2       NaN   NaN                   NaN                     NaN  48586373689\n",
       "3       NaN   NaN                   NaN                     NaN          N/A\n",
       "4       NaN   NaN                   NaN                     NaN          AOS\n",
       "...     ...   ...                   ...                     ...          ...\n",
       "2007    NaN   NaN                   NaN                     NaN          N/A\n",
       "2008    NaN   NaN                   NaN                     NaN          ZTS\n",
       "2009    NaN   NaN                   NaN                     NaN       170.99\n",
       "2010    NaN   NaN                   NaN                     NaN  78709587586\n",
       "2011    NaN   NaN                   NaN                     NaN          N/A\n",
       "\n",
       "[2012 rows x 5 columns]"
      ]
     },
     "execution_count": 144,
     "metadata": {},
     "output_type": "execute_result"
    }
   ],
   "source": [
    "final_dataframe"
   ]
  },
  {
   "cell_type": "code",
   "execution_count": 138,
   "id": "7357c6c8",
   "metadata": {},
   "outputs": [
    {
     "data": {
      "text/html": [
       "<div>\n",
       "<style scoped>\n",
       "    .dataframe tbody tr th:only-of-type {\n",
       "        vertical-align: middle;\n",
       "    }\n",
       "\n",
       "    .dataframe tbody tr th {\n",
       "        vertical-align: top;\n",
       "    }\n",
       "\n",
       "    .dataframe thead th {\n",
       "        text-align: right;\n",
       "    }\n",
       "</style>\n",
       "<table border=\"1\" class=\"dataframe\">\n",
       "  <thead>\n",
       "    <tr style=\"text-align: right;\">\n",
       "      <th></th>\n",
       "      <th>Ticker</th>\n",
       "      <th>Price</th>\n",
       "      <th>Market Capitalization</th>\n",
       "      <th>Number Of Shares to Buy</th>\n",
       "    </tr>\n",
       "  </thead>\n",
       "  <tbody>\n",
       "  </tbody>\n",
       "</table>\n",
       "</div>"
      ],
      "text/plain": [
       "Empty DataFrame\n",
       "Columns: [Ticker, Price, Market Capitalization, Number Of Shares to Buy]\n",
       "Index: []"
      ]
     },
     "execution_count": 138,
     "metadata": {},
     "output_type": "execute_result"
    }
   ],
   "source": [
    "final_dataframe"
   ]
  },
  {
   "cell_type": "code",
   "execution_count": 134,
   "id": "4b6be4b7",
   "metadata": {},
   "outputs": [],
   "source": [
    "def chunks(lst, n):\n",
    "    \"\"\"Yield successive n-sized chunks from lst.\"\"\"\n",
    "    for i in range(0, len(lst), n):\n",
    "        yield lst[i:i + n]"
   ]
  },
  {
   "cell_type": "code",
   "execution_count": null,
   "id": "a550f95e",
   "metadata": {},
   "outputs": [],
   "source": []
  },
  {
   "cell_type": "code",
   "execution_count": null,
   "id": "48b86906",
   "metadata": {},
   "outputs": [],
   "source": []
  },
  {
   "cell_type": "code",
   "execution_count": null,
   "id": "7f8ede89",
   "metadata": {},
   "outputs": [],
   "source": [
    "iex_api_key = ' \n",
    "final_dataframe = pd.DataFrame(columns = my_columns)\n",
    "for symbol in tickers: #stocks['Ticker']:\n",
    "    api_url = f'https://cloud.iexapis.com/stable/stock/{symbol}/quote?token={iex_api_key}'\n",
    "    data = requests.get(api_url).json() \n",
    "    new_row = pd.Series([symbol, data['latestPrice'], data['marketCap'], 'N/A'], index=my_columns)\n",
    "    final_dataframe = pd.concat([final_dataframe, new_row], ignore_index=True)\n"
   ]
  },
  {
   "cell_type": "code",
   "execution_count": null,
   "id": "0d762af8",
   "metadata": {},
   "outputs": [],
   "source": [
    "iex_api_key = ' \n",
    "final_data = pd.DataFrame(columns = my_columns)\n",
    "for symbol in tickers: \n",
    "    api_url = f'https://cloud.iexapis.com/stable/stock/{symbol}/quote?token={iex_api_key}'\n",
    "    data = requests.get(api_url).json() \n",
    "    new_row = pd.Series([symbol, data['latestPrice'], data['marketCap'], 'N/A'], index=my_columns)\n",
    "    final_data = final_data.append(\n",
    "                                        pd.Series([symbol, \n",
    "                                                   data[symbol]['quote']['latestPrice'], \n",
    "                                                   data[symbol]['quote']['marketCap'], \n",
    "                                                   'N/A'], \n",
    "                                                  index = my_columns), \n",
    "                                        ignore_index = True)"
   ]
  },
  {
   "cell_type": "code",
   "execution_count": null,
   "id": "64cc8fc8",
   "metadata": {},
   "outputs": [],
   "source": [
    "symbol_groups = list(chunks(stocks['Ticker'], 100))\n",
    "symbol_strings = []\n",
    "for i in range(0, len(symbol_groups)):\n",
    "    symbol_strings.append(','.join(symbol_groups[i]))\n",
    "     print(symbol_strings[i])"
   ]
  },
  {
   "cell_type": "code",
   "execution_count": 141,
   "id": "48bfb9cc",
   "metadata": {},
   "outputs": [
    {
     "data": {
      "text/plain": [
       "['MMM,AOS,ABT,ABBV,ACN,ATVI,ADM,ADBE,ADP,AES,AFL,A,ABNB,APD,AKAM,ALK,ALB,ARE,ALGN,ALLE,LNT,ALL,GOOGL,GOOG,MO,AMZN,AMCR,AMD,AEE,AAL,AEP,AXP,AIG,AMT,AWK,AMP,AME,AMGN,APH,ADI,ANSS,AON,APA,AAPL,AMAT,APTV,ACGL,ANET,AJG,AIZ,T,ATO,ADSK,AZO,AVB,AVY,AXON,BKR,BALL,BAC,BBWI,BAX,BDX,WRB,BRK.B,BBY,BIO,TECH,BIIB,BLK,BX,BK,BA,BKNG,BWA,BXP,BSX,BMY,AVGO,BR,BRO,BF.B,BG,CHRW,CDNS,CZR,CPT,CPB,COF,CAH,KMX,CCL,CARR,CTLT,CAT,CBOE,CBRE,CDW,CE,COR',\n",
       " 'CNC,CNP,CDAY,CF,CRL,SCHW,CHTR,CVX,CMG,CB,CHD,CI,CINF,CTAS,CSCO,C,CFG,CLX,CME,CMS,KO,CTSH,CL,CMCSA,CMA,CAG,COP,ED,STZ,CEG,COO,CPRT,GLW,CTVA,CSGP,COST,CTRA,CCI,CSX,CMI,CVS,DHI,DHR,DRI,DVA,DE,DAL,XRAY,DVN,DXCM,FANG,DLR,DFS,DIS,DG,DLTR,D,DPZ,DOV,DOW,DTE,DUK,DD,DXC,EMN,ETN,EBAY,ECL,EIX,EW,EA,ELV,LLY,EMR,ENPH,ETR,EOG,EPAM,EQT,EFX,EQIX,EQR,ESS,EL,ETSY,EG,EVRG,ES,EXC,EXPE,EXPD,EXR,XOM,FFIV,FDS,FICO,FAST,FRT,FDX,FITB',\n",
       " 'FSLR,FE,FIS,FI,FLT,FMC,F,FTNT,FTV,FOXA,FOX,BEN,FCX,GRMN,IT,GEHC,GEN,GNRC,GD,GE,GIS,GM,GPC,GILD,GL,GPN,GS,HAL,HIG,HAS,HCA,PEAK,HSIC,HSY,HES,HPE,HLT,HOLX,HD,HON,HRL,HST,HWM,HPQ,HUM,HBAN,HII,IBM,IEX,IDXX,ITW,ILMN,INCY,IR,PODD,INTC,ICE,IFF,IP,IPG,INTU,ISRG,IVZ,INVH,IQV,IRM,JBHT,JKHY,J,JNJ,JCI,JPM,JNPR,K,KVUE,KDP,KEY,KEYS,KMB,KIM,KMI,KLAC,KHC,KR,LHX,LH,LRCX,LW,LVS,LDOS,LEN,LIN,LYV,LKQ,LMT,L,LOW,LYB,MTB,MRO',\n",
       " 'MPC,MKTX,MAR,MMC,MLM,MAS,MA,MTCH,MKC,MCD,MCK,MDT,MRK,META,MET,MTD,MGM,MCHP,MU,MSFT,MAA,MRNA,MHK,MOH,TAP,MDLZ,MPWR,MNST,MCO,MS,MOS,MSI,MSCI,NDAQ,NTAP,NFLX,NEM,NWSA,NWS,NEE,NKE,NI,NDSN,NSC,NTRS,NOC,NCLH,NRG,NUE,NVDA,NVR,NXPI,ORLY,OXY,ODFL,OMC,ON,OKE,ORCL,OGN,OTIS,PCAR,PKG,PANW,PARA,PH,PAYX,PAYC,PYPL,PNR,PEP,PFE,PCG,PM,PSX,PNW,PXD,PNC,POOL,PPG,PPL,PFG,PG,PGR,PLD,PRU,PEG,PTC,PSA,PHM,QRVO,PWR,QCOM,DGX,RL,RJF,RTX,O,REG,REGN',\n",
       " 'RF,RSG,RMD,RVTY,RHI,ROK,ROL,ROP,ROST,RCL,SPGI,CRM,SBAC,SLB,STX,SEE,SRE,NOW,SHW,SPG,SWKS,SJM,SNA,SEDG,SO,LUV,SWK,SBUX,STT,STLD,STE,SYK,SYF,SNPS,SYY,TMUS,TROW,TTWO,TPR,TRGP,TGT,TEL,TDY,TFX,TER,TSLA,TXN,TXT,TMO,TJX,TSCO,TT,TDG,TRV,TRMB,TFC,TYL,TSN,USB,UDR,ULTA,UNP,UAL,UPS,URI,UNH,UHS,VLO,VTR,VRSN,VRSK,VZ,VRTX,VFC,VTRS,VICI,V,VMC,WAB,WBA,WMT,WBD,WM,WAT,WEC,WFC,WELL,WST,WDC,WRK,WY,WHR,WMB,WTW,GWW,WYNN,XEL,XYL,YUM,ZBRA',\n",
       " 'ZBH,ZION,ZTS']"
      ]
     },
     "execution_count": 141,
     "metadata": {},
     "output_type": "execute_result"
    }
   ],
   "source": [
    "symbol_groups = list(chunks(stocks['Ticker'], 100))\n",
    "symbol_strings = []\n",
    "for i in range(0, len(symbol_groups)):\n",
    "    symbol_strings.append(','.join(symbol_groups[i]))\n",
    "#     print(symbol_strings[i])\n",
    "\n",
    "#final_dataframe = pd.DataFrame(columns = my_columns)\n",
    "\n",
    "for symbol_string in symbol_strings:\n",
    "#     print(symbol_strings)\n",
    "    batch_api_call_url = f'https://cloud.iexapis.com/stable/stock/{symbol_string}/quote?token={iex_api_key}'\n",
    "    data = requests.get(batch_api_call_url).json()\n",
    "    for symbol in symbol_string.split(','):\n",
    "        final_dataframe = final_dataframe.append(\n",
    "                                        pd.Series([symbol, \n",
    "                                                   data[symbol]['quote']['latestPrice'], \n",
    "                                                   data[symbol]['quote']['marketCap'], \n",
    "                                                   'N/A'], \n",
    "                                                  index = my_columns), \n",
    "                                        ignore_index = True)\n",
    "        \n",
    "    \n",
    "final_dataframe"
   ]
  },
  {
   "cell_type": "code",
   "execution_count": null,
   "id": "5ad91da9",
   "metadata": {},
   "outputs": [],
   "source": [
    "portfolio_size = input(\"Enter the value of your portfolio:\")\n",
    "\n",
    "try:\n",
    "    val = float(portfolio_size)\n",
    "except ValueError:\n",
    "    print(\"That's not a number! \\n Try again:\")\n",
    "    portfolio_size = input(\"Enter the value of your portfolio:\")"
   ]
  },
  {
   "cell_type": "code",
   "execution_count": null,
   "id": "447e0126",
   "metadata": {},
   "outputs": [],
   "source": [
    "position_size = float(portfolio_size) / len(final_dataframe.index)\n",
    "for i in range(0, len(final_dataframe['Ticker'])-1):\n",
    "    final_dataframe.loc[i, 'Number Of Shares to Buy'] = math.floor(position_size / final_dataframe['Price'][i])\n",
    "final_dataframe"
   ]
  },
  {
   "cell_type": "code",
   "execution_count": null,
   "id": "b77ad5f9",
   "metadata": {},
   "outputs": [],
   "source": [
    "writer = pd.ExcelWriter('recommended_trades.xlsx', engine='xlsxwriter')\n",
    "final_dataframe.to_excel(writer, sheet_name='Recommended Trades', index = False)"
   ]
  },
  {
   "cell_type": "code",
   "execution_count": null,
   "id": "a94227f1",
   "metadata": {},
   "outputs": [],
   "source": [
    "background_color = '#0a0a23'\n",
    "font_color = '#ffffff'\n",
    "\n",
    "string_format = writer.book.add_format(\n",
    "        {\n",
    "            'font_color': font_color,\n",
    "            'bg_color': background_color,\n",
    "            'border': 1\n",
    "        }\n",
    "    )\n",
    "\n",
    "dollar_format = writer.book.add_format(\n",
    "        {\n",
    "            'num_format':'$0.00',\n",
    "            'font_color': font_color,\n",
    "            'bg_color': background_color,\n",
    "            'border': 1\n",
    "        }\n",
    "    )\n",
    "\n",
    "integer_format = writer.book.add_format(\n",
    "        {\n",
    "            'num_format':'0',\n",
    "            'font_color': font_color,\n",
    "            'bg_color': background_color,\n",
    "            'border': 1\n",
    "        }\n",
    "    )"
   ]
  },
  {
   "cell_type": "code",
   "execution_count": null,
   "id": "ea758372",
   "metadata": {},
   "outputs": [],
   "source": [
    "writer.sheets['Recommended Trades'].set_column('B:B', #This tells the method to apply the format to column B\n",
    "                     18, #This tells the method to apply a column width of 18 pixels\n",
    "                     string_format #This applies the format 'string_format' to the column\n",
    "                    )"
   ]
  },
  {
   "cell_type": "code",
   "execution_count": null,
   "id": "b090168f",
   "metadata": {},
   "outputs": [],
   "source": [
    "# writer.sheets['Recommended Trades'].write('A1', 'Ticker', string_format)\n",
    "# writer.sheets['Recommended Trades'].write('B1', 'Price', string_format)\n",
    "# writer.sheets['Recommended Trades'].write('C1', 'Market Capitalization', string_format)\n",
    "# writer.sheets['Recommended Trades'].write('D1', 'Number Of Shares to Buy', string_format)\n",
    "# writer.sheets['Recommended Trades'].set_column('A:A', 20, string_format)\n",
    "# writer.sheets['Recommended Trades'].set_column('B:B', 20, dollar_format)\n",
    "# writer.sheets['Recommended Trades'].set_column('C:C', 20, dollar_format)\n",
    "# writer.sheets['Recommended Trades'].set_column('D:D', 20, integer_format)"
   ]
  },
  {
   "cell_type": "code",
   "execution_count": null,
   "id": "90abd7b9",
   "metadata": {},
   "outputs": [],
   "source": [
    "column_formats = { \n",
    "                    'A': ['Ticker', string_format],\n",
    "                    'B': ['Price', dollar_format],\n",
    "                    'C': ['Market Capitalization', dollar_format],\n",
    "                    'D': ['Number of Shares to Buy', integer_format]\n",
    "                    }\n",
    "\n",
    "for column in column_formats.keys():\n",
    "    writer.sheets['Recommended Trades'].set_column(f'{column}:{column}', 20, column_formats[column][1])\n",
    "    writer.sheets['Recommended Trades'].write(f'{column}1', column_formats[column][0], string_format)"
   ]
  },
  {
   "cell_type": "code",
   "execution_count": null,
   "id": "900915bd",
   "metadata": {},
   "outputs": [],
   "source": [
    "writer.save()"
   ]
  },
  {
   "cell_type": "markdown",
   "id": "1b40d39d",
   "metadata": {},
   "source": [
    "Стратегия количественного импульса\n",
    "«Импульсное инвестирование» означает инвестирование в акции, цена которых выросла больше всего.\n",
    "\n",
    "Для этого проекта мы собираемся разработать инвестиционную стратегию, которая выберет 50 акций с самым высоким ценовым импульсом. Исходя из этого, мы рассчитаем рекомендуемые сделки для портфеля с равным весом из этих 50 акций."
   ]
  },
  {
   "cell_type": "code",
   "execution_count": null,
   "id": "1b02144a",
   "metadata": {},
   "outputs": [],
   "source": [
    "import numpy as np #The Numpy numerical computing library\n",
    "import pandas as pd #The Pandas data science library\n",
    "import requests #The requests library for HTTP requests in Python\n",
    "import xlsxwriter #The XlsxWriter libarary for \n",
    "import math #The Python math module\n",
    "from scipy import stats #The SciPy stats module"
   ]
  },
  {
   "cell_type": "code",
   "execution_count": null,
   "id": "f6ae93cc",
   "metadata": {},
   "outputs": [],
   "source": [
    "data['year1ChangePercent']"
   ]
  },
  {
   "cell_type": "code",
   "execution_count": null,
   "id": "6f59cb4b",
   "metadata": {},
   "outputs": [],
   "source": [
    "def chunks(lst, n):\n",
    "    \"\"\"Yield successive n-sized chunks from lst.\"\"\"\n",
    "    for i in range(0, len(lst), n):\n",
    "        yield lst[i:i + n]   \n",
    "        \n",
    "symbol_groups = list(chunks(stocks['Ticker'], 100))\n",
    "symbol_strings = []\n",
    "for i in range(0, len(symbol_groups)):\n",
    "    symbol_strings.append(','.join(symbol_groups[i]))\n",
    "#     print(symbol_strings[i])\n",
    "\n",
    "my_columns = ['Ticker', 'Price', 'One-Year Price Return', 'Number of Shares to Buy']"
   ]
  },
  {
   "cell_type": "code",
   "execution_count": null,
   "id": "ae85c999",
   "metadata": {},
   "outputs": [],
   "source": [
    "final_dataframe = pd.DataFrame(columns = my_columns)\n",
    "\n",
    "for symbol_string in symbol_strings:\n",
    "#     print(symbol_strings)\n",
    "    batch_api_call_url = f'https://sandbox.iexapis.com/stable/stock/market/batch/?types=stats,quote&symbols={symbol_string}&token={IEX_CLOUD_API_TOKEN}'\n",
    "    data = requests.get(batch_api_call_url).json()\n",
    "    for symbol in symbol_string.split(','):\n",
    "        final_dataframe = final_dataframe.append(\n",
    "                                        pd.Series([symbol, \n",
    "                                                   data[symbol]['quote']['latestPrice'],\n",
    "                                                   data[symbol]['stats']['year1ChangePercent'],\n",
    "                                                   'N/A'\n",
    "                                                   ], \n",
    "                                                  index = my_columns), \n",
    "                                        ignore_index = True)\n",
    "        \n",
    "    \n",
    "final_dataframe"
   ]
  },
  {
   "cell_type": "code",
   "execution_count": null,
   "id": "6e4e5927",
   "metadata": {},
   "outputs": [],
   "source": [
    "final_dataframe.sort_values('One-Year Price Return', ascending = False, inplace = True)\n",
    "final_dataframe = final_dataframe[:51]\n",
    "final_dataframe.reset_index(drop = True, inplace = True)\n",
    "final_dataframe"
   ]
  },
  {
   "cell_type": "code",
   "execution_count": null,
   "id": "108da28b",
   "metadata": {},
   "outputs": [],
   "source": [
    "def portfolio_input():\n",
    "    global portfolio_size\n",
    "    portfolio_size = input(\"Enter the value of your portfolio:\")\n",
    "\n",
    "    try:\n",
    "        val = float(portfolio_size)\n",
    "    except ValueError:\n",
    "        print(\"That's not a number! \\n Try again:\")\n",
    "        portfolio_size = input(\"Enter the value of your portfolio:\")\n",
    "\n",
    "portfolio_input()\n",
    "print(portfolio_size)"
   ]
  },
  {
   "cell_type": "code",
   "execution_count": null,
   "id": "27e159f0",
   "metadata": {},
   "outputs": [],
   "source": [
    "position_size = float(portfolio_size) / len(final_dataframe.index)\n",
    "for i in range(0, len(final_dataframe['Ticker'])):\n",
    "    final_dataframe.loc[i, 'Number of Shares to Buy'] = math.floor(position_size / final_dataframe['Price'][i])\n",
    "final_dataframe"
   ]
  },
  {
   "cell_type": "code",
   "execution_count": null,
   "id": "d7972eee",
   "metadata": {},
   "outputs": [],
   "source": [
    "hqm_columns = [\n",
    "                'Ticker', \n",
    "                'Price', \n",
    "                'Number of Shares to Buy', \n",
    "                'One-Year Price Return', \n",
    "                'One-Year Return Percentile',\n",
    "                'Six-Month Price Return',\n",
    "                'Six-Month Return Percentile',\n",
    "                'Three-Month Price Return',\n",
    "                'Three-Month Return Percentile',\n",
    "                'One-Month Price Return',\n",
    "                'One-Month Return Percentile',\n",
    "                'HQM Score'\n",
    "                ]\n",
    "\n",
    "hqm_dataframe = pd.DataFrame(columns = hqm_columns)\n",
    "\n",
    "for symbol_string in symbol_strings:\n",
    "#     print(symbol_strings)\n",
    "    batch_api_call_url = f'https://sandbox.iexapis.com/stable/stock/market/batch/?types=stats,quote&symbols={symbol_string}&token={IEX_CLOUD_API_TOKEN}'\n",
    "    data = requests.get(batch_api_call_url).json()\n",
    "    for symbol in symbol_string.split(','):\n",
    "        hqm_dataframe = hqm_dataframe.append(\n",
    "                                        pd.Series([symbol, \n",
    "                                                   data[symbol]['quote']['latestPrice'],\n",
    "                                                   'N/A',\n",
    "                                                   data[symbol]['stats']['year1ChangePercent'],\n",
    "                                                   'N/A',\n",
    "                                                   data[symbol]['stats']['month6ChangePercent'],\n",
    "                                                   'N/A',\n",
    "                                                   data[symbol]['stats']['month3ChangePercent'],\n",
    "                                                   'N/A',\n",
    "                                                   data[symbol]['stats']['month1ChangePercent'],\n",
    "                                                   'N/A',\n",
    "                                                   'N/A'\n",
    "                                                   ], \n",
    "                                                  index = hqm_columns), \n",
    "                                        ignore_index = True)\n",
    "        \n",
    "hqm_dataframe.columns"
   ]
  },
  {
   "cell_type": "code",
   "execution_count": null,
   "id": "d61d3431",
   "metadata": {},
   "outputs": [],
   "source": [
    "time_periods = [\n",
    "                'One-Year',\n",
    "                'Six-Month',\n",
    "                'Three-Month',\n",
    "                'One-Month'\n",
    "                ]\n",
    "\n",
    "for row in hqm_dataframe.index:\n",
    "    for time_period in time_periods:\n",
    "        hqm_dataframe.loc[row, f'{time_period} Return Percentile'] = stats.percentileofscore(hqm_dataframe[f'{time_period} Price Return'], hqm_dataframe.loc[row, f'{time_period} Price Return'])/100\n",
    "\n",
    "# Print each percentile score to make sure it was calculated properly\n",
    "for time_period in time_periods:\n",
    "    print(hqm_dataframe[f'{time_period} Return Percentile'])\n",
    "\n",
    "#Print the entire DataFrame    \n",
    "hqm_dataframe"
   ]
  },
  {
   "cell_type": "code",
   "execution_count": null,
   "id": "b4571d3b",
   "metadata": {},
   "outputs": [],
   "source": [
    "from statistics import mean\n",
    "\n",
    "for row in hqm_dataframe.index:\n",
    "    momentum_percentiles = []\n",
    "    for time_period in time_periods:\n",
    "        momentum_percentiles.append(hqm_dataframe.loc[row, f'{time_period} Return Percentile'])\n",
    "    hqm_dataframe.loc[row, 'HQM Score'] = mean(momentum_percentiles)"
   ]
  },
  {
   "cell_type": "code",
   "execution_count": null,
   "id": "484785e8",
   "metadata": {},
   "outputs": [],
   "source": [
    "hqm_dataframe.sort_values(by = 'HQM Score', ascending = False)\n",
    "hqm_dataframe = hqm_dataframe[:51]"
   ]
  },
  {
   "cell_type": "code",
   "execution_count": null,
   "id": "33f1c8e4",
   "metadata": {},
   "outputs": [],
   "source": [
    "portfolio_input()"
   ]
  },
  {
   "cell_type": "code",
   "execution_count": null,
   "id": "3a69038b",
   "metadata": {},
   "outputs": [],
   "source": [
    "position_size = float(portfolio_size) / len(hqm_dataframe.index)\n",
    "for i in range(0, len(hqm_dataframe['Ticker'])-1):\n",
    "    hqm_dataframe.loc[i, 'Number of Shares to Buy'] = math.floor(position_size / hqm_dataframe['Price'][i])\n",
    "hqm_dataframe"
   ]
  },
  {
   "cell_type": "code",
   "execution_count": null,
   "id": "5bb30e4a",
   "metadata": {},
   "outputs": [],
   "source": [
    "writer = pd.ExcelWriter('momentum_strategy.xlsx', engine='xlsxwriter')\n",
    "hqm_dataframe.to_excel(writer, sheet_name='Momentum Strategy', index = False)"
   ]
  },
  {
   "cell_type": "code",
   "execution_count": null,
   "id": "e838dc2f",
   "metadata": {},
   "outputs": [],
   "source": [
    "background_color = '#0a0a23'\n",
    "font_color = '#ffffff'\n",
    "\n",
    "string_template = writer.book.add_format(\n",
    "        {\n",
    "            'font_color': font_color,\n",
    "            'bg_color': background_color,\n",
    "            'border': 1\n",
    "        }\n",
    "    )\n",
    "\n",
    "dollar_template = writer.book.add_format(\n",
    "        {\n",
    "            'num_format':'$0.00',\n",
    "            'font_color': font_color,\n",
    "            'bg_color': background_color,\n",
    "            'border': 1\n",
    "        }\n",
    "    )\n",
    "\n",
    "integer_template = writer.book.add_format(\n",
    "        {\n",
    "            'num_format':'0',\n",
    "            'font_color': font_color,\n",
    "            'bg_color': background_color,\n",
    "            'border': 1\n",
    "        }\n",
    "    )\n",
    "\n",
    "percent_template = writer.book.add_format(\n",
    "        {\n",
    "            'num_format':'0.0%',\n",
    "            'font_color': font_color,\n",
    "            'bg_color': background_color,\n",
    "            'border': 1\n",
    "        }\n",
    "    )"
   ]
  },
  {
   "cell_type": "code",
   "execution_count": null,
   "id": "697796ae",
   "metadata": {},
   "outputs": [],
   "source": [
    "column_formats = { \n",
    "                    'A': ['Ticker', string_template],\n",
    "                    'B': ['Price', dollar_template],\n",
    "                    'C': ['Number of Shares to Buy', integer_template],\n",
    "                    'D': ['One-Year Price Return', percent_template],\n",
    "                    'E': ['One-Year Return Percentile', percent_template],\n",
    "                    'F': ['Six-Month Price Return', percent_template],\n",
    "                    'G': ['Six-Month Return Percentile', percent_template],\n",
    "                    'H': ['Three-Month Price Return', percent_template],\n",
    "                    'I': ['Three-Month Return Percentile', percent_template],\n",
    "                    'J': ['One-Month Price Return', percent_template],\n",
    "                    'K': ['One-Month Return Percentile', percent_template],\n",
    "                    'L': ['HQM Score', integer_template]\n",
    "                    }\n",
    "\n",
    "for column in column_formats.keys():\n",
    "    writer.sheets['Momentum Strategy'].set_column(f'{column}:{column}', 20, column_formats[column][1])\n",
    "    writer.sheets['Momentum Strategy'].write(f'{column}1', column_formats[column][0], string_template)"
   ]
  },
  {
   "cell_type": "code",
   "execution_count": null,
   "id": "db6d701c",
   "metadata": {},
   "outputs": [],
   "source": [
    "writer.save()"
   ]
  },
  {
   "cell_type": "markdown",
   "id": "fe93a068",
   "metadata": {},
   "source": [
    "Количественная стратегия ценности\n",
    "«Стоимостное инвестирование» означает инвестирование в акции, которые являются самыми дешевыми по сравнению с обычными показателями стоимости бизнеса (например, прибыль или активы).\n",
    "\n",
    "Для этого проекта мы собираемся разработать инвестиционную стратегию, которая выберет 50 акций с лучшими показателями стоимости. Исходя из этого, мы рассчитаем рекомендуемые сделки для портфеля с равным весом из этих 50 акций."
   ]
  },
  {
   "cell_type": "code",
   "execution_count": null,
   "id": "5c8c2385",
   "metadata": {},
   "outputs": [],
   "source": [
    "pe_ratio = data['peRatio']\n",
    "pe_ratio"
   ]
  },
  {
   "cell_type": "code",
   "execution_count": null,
   "id": "da09c68d",
   "metadata": {},
   "outputs": [],
   "source": [
    "# Function sourced from \n",
    "# https://stackoverflow.com/questions/312443/how-do-you-split-a-list-into-evenly-sized-chunks\n",
    "def chunks(lst, n):\n",
    "    \"\"\"Yield successive n-sized chunks from lst.\"\"\"\n",
    "    for i in range(0, len(lst), n):\n",
    "        yield lst[i:i + n]   \n",
    "        \n",
    "symbol_groups = list(chunks(stocks['Ticker'], 100))\n",
    "symbol_strings = []\n",
    "for i in range(0, len(symbol_groups)):\n",
    "    symbol_strings.append(','.join(symbol_groups[i]))\n",
    "#     print(symbol_strings[i])\n",
    "\n",
    "my_columns = ['Ticker', 'Price', 'Price-to-Earnings Ratio', 'Number of Shares to Buy']"
   ]
  },
  {
   "cell_type": "code",
   "execution_count": null,
   "id": "724fd21d",
   "metadata": {},
   "outputs": [],
   "source": [
    "final_dataframe = pd.DataFrame(columns = my_columns)\n",
    "\n",
    "for symbol_string in symbol_strings:\n",
    "#     print(symbol_strings)\n",
    "    batch_api_call_url = f'https://sandbox.iexapis.com/stable/stock/market/batch/?types=quote&symbols={symbol_string}&token={IEX_CLOUD_API_TOKEN}'\n",
    "    data = requests.get(batch_api_call_url).json()\n",
    "    for symbol in symbol_string.split(','):\n",
    "        final_dataframe = final_dataframe.append(\n",
    "                                        pd.Series([symbol, \n",
    "                                                   data[symbol]['quote']['latestPrice'],\n",
    "                                                   data[symbol]['quote']['peRatio'],\n",
    "                                                   'N/A'\n",
    "                                                   ], \n",
    "                                                  index = my_columns), \n",
    "                                        ignore_index = True)\n",
    "        \n",
    "    \n",
    "final_dataframe"
   ]
  },
  {
   "cell_type": "code",
   "execution_count": null,
   "id": "8ff07d15",
   "metadata": {},
   "outputs": [],
   "source": [
    "final_dataframe.sort_values('Price-to-Earnings Ratio', inplace = True)\n",
    "final_dataframe = final_dataframe[final_dataframe['Price-to-Earnings Ratio'] > 0]\n",
    "final_dataframe = final_dataframe[:50]\n",
    "final_dataframe.reset_index(inplace = True)\n",
    "final_dataframe.drop('index', axis=1, inplace = True)"
   ]
  },
  {
   "cell_type": "code",
   "execution_count": null,
   "id": "28208a93",
   "metadata": {},
   "outputs": [],
   "source": [
    "def portfolio_input():\n",
    "    global portfolio_size\n",
    "    portfolio_size = input(\"Enter the value of your portfolio:\")\n",
    "\n",
    "    try:\n",
    "        val = float(portfolio_size)\n",
    "    except ValueError:\n",
    "        print(\"That's not a number! \\n Try again:\")\n",
    "        portfolio_size = input(\"Enter the value of your portfolio:\")"
   ]
  },
  {
   "cell_type": "code",
   "execution_count": null,
   "id": "6ec8270e",
   "metadata": {},
   "outputs": [],
   "source": [
    "portfolio_input()"
   ]
  },
  {
   "cell_type": "code",
   "execution_count": null,
   "id": "ca8c58c4",
   "metadata": {},
   "outputs": [],
   "source": [
    "position_size = float(portfolio_size) / len(final_dataframe.index)\n",
    "for i in range(0, len(final_dataframe['Ticker'])):\n",
    "    final_dataframe.loc[i, 'Number of Shares to Buy'] = math.floor(position_size / final_dataframe['Price'][i])\n",
    "final_dataframe"
   ]
  },
  {
   "cell_type": "code",
   "execution_count": null,
   "id": "6792aeb7",
   "metadata": {},
   "outputs": [],
   "source": [
    "symbol = 'AAPL'\n",
    "batch_api_call_url = f'https://sandbox.iexapis.com/stable/stock/market/batch/?types=advanced-stats,quote&symbols={symbol}&token={IEX_CLOUD_API_TOKEN}'\n",
    "data = requests.get(batch_api_call_url).json()\n",
    "\n",
    "# P/E Ratio\n",
    "pe_ratio = data[symbol]['quote']['peRatio']\n",
    "\n",
    "# P/B Ratio\n",
    "pb_ratio = data[symbol]['advanced-stats']['priceToBook']\n",
    "\n",
    "#P/S Ratio\n",
    "ps_ratio = data[symbol]['advanced-stats']['priceToSales']\n",
    "\n",
    "# EV/EBITDA\n",
    "enterprise_value = data[symbol]['advanced-stats']['enterpriseValue']\n",
    "ebitda = data[symbol]['advanced-stats']['EBITDA']\n",
    "ev_to_ebitda = enterprise_value/ebitda\n",
    "\n",
    "# EV/GP\n",
    "gross_profit = data[symbol]['advanced-stats']['grossProfit']\n",
    "ev_to_gross_profit = enterprise_value/gross_profit"
   ]
  },
  {
   "cell_type": "code",
   "execution_count": null,
   "id": "7a498271",
   "metadata": {},
   "outputs": [],
   "source": [
    "rv_columns = [\n",
    "    'Ticker',\n",
    "    'Price',\n",
    "    'Number of Shares to Buy', \n",
    "    'Price-to-Earnings Ratio',\n",
    "    'PE Percentile',\n",
    "    'Price-to-Book Ratio',\n",
    "    'PB Percentile',\n",
    "    'Price-to-Sales Ratio',\n",
    "    'PS Percentile',\n",
    "    'EV/EBITDA',\n",
    "    'EV/EBITDA Percentile',\n",
    "    'EV/GP',\n",
    "    'EV/GP Percentile',\n",
    "    'RV Score'\n",
    "]\n",
    "\n",
    "rv_dataframe = pd.DataFrame(columns = rv_columns)\n",
    "\n",
    "for symbol_string in symbol_strings:\n",
    "    batch_api_call_url = f'https://sandbox.iexapis.com/stable/stock/market/batch?symbols={symbol_string}&types=quote,advanced-stats&token={IEX_CLOUD_API_TOKEN}'\n",
    "    data = requests.get(batch_api_call_url).json()\n",
    "    for symbol in symbol_string.split(','):\n",
    "        enterprise_value = data[symbol]['advanced-stats']['enterpriseValue']\n",
    "        ebitda = data[symbol]['advanced-stats']['EBITDA']\n",
    "        gross_profit = data[symbol]['advanced-stats']['grossProfit']\n",
    "        \n",
    "        try:\n",
    "            ev_to_ebitda = enterprise_value/ebitda\n",
    "        except TypeError:\n",
    "            ev_to_ebitda = np.NaN\n",
    "        \n",
    "        try:\n",
    "            ev_to_gross_profit = enterprise_value/gross_profit\n",
    "        except TypeError:\n",
    "            ev_to_gross_profit = np.NaN\n",
    "            \n",
    "        rv_dataframe = rv_dataframe.append(\n",
    "            pd.Series([\n",
    "                symbol,\n",
    "                data[symbol]['quote']['latestPrice'],\n",
    "                'N/A',\n",
    "                data[symbol]['quote']['peRatio'],\n",
    "                'N/A',\n",
    "                data[symbol]['advanced-stats']['priceToBook'],\n",
    "                'N/A',\n",
    "                data[symbol]['advanced-stats']['priceToSales'],\n",
    "                'N/A',\n",
    "                ev_to_ebitda,\n",
    "                'N/A',\n",
    "                ev_to_gross_profit,\n",
    "                'N/A',\n",
    "                'N/A'\n",
    "        ],\n",
    "        index = rv_columns),\n",
    "            ignore_index = True\n",
    "        )"
   ]
  },
  {
   "cell_type": "code",
   "execution_count": null,
   "id": "7810692f",
   "metadata": {},
   "outputs": [],
   "source": [
    "rv_dataframe[rv_dataframe.isnull().any(axis=1)]"
   ]
  },
  {
   "cell_type": "code",
   "execution_count": null,
   "id": "1e883a01",
   "metadata": {},
   "outputs": [],
   "source": [
    "for column in ['Price-to-Earnings Ratio', 'Price-to-Book Ratio','Price-to-Sales Ratio',  'EV/EBITDA','EV/GP']:\n",
    "    rv_dataframe[column].fillna(rv_dataframe[column].mean(), inplace = True)"
   ]
  },
  {
   "cell_type": "code",
   "execution_count": null,
   "id": "4e455941",
   "metadata": {},
   "outputs": [],
   "source": [
    "rv_dataframe[rv_dataframe.isnull().any(axis=1)]"
   ]
  },
  {
   "cell_type": "code",
   "execution_count": null,
   "id": "a08612fe",
   "metadata": {},
   "outputs": [],
   "source": [
    "metrics = {\n",
    "            'Price-to-Earnings Ratio': 'PE Percentile',\n",
    "            'Price-to-Book Ratio':'PB Percentile',\n",
    "            'Price-to-Sales Ratio': 'PS Percentile',\n",
    "            'EV/EBITDA':'EV/EBITDA Percentile',\n",
    "            'EV/GP':'EV/GP Percentile'\n",
    "}\n",
    "\n",
    "for row in rv_dataframe.index:\n",
    "    for metric in metrics.keys():\n",
    "        rv_dataframe.loc[row, metrics[metric]] = stats.percentileofscore(rv_dataframe[metric], rv_dataframe.loc[row, metric])/100\n",
    "\n",
    "# Print each percentile score to make sure it was calculated properly\n",
    "for metric in metrics.values():\n",
    "    print(rv_dataframe[metric])\n",
    "\n",
    "#Print the entire DataFrame    \n",
    "rv_dataframe"
   ]
  },
  {
   "cell_type": "code",
   "execution_count": null,
   "id": "4a40a78f",
   "metadata": {},
   "outputs": [],
   "source": [
    "from statistics import mean\n",
    "\n",
    "for row in rv_dataframe.index:\n",
    "    value_percentiles = []\n",
    "    for metric in metrics.keys():\n",
    "        value_percentiles.append(rv_dataframe.loc[row, metrics[metric]])\n",
    "    rv_dataframe.loc[row, 'RV Score'] = mean(value_percentiles)\n",
    "    \n",
    "rv_dataframe"
   ]
  },
  {
   "cell_type": "code",
   "execution_count": null,
   "id": "6c0ed70a",
   "metadata": {},
   "outputs": [],
   "source": [
    "rv_dataframe.sort_values(by = 'RV Score', inplace = True)\n",
    "rv_dataframe = rv_dataframe[:50]\n",
    "rv_dataframe.reset_index(drop = True, inplace = True)"
   ]
  },
  {
   "cell_type": "code",
   "execution_count": null,
   "id": "10966ad7",
   "metadata": {},
   "outputs": [],
   "source": [
    "portfolio_input()"
   ]
  },
  {
   "cell_type": "code",
   "execution_count": null,
   "id": "03d8eca9",
   "metadata": {},
   "outputs": [],
   "source": [
    "position_size = float(portfolio_size) / len(rv_dataframe.index)\n",
    "for i in range(0, len(rv_dataframe['Ticker'])-1):\n",
    "    rv_dataframe.loc[i, 'Number of Shares to Buy'] = math.floor(position_size / rv_dataframe['Price'][i])\n",
    "rv_dataframe"
   ]
  },
  {
   "cell_type": "code",
   "execution_count": null,
   "id": "ccf6c348",
   "metadata": {},
   "outputs": [],
   "source": []
  },
  {
   "cell_type": "code",
   "execution_count": null,
   "id": "4ce4eb6b",
   "metadata": {},
   "outputs": [],
   "source": []
  },
  {
   "cell_type": "code",
   "execution_count": null,
   "id": "cd739abe",
   "metadata": {},
   "outputs": [],
   "source": []
  },
  {
   "cell_type": "code",
   "execution_count": null,
   "id": "f0d630a7",
   "metadata": {},
   "outputs": [],
   "source": []
  },
  {
   "cell_type": "code",
   "execution_count": null,
   "id": "e5b8b811",
   "metadata": {},
   "outputs": [],
   "source": []
  },
  {
   "cell_type": "code",
   "execution_count": null,
   "id": "3e0d8172",
   "metadata": {},
   "outputs": [],
   "source": []
  },
  {
   "cell_type": "code",
   "execution_count": 109,
   "id": "f0d60b44",
   "metadata": {},
   "outputs": [
    {
     "data": {
      "image/png": "[encoded data removed]",
      "text/plain": [
       "<Figure size 1080x576 with 1 Axes>"
      ]
     },
     "metadata": {},
     "output_type": "display_data"
    }
   ],
   "source": [
    "def get_intraday_prices(symbol):\n",
    "    ticker = symbol\n",
    "    iex_api_key = 'pk_ \n",
    "    url = f'https://cloud.iexapis.com/stable/stock/{ticker}/intraday-prices?token={iex_api_key}'\n",
    "    df = requests.get(url).json()\n",
    "    date = df[1]['date']\n",
    "        \n",
    "    time = []\n",
    "    open = []\n",
    "    high = []\n",
    "    low = []\n",
    "    close = []\n",
    "    volume = []\n",
    "    number_of_trades = []\n",
    "    \n",
    "    for i in range(len(df)):\n",
    "        time.append(df[i]['label'])\n",
    "        open.append(df[i]['open'])\n",
    "        high.append(df[i]['high'])\n",
    "        low.append(df[i]['low'])\n",
    "        close.append(df[i]['close'])\n",
    "        volume.append(df[i]['volume'])\n",
    "        number_of_trades.append(df[i]['numberOfTrades'])\n",
    "        \n",
    "    time_df = pd.DataFrame(time).rename(columns = {0:'Time'})\n",
    "    open_df = pd.DataFrame(open).rename(columns = {0:'Open'})\n",
    "    high_df = pd.DataFrame(high).rename(columns = {0:'High'})\n",
    "    low_df = pd.DataFrame(low).rename(columns = {0:'Low'})\n",
    "    close_df = pd.DataFrame(close).rename(columns = {0:'Close'})\n",
    "    volume_df = pd.DataFrame(volume).rename(columns = {0:'Volume'})\n",
    "    number_of_trades_df = pd.DataFrame(number_of_trades).rename(columns = {0:'Number of Trades'})\n",
    "     \n",
    "    frames = [time_df, open_df, high_df, low_df, close_df, volume_df, number_of_trades_df]\n",
    "    df = pd.concat(frames, axis = 1, join = 'inner')\n",
    "    df = df.set_index('Time')\n",
    "    \n",
    "    df['Open'].plot()\n",
    "    plt.title(f'{ticker} Intraday Prices on {date}', fontsize = 18)\n",
    "    plt.xlabel('Time', fontsize = 14)\n",
    "    plt.ylabel('Stock Price', fontsize = 14)\n",
    "    plt.xticks(fontsize = 12)\n",
    "    plt.yticks(fontsize = 12)\n",
    "    plt.show()\n",
    "    \n",
    "    return df\n",
    "\n",
    "aapl_intra = get_intraday_prices('AAPL')"
   ]
  },
  {
   "cell_type": "code",
   "execution_count": null,
   "id": "ecdf6ca8",
   "metadata": {},
   "outputs": [],
   "source": []
  },
  {
   "cell_type": "code",
   "execution_count": null,
   "id": "108af22a",
   "metadata": {},
   "outputs": [],
   "source": []
  },
  {
   "cell_type": "code",
   "execution_count": null,
   "id": "d2451296",
   "metadata": {},
   "outputs": [],
   "source": []
  },
  {
   "cell_type": "code",
   "execution_count": null,
   "id": "171cd0e9",
   "metadata": {},
   "outputs": [],
   "source": []
  },
  {
   "cell_type": "code",
   "execution_count": 40,
   "id": "96506e64",
   "metadata": {},
   "outputs": [
    {
     "ename": "FileNotFoundError",
     "evalue": "[Errno 2] No such file or directory: 'sp_500_stocks.csv'",
     "output_type": "error",
     "traceback": [
      "\u001b[1;31m---------------------------------------------------------------------------\u001b[0m",
      "\u001b[1;31mFileNotFoundError\u001b[0m                         Traceback (most recent call last)",
      "\u001b[1;32mC:\\Users\\MARGAR~1\\AppData\\Local\\Temp/ipykernel_16036/378128298.py\u001b[0m in \u001b[0;36m<module>\u001b[1;34m\u001b[0m\n\u001b[1;32m----> 1\u001b[1;33m \u001b[0mstocks\u001b[0m \u001b[1;33m=\u001b[0m \u001b[0mpd\u001b[0m\u001b[1;33m.\u001b[0m\u001b[0mread_csv\u001b[0m\u001b[1;33m(\u001b[0m\u001b[1;34m'sp_500_stocks.csv'\u001b[0m\u001b[1;33m)\u001b[0m\u001b[1;33m\u001b[0m\u001b[1;33m\u001b[0m\u001b[0m\n\u001b[0m",
      "\u001b[1;32m~\\Anaconda3\\lib\\site-packages\\pandas\\util\\_decorators.py\u001b[0m in \u001b[0;36mwrapper\u001b[1;34m(*args, **kwargs)\u001b[0m\n\u001b[0;32m    309\u001b[0m                     \u001b[0mstacklevel\u001b[0m\u001b[1;33m=\u001b[0m\u001b[0mstacklevel\u001b[0m\u001b[1;33m,\u001b[0m\u001b[1;33m\u001b[0m\u001b[1;33m\u001b[0m\u001b[0m\n\u001b[0;32m    310\u001b[0m                 )\n\u001b[1;32m--> 311\u001b[1;33m             \u001b[1;32mreturn\u001b[0m \u001b[0mfunc\u001b[0m\u001b[1;33m(\u001b[0m\u001b[1;33m*\u001b[0m\u001b[0margs\u001b[0m\u001b[1;33m,\u001b[0m \u001b[1;33m**\u001b[0m\u001b[0mkwargs\u001b[0m\u001b[1;33m)\u001b[0m\u001b[1;33m\u001b[0m\u001b[1;33m\u001b[0m\u001b[0m\n\u001b[0m\u001b[0;32m    312\u001b[0m \u001b[1;33m\u001b[0m\u001b[0m\n\u001b[0;32m    313\u001b[0m         \u001b[1;32mreturn\u001b[0m \u001b[0mwrapper\u001b[0m\u001b[1;33m\u001b[0m\u001b[1;33m\u001b[0m\u001b[0m\n",
      "\u001b[1;32m~\\Anaconda3\\lib\\site-packages\\pandas\\io\\parsers\\readers.py\u001b[0m in \u001b[0;36mread_csv\u001b[1;34m(filepath_or_buffer, sep, delimiter, header, names, index_col, usecols, squeeze, prefix, mangle_dupe_cols, dtype, engine, converters, true_values, false_values, skipinitialspace, skiprows, skipfooter, nrows, na_values, keep_default_na, na_filter, verbose, skip_blank_lines, parse_dates, infer_datetime_format, keep_date_col, date_parser, dayfirst, cache_dates, iterator, chunksize, compression, thousands, decimal, lineterminator, quotechar, quoting, doublequote, escapechar, comment, encoding, encoding_errors, dialect, error_bad_lines, warn_bad_lines, on_bad_lines, delim_whitespace, low_memory, memory_map, float_precision, storage_options)\u001b[0m\n\u001b[0;32m    676\u001b[0m     \u001b[0mkwds\u001b[0m\u001b[1;33m.\u001b[0m\u001b[0mupdate\u001b[0m\u001b[1;33m(\u001b[0m\u001b[0mkwds_defaults\u001b[0m\u001b[1;33m)\u001b[0m\u001b[1;33m\u001b[0m\u001b[1;33m\u001b[0m\u001b[0m\n\u001b[0;32m    677\u001b[0m \u001b[1;33m\u001b[0m\u001b[0m\n\u001b[1;32m--> 678\u001b[1;33m     \u001b[1;32mreturn\u001b[0m \u001b[0m_read\u001b[0m\u001b[1;33m(\u001b[0m\u001b[0mfilepath_or_buffer\u001b[0m\u001b[1;33m,\u001b[0m \u001b[0mkwds\u001b[0m\u001b[1;33m)\u001b[0m\u001b[1;33m\u001b[0m\u001b[1;33m\u001b[0m\u001b[0m\n\u001b[0m\u001b[0;32m    679\u001b[0m \u001b[1;33m\u001b[0m\u001b[0m\n\u001b[0;32m    680\u001b[0m \u001b[1;33m\u001b[0m\u001b[0m\n",
      "\u001b[1;32m~\\Anaconda3\\lib\\site-packages\\pandas\\io\\parsers\\readers.py\u001b[0m in \u001b[0;36m_read\u001b[1;34m(filepath_or_buffer, kwds)\u001b[0m\n\u001b[0;32m    573\u001b[0m \u001b[1;33m\u001b[0m\u001b[0m\n\u001b[0;32m    574\u001b[0m     \u001b[1;31m# Create the parser.\u001b[0m\u001b[1;33m\u001b[0m\u001b[1;33m\u001b[0m\u001b[0m\n\u001b[1;32m--> 575\u001b[1;33m     \u001b[0mparser\u001b[0m \u001b[1;33m=\u001b[0m \u001b[0mTextFileReader\u001b[0m\u001b[1;33m(\u001b[0m\u001b[0mfilepath_or_buffer\u001b[0m\u001b[1;33m,\u001b[0m \u001b[1;33m**\u001b[0m\u001b[0mkwds\u001b[0m\u001b[1;33m)\u001b[0m\u001b[1;33m\u001b[0m\u001b[1;33m\u001b[0m\u001b[0m\n\u001b[0m\u001b[0;32m    576\u001b[0m \u001b[1;33m\u001b[0m\u001b[0m\n\u001b[0;32m    577\u001b[0m     \u001b[1;32mif\u001b[0m \u001b[0mchunksize\u001b[0m \u001b[1;32mor\u001b[0m \u001b[0miterator\u001b[0m\u001b[1;33m:\u001b[0m\u001b[1;33m\u001b[0m\u001b[1;33m\u001b[0m\u001b[0m\n",
      "\u001b[1;32m~\\Anaconda3\\lib\\site-packages\\pandas\\io\\parsers\\readers.py\u001b[0m in \u001b[0;36m__init__\u001b[1;34m(self, f, engine, **kwds)\u001b[0m\n\u001b[0;32m    930\u001b[0m \u001b[1;33m\u001b[0m\u001b[0m\n\u001b[0;32m    931\u001b[0m         \u001b[0mself\u001b[0m\u001b[1;33m.\u001b[0m\u001b[0mhandles\u001b[0m\u001b[1;33m:\u001b[0m \u001b[0mIOHandles\u001b[0m \u001b[1;33m|\u001b[0m \u001b[1;32mNone\u001b[0m \u001b[1;33m=\u001b[0m \u001b[1;32mNone\u001b[0m\u001b[1;33m\u001b[0m\u001b[1;33m\u001b[0m\u001b[0m\n\u001b[1;32m--> 932\u001b[1;33m         \u001b[0mself\u001b[0m\u001b[1;33m.\u001b[0m\u001b[0m_engine\u001b[0m \u001b[1;33m=\u001b[0m \u001b[0mself\u001b[0m\u001b[1;33m.\u001b[0m\u001b[0m_make_engine\u001b[0m\u001b[1;33m(\u001b[0m\u001b[0mf\u001b[0m\u001b[1;33m,\u001b[0m \u001b[0mself\u001b[0m\u001b[1;33m.\u001b[0m\u001b[0mengine\u001b[0m\u001b[1;33m)\u001b[0m\u001b[1;33m\u001b[0m\u001b[1;33m\u001b[0m\u001b[0m\n\u001b[0m\u001b[0;32m    933\u001b[0m \u001b[1;33m\u001b[0m\u001b[0m\n\u001b[0;32m    934\u001b[0m     \u001b[1;32mdef\u001b[0m \u001b[0mclose\u001b[0m\u001b[1;33m(\u001b[0m\u001b[0mself\u001b[0m\u001b[1;33m)\u001b[0m\u001b[1;33m:\u001b[0m\u001b[1;33m\u001b[0m\u001b[1;33m\u001b[0m\u001b[0m\n",
      "\u001b[1;32m~\\Anaconda3\\lib\\site-packages\\pandas\\io\\parsers\\readers.py\u001b[0m in \u001b[0;36m_make_engine\u001b[1;34m(self, f, engine)\u001b[0m\n\u001b[0;32m   1214\u001b[0m             \u001b[1;31m# \"Union[str, PathLike[str], ReadCsvBuffer[bytes], ReadCsvBuffer[str]]\"\u001b[0m\u001b[1;33m\u001b[0m\u001b[1;33m\u001b[0m\u001b[0m\n\u001b[0;32m   1215\u001b[0m             \u001b[1;31m# , \"str\", \"bool\", \"Any\", \"Any\", \"Any\", \"Any\", \"Any\"\u001b[0m\u001b[1;33m\u001b[0m\u001b[1;33m\u001b[0m\u001b[0m\n\u001b[1;32m-> 1216\u001b[1;33m             self.handles = get_handle(  # type: ignore[call-overload]\n\u001b[0m\u001b[0;32m   1217\u001b[0m                 \u001b[0mf\u001b[0m\u001b[1;33m,\u001b[0m\u001b[1;33m\u001b[0m\u001b[1;33m\u001b[0m\u001b[0m\n\u001b[0;32m   1218\u001b[0m                 \u001b[0mmode\u001b[0m\u001b[1;33m,\u001b[0m\u001b[1;33m\u001b[0m\u001b[1;33m\u001b[0m\u001b[0m\n",
      "\u001b[1;32m~\\Anaconda3\\lib\\site-packages\\pandas\\io\\common.py\u001b[0m in \u001b[0;36mget_handle\u001b[1;34m(path_or_buf, mode, encoding, compression, memory_map, is_text, errors, storage_options)\u001b[0m\n\u001b[0;32m    784\u001b[0m         \u001b[1;32mif\u001b[0m \u001b[0mioargs\u001b[0m\u001b[1;33m.\u001b[0m\u001b[0mencoding\u001b[0m \u001b[1;32mand\u001b[0m \u001b[1;34m\"b\"\u001b[0m \u001b[1;32mnot\u001b[0m \u001b[1;32min\u001b[0m \u001b[0mioargs\u001b[0m\u001b[1;33m.\u001b[0m\u001b[0mmode\u001b[0m\u001b[1;33m:\u001b[0m\u001b[1;33m\u001b[0m\u001b[1;33m\u001b[0m\u001b[0m\n\u001b[0;32m    785\u001b[0m             \u001b[1;31m# Encoding\u001b[0m\u001b[1;33m\u001b[0m\u001b[1;33m\u001b[0m\u001b[0m\n\u001b[1;32m--> 786\u001b[1;33m             handle = open(\n\u001b[0m\u001b[0;32m    787\u001b[0m                 \u001b[0mhandle\u001b[0m\u001b[1;33m,\u001b[0m\u001b[1;33m\u001b[0m\u001b[1;33m\u001b[0m\u001b[0m\n\u001b[0;32m    788\u001b[0m                 \u001b[0mioargs\u001b[0m\u001b[1;33m.\u001b[0m\u001b[0mmode\u001b[0m\u001b[1;33m,\u001b[0m\u001b[1;33m\u001b[0m\u001b[1;33m\u001b[0m\u001b[0m\n",
      "\u001b[1;31mFileNotFoundError\u001b[0m: [Errno 2] No such file or directory: 'sp_500_stocks.csv'"
     ]
    }
   ],
   "source": [
    "stocks = pd.read_csv('sp_500_stocks.csv')"
   ]
  },
  {
   "cell_type": "code",
   "execution_count": null,
   "id": "e6cb2754",
   "metadata": {},
   "outputs": [],
   "source": []
  }
 ],
 "metadata": {
  "kernelspec": {
   "display_name": "Python 3 (ipykernel)",
   "language": "python",
   "name": "python3"
  },
  "language_info": {
   "codemirror_mode": {
    "name": "ipython",
    "version": 3
   },
   "file_extension": ".py",
   "mimetype": "text/x-python",
   "name": "python",
   "nbconvert_exporter": "python",
   "pygments_lexer": "ipython3",
   "version": "3.9.7"
  }
 },
 "nbformat": 4,
 "nbformat_minor": 5
}
